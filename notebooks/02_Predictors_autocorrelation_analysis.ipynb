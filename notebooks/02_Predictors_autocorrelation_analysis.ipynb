{
 "cells": [
  {
   "cell_type": "markdown",
   "metadata": {},
   "source": [
    "# Predictors autocorrelation analysis\n",
    "\n",
    "This code tests the autocorrelation of environmental variables in the area of China, across the past 8000 years. It is used to select predictors for the analysis from the clusters of highly correlated variables and plots them as [ESM 6](../outputs/ESM_6.pdf)."
   ]
  },
  {
   "cell_type": "code",
   "execution_count": null,
   "metadata": {},
   "outputs": [],
   "source": [
    "# Libraries:\n",
    "\n",
    "library(here) # setting the paths\n",
    "library(corrplot) # plotting correlation\n",
    "library(dendextend) # plotting dendrogram\n",
    "library(data.table) # working with data frames:\n",
    "library(raster) # working with raster layers"
   ]
  },
  {
   "cell_type": "code",
   "execution_count": 2,
   "metadata": {},
   "outputs": [],
   "source": [
    "### Define paths\n",
    "\n",
    "# Paths to existing files\n",
    "path2past <- here(\"data\",\"environmental\",\"past\")\n",
    "path2present <- here(\"data\",\"environmental\",\"present\",\"masked\")\n",
    "path2env_table<-here(\"outputs\",\"01_01_Predictor_variables.csv\")\n",
    "\n",
    "# Paths to outputs\n",
    "path2pearson <- here(\"outputs\",\"02_01_Predictors_autocorrelation.csv\")\n",
    "path2corrplot <- here(\"outputs\",\"02_02_Predictors_corrplot.tiff\")\n",
    "path2dendrogram<-here(\"outputs\",\"ESM_6.pdf\")"
   ]
  },
  {
   "cell_type": "code",
   "execution_count": 3,
   "metadata": {},
   "outputs": [],
   "source": [
    "### Load data\n",
    "# Load the list of variables names (will be needed to change the names later):\n",
    "var_list<-read.csv(path2env_table)"
   ]
  },
  {
   "cell_type": "code",
   "execution_count": 4,
   "metadata": {},
   "outputs": [],
   "source": [
    "# Get list of folders that contain past environmental layers\n",
    "layers<-list.files(path=path2past,full.names=TRUE)\n",
    "# Include only npp, and bioclimatic variables, with the exception of BIO3, BIO14, and BIO15, as these are known to cause issues\n",
    "layers<-subset(layers,lapply(layers, grepl,pattern=\"BIO|npp\")==TRUE &lapply(layers, grepl,pattern=\"BIO3|BIO14|BIO15\")==FALSE)\n",
    "layers<-paste(layers,\"//masked//\",sep=\"\")\n",
    "# Get list of files in the folder for each variable\n",
    "layers<-lapply(layers,list.files,full.names=TRUE, pattern=\".tif\")"
   ]
  },
  {
   "cell_type": "code",
   "execution_count": 5,
   "metadata": {},
   "outputs": [],
   "source": [
    "# Make a list of stacks for each of the environmental variables:\n",
    "egv_list<-lapply(layers,raster::stack)\n",
    "# Make a list of stacks grouped by period\n",
    "egv_by_period<-c()\n",
    "for(i in 1:length(layers[[1]])){\n",
    "a<-raster::stack(lapply(egv_list, subset,i))\n",
    "egv_by_period[[i]]<-c(a)}\n",
    "egv_by_period <- unlist(egv_by_period)"
   ]
  },
  {
   "cell_type": "code",
   "execution_count": 6,
   "metadata": {},
   "outputs": [],
   "source": [
    "# Load layers for present climatic variables:\n",
    "p_layers<-list.files(path=path2present,pattern='tif',full.names=TRUE)\n",
    "# Get only the layers related to bioclimatic variables and net primary productivity, and exclude bioclimatic variables 3, 14 and 15, because of the recommendations\n",
    "p_layers<-subset(p_layers,lapply(p_layers, grepl,pattern=\"BIO|npp\")==TRUE &lapply(p_layers, grepl,pattern=\"BIO3|BIO14|BIO15\")==FALSE)\n",
    "# Join all rasters in a single object\n",
    "egv<-stack(p_layers)"
   ]
  },
  {
   "cell_type": "code",
   "execution_count": 7,
   "metadata": {},
   "outputs": [],
   "source": [
    "# Extract the dataframe of variables from all of the layers\n",
    "prd_list<-lapply(egv_by_period,values)\n",
    "prd_list<-lapply(prd_list,as.data.frame)\n",
    "prd_list<-lapply(prd_list,function(x){colnames(x)<-sub('_.*','',colnames(x))\n",
    "                                      return(x)})\n",
    "\n",
    "# Also extract the dataframe of variables for the present layer:\n",
    "pres<-values(egv)"
   ]
  },
  {
   "cell_type": "code",
   "execution_count": 8,
   "metadata": {},
   "outputs": [],
   "source": [
    "# Merges the data frame of present predictors with a data frame of past predictors\n",
    "predictors<-rbind(pres,rbindlist(prd_list))"
   ]
  },
  {
   "cell_type": "code",
   "execution_count": 9,
   "metadata": {},
   "outputs": [],
   "source": [
    "### Calculate the correlation coefficient matrix\n",
    "pearson<-cor(predictors, method = \"pearson\",use=\"complete.obs\")\n",
    "# Save the correlation coefficient matrix to csv\n",
    "write.csv(pearson, file=path2pearson,row.names=TRUE)"
   ]
  },
  {
   "cell_type": "code",
   "execution_count": 10,
   "metadata": {},
   "outputs": [
    {
     "data": {
      "text/html": [
       "<strong>png:</strong> 2"
      ],
      "text/latex": [
       "\\textbf{png:} 2"
      ],
      "text/markdown": [
       "**png:** 2"
      ],
      "text/plain": [
       "png \n",
       "  2 "
      ]
     },
     "metadata": {},
     "output_type": "display_data"
    }
   ],
   "source": [
    "### Create a graph showing the correlation coefficients\n",
    "# Set color palette\n",
    "col <- colorRampPalette(c(\"#BB4444\", \"#EE9988\", \"#FFFFFF\", \"#77AADD\", \"#4477AA\"))\n",
    "\n",
    "# Create a correlation plot and save it as a tiff file:\n",
    "tiff(path2corrplot, units=\"cm\", width=17.4, height=17.4, res=600,bg = \"transparent\")\n",
    "corrplot(as.matrix(pearson), method=\"color\", col=col(200),  \n",
    "         type=\"upper\", order=\"hclust\", \n",
    "         addCoef.col = \"black\", # Add coefficient of correlation\n",
    "         tl.col=\"black\", tl.srt=45, #Text label color and rotation\n",
    "         # Combine with significance\n",
    "         sig.level = 0.01, insig = \"blank\", \n",
    "         # hide correlation coefficient on the principal diagonal\n",
    "         diag=FALSE,number.cex=0.4,tl.cex=0.5\n",
    "         )\n",
    "dev.off()"
   ]
  },
  {
   "cell_type": "code",
   "execution_count": 11,
   "metadata": {},
   "outputs": [],
   "source": [
    "### Plot the dendrogram:\n",
    "# Transform the correlation coefficient into a data.frame\n",
    "cor.df<-as.data.frame(pearson)\n",
    "# Change the names for plotting in the dendrogram\n",
    "var_names<-colnames(cor.df)\n",
    "rownames(cor.df)<-colnames(cor.df) <-unlist(lapply(var_names,function(x){return(var_list[which(var_list[,1]==x),2])}))\n",
    "# Transfrom correlation matrix to distances\n",
    "var.dist <- abs(as.dist(cor.df))\n",
    "# Calculate dendrogram based on distance (less distance = more correlation)\n",
    "var.cluster <- hclust(1-var.dist)\n",
    "# Turn into dendrogram\n",
    "dd<-as.dendrogram(var.cluster)"
   ]
  },
  {
   "cell_type": "code",
   "execution_count": 12,
   "metadata": {},
   "outputs": [
    {
     "data": {
      "image/png": "[encoded data removed]",
      "text/plain": [
       "Plot with title \"\""
      ]
     },
     "metadata": {
      "image/png": {
       "height": 420,
       "width": 420
      }
     },
     "output_type": "display_data"
    }
   ],
   "source": [
    "# Plot the dendrogram showing the clusters of higly correlated predictors:\n",
    "labels_colors(dd) <- c(\"black\",\"red\",\"black\",\"red\",\"black\",\"red\",\"black\",\"black\",\"black\",\"black\",\"red\",\"black\",\"black\",\"red\",\"black\",\"black\")\n",
    "#pdf(path2dendrogram, width=6.85, height=6.85,bg = \"transparent\")\n",
    "par(mar=c(4,4,0,20))\n",
    "plot(dd, main=\"\",ylab=\"distance\", xlab=\"\",sub=NA, cex=0.75,col=c(\"red\",\"blue\",\"black\",\"yellow\"),horiz=T)\n",
    "abline(v=0.25, lty=2, lwd=2)\n",
    "#dev.off()"
   ]
  }
 ],
 "metadata": {
  "anaconda-cloud": {},
  "kernelspec": {
   "display_name": "R",
   "language": "R",
   "name": "ir"
  },
  "language_info": {
   "codemirror_mode": "r",
   "file_extension": ".r",
   "mimetype": "text/x-r-source",
   "name": "R",
   "pygments_lexer": "r",
   "version": "4.0.3"
  }
 },
 "nbformat": 4,
 "nbformat_minor": 1
}
