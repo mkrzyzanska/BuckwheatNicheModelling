{
 "cells": [
  {
   "cell_type": "code",
   "execution_count": 1,
   "metadata": {},
   "outputs": [
    {
     "data": {
      "text/html": [
       "1.6e+13"
      ],
      "text/latex": [
       "1.6e+13"
      ],
      "text/markdown": [
       "1.6e+13"
      ],
      "text/plain": [
       "[1] 1.6e+13"
      ]
     },
     "metadata": {},
     "output_type": "display_data"
    },
    {
     "name": "stderr",
     "output_type": "stream",
     "text": [
      "Loading required package: StanHeaders\n",
      "\n",
      "Loading required package: ggplot2\n",
      "\n",
      "rstan (Version 2.19.2, GitRev: 2e1f913d3ca3)\n",
      "\n",
      "For execution on a local, multicore CPU with excess RAM we recommend calling\n",
      "options(mc.cores = parallel::detectCores()).\n",
      "To avoid recompilation of unchanged Stan programs, we recommend calling\n",
      "rstan_options(auto_write = TRUE)\n",
      "\n",
      "For improved execution time, we recommend calling\n",
      "Sys.setenv(LOCAL_CPPFLAGS = '-march=native')\n",
      "although this causes Stan to throw an error on a few processors.\n",
      "\n",
      "Loading required package: sp\n",
      "\n",
      "rgdal: version: 1.4-8, (SVN revision 845)\n",
      " Geospatial Data Abstraction Library extensions to R successfully loaded\n",
      " Loaded GDAL runtime: GDAL 2.2.3, released 2017/11/20\n",
      " Path to GDAL shared files: C:/Users/ycrnm/Documents/R/win-library/3.5/rgdal/gdal\n",
      " GDAL binary built with GEOS: TRUE \n",
      " Loaded PROJ.4 runtime: Rel. 4.9.3, 15 August 2016, [PJ_VERSION: 493]\n",
      " Path to PROJ.4 shared files: C:/Users/ycrnm/Documents/R/win-library/3.5/rgdal/proj\n",
      " Linking to sp version: 1.3-2 \n",
      "\n",
      "This is bayesplot version 1.7.1\n",
      "\n",
      "- Online documentation and vignettes at mc-stan.org/bayesplot\n",
      "\n",
      "- bayesplot theme set to bayesplot::theme_default()\n",
      "\n",
      "   * Does _not_ affect other ggplot2 plots\n",
      "\n",
      "   * See ?bayesplot_theme_set for details on theme setting\n",
      "\n",
      "Loading required package: parallel\n",
      "\n",
      "rethinking (Version 1.59)\n",
      "\n",
      "Checking rgeos availability: TRUE\n",
      "\n",
      "\n",
      "Attaching package: 'tidyr'\n",
      "\n",
      "\n",
      "The following object is masked from 'package:rstan':\n",
      "\n",
      "    extract\n",
      "\n",
      "\n",
      "\n",
      "Attaching package: 'dplyr'\n",
      "\n",
      "\n",
      "The following objects are masked from 'package:stats':\n",
      "\n",
      "    filter, lag\n",
      "\n",
      "\n",
      "The following objects are masked from 'package:base':\n",
      "\n",
      "    intersect, setdiff, setequal, union\n",
      "\n",
      "\n",
      "Loading required package: magrittr\n",
      "\n",
      "\n",
      "Attaching package: 'magrittr'\n",
      "\n",
      "\n",
      "The following object is masked from 'package:tidyr':\n",
      "\n",
      "    extract\n",
      "\n",
      "\n",
      "The following object is masked from 'package:rstan':\n",
      "\n",
      "    extract\n",
      "\n",
      "\n",
      "\n",
      "********************************************************\n",
      "\n",
      "Note: As of version 1.0.0, cowplot does not change the\n",
      "\n",
      "  default ggplot2 theme anymore. To recover the previous\n",
      "\n",
      "  behavior, execute:\n",
      "  theme_set(theme_cowplot())\n",
      "\n",
      "********************************************************\n",
      "\n",
      "\n",
      "\n",
      "Attaching package: 'cowplot'\n",
      "\n",
      "\n",
      "The following object is masked from 'package:ggpubr':\n",
      "\n",
      "    get_legend\n",
      "\n",
      "\n",
      "\n",
      "Attaching package: 'raster'\n",
      "\n",
      "\n",
      "The following object is masked from 'package:ggpubr':\n",
      "\n",
      "    rotate\n",
      "\n",
      "\n",
      "The following object is masked from 'package:magrittr':\n",
      "\n",
      "    extract\n",
      "\n",
      "\n",
      "The following object is masked from 'package:dplyr':\n",
      "\n",
      "    select\n",
      "\n",
      "\n",
      "The following object is masked from 'package:tidyr':\n",
      "\n",
      "    extract\n",
      "\n",
      "\n",
      "The following object is masked from 'package:rethinking':\n",
      "\n",
      "    resample\n",
      "\n",
      "\n",
      "The following object is masked from 'package:rstan':\n",
      "\n",
      "    extract\n",
      "\n",
      "\n",
      "Linking to GEOS 3.6.1, GDAL 2.2.3, PROJ 4.9.3\n",
      "\n"
     ]
    }
   ],
   "source": [
    "Sys.setenv(\"R_MAX_VSIZE\" = 16e12)\n",
    "memory.limit(size=16e12)\n",
    "### Set working directory:\n",
    "setwd(\"G:\\\\My Drive\\\\SDM_China\\\\\")\n",
    "#setwd(\"/export/home/mk843/mnt/\")\n",
    "### Load libraries\n",
    "library(rstan)\n",
    "library(rgdal)\n",
    "library(\"bayesplot\")\n",
    "library(\"ggplot2\")\n",
    "library('grid') # For plotting with ggplot and grid\n",
    "library('rethinking') # use this for the link function and generating predictions\n",
    "library(\"maptools\")\n",
    "library(\"rgdal\")\n",
    "library(\"tidyr\")\n",
    "library(\"dplyr\")\n",
    "library(\"ggpubr\")\n",
    "library(\"cowplot\")\n",
    "library(raster) # for crs\n",
    "library(ggbeeswarm)\n",
    "library(tmap)\n",
    "library(sf)"
   ]
  },
  {
   "cell_type": "code",
   "execution_count": 3,
   "metadata": {},
   "outputs": [],
   "source": [
    "mname<-'parabolic_simple_iCAR'\n",
    "path2means<-paste('outputs/07_01_Future_means_',mname,\".png\",sep=\"\")\n",
    "path2predictions_plots <- paste('outputs/06_06_Posterior_Predictions_',mname,'.png',sep=\"\")\n",
    "path2locations<-\"data/fagopyrum_east_asia.csv\"\n",
    "path2pred_summary <- paste('outputs/05_04_Predictions_summary_',mname,\".csv\",sep=\"\")\n",
    "path2boxplot<-paste('outputs/07_01_Boxplot_',mname,\".png\",sep=\"\")\n",
    "path2bplots<-paste('outputs/07_02_Blots_',mname,\".png\",sep=\"\")\n",
    "path2bplots_area<-paste('outputs/07_03_Blots_area',mname,\".png\",sep=\"\")\n",
    "path2min<-paste('outputs/07_02_Min_values_',mname,\".csv\",sep=\"\")\n"
   ]
  },
  {
   "cell_type": "code",
   "execution_count": 4,
   "metadata": {},
   "outputs": [],
   "source": [
    "# Input files:\n",
    "\n",
    "#path2predictions <- paste('outputs/05_01_Posterior_Predi~ctions_',mname,'.csv',sep=\"\")\n",
    "path2prodData<-'data/china_data'"
   ]
  },
  {
   "cell_type": "code",
   "execution_count": 203,
   "metadata": {},
   "outputs": [],
   "source": [
    "# Output files:\n",
    "path2diffintTable<-('outputs/07_01_Predictions_errors_and_confidence_interval.csv')\n",
    "path2diffintPlot<-('outputs/07_02_Predictions_errors_and_confidence_interval.png')\n",
    "path2diffintPlotb<-('outputs/07_02B_Predictions_errors_and_confidence_interval_absolute_values.png')\n",
    "path2checkMaps<-('outputs/07_03_Posterior_predictions_maps.png')\n",
    "path2predMaps<-('outputs/07_03_Pas_predictions_maps.png')\n",
    "path2niche_summary<-('outputs/07_05_Niche_summary.csv')"
   ]
  },
  {
   "cell_type": "code",
   "execution_count": 3,
   "metadata": {},
   "outputs": [],
   "source": [
    "#predictions<-read.csv(path2pred_summary) # swap this for prediction summar in the boxplots:"
   ]
  },
  {
   "cell_type": "code",
   "execution_count": 7,
   "metadata": {},
   "outputs": [],
   "source": [
    "### Fagopyrum locations for China:\n",
    "#Import the table for Fagopyrum occurance records, based on (Hunt et al., 2017) and further evidence from the literature\n",
    "locations <- read.csv(path2locations)\n",
    "#locations <- read.csv(path2locations,fileEncoding=\"latin1\")\n",
    "# Trnsforma data into a spatial points data.frame\n",
    "coordinates(locations)<-~longitude+latitude\n",
    "locations<-subset(locations,Country==\"China\")"
   ]
  },
  {
   "cell_type": "code",
   "execution_count": 8,
   "metadata": {},
   "outputs": [
    {
     "name": "stdout",
     "output_type": "stream",
     "text": [
      "[1] \"2000 BP\"\n",
      "[1] \"3000 BP\"\n",
      "[1] \"4000 BP\"\n",
      "[1] \"5000 BP\"\n",
      "[1] \"6000 BP\"\n"
     ]
    }
   ],
   "source": [
    "start=1500\n",
    "loc<-subset(locations,end_date<=1500)\n",
    "loc$period <- \"1000 BP\"\n",
    "for (i in 1:5){\n",
    "    sub<-subset(locations,(end_date<=start+1000 & end_date>start)| (start_date>start & start_date<=start+1000 ))\n",
    "    start=start+1000\n",
    "    print(paste(start-500,\"BP\",sep=\" \"))\n",
    "    sub$period <- paste(start-500,\"BP\",sep=\" \")\n",
    "    loc<-rbind(loc,sub)\n",
    "}"
   ]
  },
  {
   "cell_type": "code",
   "execution_count": 7,
   "metadata": {},
   "outputs": [],
   "source": [
    "#china<-readOGR(dsn = \"data/china_predictions\", layer = \"china_predictions\")"
   ]
  },
  {
   "cell_type": "code",
   "execution_count": 144,
   "metadata": {},
   "outputs": [],
   "source": [
    "pred15k<-read.csv(\"outputs\\\\pred15k_summary.csv\")"
   ]
  },
  {
   "cell_type": "code",
   "execution_count": 145,
   "metadata": {},
   "outputs": [],
   "source": [
    "colnames(pred15k)<-paste(colnames(pred15k), \"15k\",sep=\"_\")"
   ]
  },
  {
   "cell_type": "code",
   "execution_count": 146,
   "metadata": {},
   "outputs": [
    {
     "data": {
      "text/html": [
       "<table>\n",
       "<caption>A data.frame: 6 × 7</caption>\n",
       "<thead>\n",
       "\t<tr><th></th><th scope=col>X_15k</th><th scope=col>X5._log_15k</th><th scope=col>X95._log_15k</th><th scope=col>means_pred_log_15k</th><th scope=col>X5._15k</th><th scope=col>X95._15k</th><th scope=col>means_pred_15k</th></tr>\n",
       "\t<tr><th></th><th scope=col>&lt;fct&gt;</th><th scope=col>&lt;dbl&gt;</th><th scope=col>&lt;dbl&gt;</th><th scope=col>&lt;dbl&gt;</th><th scope=col>&lt;dbl&gt;</th><th scope=col>&lt;dbl&gt;</th><th scope=col>&lt;dbl&gt;</th></tr>\n",
       "</thead>\n",
       "<tbody>\n",
       "\t<tr><th scope=row>1</th><td>county_pred</td><td>-11.81629</td><td>-8.756120</td><td>-12.74663</td><td>7.383283e-06</td><td>1.574946e-04</td><td>2.912129e-06</td></tr>\n",
       "\t<tr><th scope=row>2</th><td>county_pred</td><td>-12.13150</td><td>-9.269684</td><td>-12.86364</td><td>5.387126e-06</td><td>9.423833e-05</td><td>2.590546e-06</td></tr>\n",
       "\t<tr><th scope=row>3</th><td>county_pred</td><td>-11.32676</td><td>-8.343571</td><td>-11.46385</td><td>1.204624e-05</td><td>2.379213e-04</td><td>1.050298e-05</td></tr>\n",
       "\t<tr><th scope=row>4</th><td>county_pred</td><td>-12.36516</td><td>-8.651430</td><td>-12.96728</td><td>4.264618e-06</td><td>1.748766e-04</td><td>2.335504e-06</td></tr>\n",
       "\t<tr><th scope=row>5</th><td>county_pred</td><td>-11.69151</td><td>-8.437890</td><td>-11.27415</td><td>8.364494e-06</td><td>2.165064e-04</td><td>1.269699e-05</td></tr>\n",
       "\t<tr><th scope=row>6</th><td>county_pred</td><td>-11.61993</td><td>-8.370090</td><td>-11.73187</td><td>8.985192e-06</td><td>2.316947e-04</td><td>8.033630e-06</td></tr>\n",
       "</tbody>\n",
       "</table>\n"
      ],
      "text/latex": [
       "A data.frame: 6 × 7\n",
       "\\begin{tabular}{r|lllllll}\n",
       "  & X\\_15k & X5.\\_log\\_15k & X95.\\_log\\_15k & means\\_pred\\_log\\_15k & X5.\\_15k & X95.\\_15k & means\\_pred\\_15k\\\\\n",
       "  & <fct> & <dbl> & <dbl> & <dbl> & <dbl> & <dbl> & <dbl>\\\\\n",
       "\\hline\n",
       "\t1 & county\\_pred & -11.81629 & -8.756120 & -12.74663 & 7.383283e-06 & 1.574946e-04 & 2.912129e-06\\\\\n",
       "\t2 & county\\_pred & -12.13150 & -9.269684 & -12.86364 & 5.387126e-06 & 9.423833e-05 & 2.590546e-06\\\\\n",
       "\t3 & county\\_pred & -11.32676 & -8.343571 & -11.46385 & 1.204624e-05 & 2.379213e-04 & 1.050298e-05\\\\\n",
       "\t4 & county\\_pred & -12.36516 & -8.651430 & -12.96728 & 4.264618e-06 & 1.748766e-04 & 2.335504e-06\\\\\n",
       "\t5 & county\\_pred & -11.69151 & -8.437890 & -11.27415 & 8.364494e-06 & 2.165064e-04 & 1.269699e-05\\\\\n",
       "\t6 & county\\_pred & -11.61993 & -8.370090 & -11.73187 & 8.985192e-06 & 2.316947e-04 & 8.033630e-06\\\\\n",
       "\\end{tabular}\n"
      ],
      "text/markdown": [
       "\n",
       "A data.frame: 6 × 7\n",
       "\n",
       "| <!--/--> | X_15k &lt;fct&gt; | X5._log_15k &lt;dbl&gt; | X95._log_15k &lt;dbl&gt; | means_pred_log_15k &lt;dbl&gt; | X5._15k &lt;dbl&gt; | X95._15k &lt;dbl&gt; | means_pred_15k &lt;dbl&gt; |\n",
       "|---|---|---|---|---|---|---|---|\n",
       "| 1 | county_pred | -11.81629 | -8.756120 | -12.74663 | 7.383283e-06 | 1.574946e-04 | 2.912129e-06 |\n",
       "| 2 | county_pred | -12.13150 | -9.269684 | -12.86364 | 5.387126e-06 | 9.423833e-05 | 2.590546e-06 |\n",
       "| 3 | county_pred | -11.32676 | -8.343571 | -11.46385 | 1.204624e-05 | 2.379213e-04 | 1.050298e-05 |\n",
       "| 4 | county_pred | -12.36516 | -8.651430 | -12.96728 | 4.264618e-06 | 1.748766e-04 | 2.335504e-06 |\n",
       "| 5 | county_pred | -11.69151 | -8.437890 | -11.27415 | 8.364494e-06 | 2.165064e-04 | 1.269699e-05 |\n",
       "| 6 | county_pred | -11.61993 | -8.370090 | -11.73187 | 8.985192e-06 | 2.316947e-04 | 8.033630e-06 |\n",
       "\n"
      ],
      "text/plain": [
       "  X_15k       X5._log_15k X95._log_15k means_pred_log_15k X5._15k     \n",
       "1 county_pred -11.81629   -8.756120    -12.74663          7.383283e-06\n",
       "2 county_pred -12.13150   -9.269684    -12.86364          5.387126e-06\n",
       "3 county_pred -11.32676   -8.343571    -11.46385          1.204624e-05\n",
       "4 county_pred -12.36516   -8.651430    -12.96728          4.264618e-06\n",
       "5 county_pred -11.69151   -8.437890    -11.27415          8.364494e-06\n",
       "6 county_pred -11.61993   -8.370090    -11.73187          8.985192e-06\n",
       "  X95._15k     means_pred_15k\n",
       "1 1.574946e-04 2.912129e-06  \n",
       "2 9.423833e-05 2.590546e-06  \n",
       "3 2.379213e-04 1.050298e-05  \n",
       "4 1.748766e-04 2.335504e-06  \n",
       "5 2.165064e-04 1.269699e-05  \n",
       "6 2.316947e-04 8.033630e-06  "
      ]
     },
     "metadata": {},
     "output_type": "display_data"
    }
   ],
   "source": [
    "head(pred15k)"
   ]
  },
  {
   "cell_type": "code",
   "execution_count": 9,
   "metadata": {
    "collapsed": true
   },
   "outputs": [],
   "source": [
    "predictions<-cbind(predictions,pred15k)"
   ]
  },
  {
   "cell_type": "code",
   "execution_count": 34,
   "metadata": {
    "collapsed": true
   },
   "outputs": [],
   "source": [
    "threshold<- -8.869086946"
   ]
  },
  {
   "cell_type": "code",
   "execution_count": 5,
   "metadata": {},
   "outputs": [
    {
     "data": {
      "text/html": [
       "0.000140670969247023"
      ],
      "text/latex": [
       "0.000140670969247023"
      ],
      "text/markdown": [
       "0.000140670969247023"
      ],
      "text/plain": [
       "[1] 0.000140671"
      ]
     },
     "metadata": {},
     "output_type": "display_data"
    }
   ],
   "source": [
    "exp(threshold)"
   ]
  },
  {
   "cell_type": "code",
   "execution_count": 12,
   "metadata": {},
   "outputs": [
    {
     "data": {
      "text/html": [
       "<ol class=list-inline>\n",
       "\t<li>'china_sf'</li>\n",
       "\t<li>'i'</li>\n",
       "\t<li>'loc'</li>\n",
       "\t<li>'locations'</li>\n",
       "\t<li>'macros'</li>\n",
       "\t<li>'mname'</li>\n",
       "\t<li>'outer'</li>\n",
       "\t<li>'path2boxplot'</li>\n",
       "\t<li>'path2bplots'</li>\n",
       "\t<li>'path2bplots_area'</li>\n",
       "\t<li>'path2locations'</li>\n",
       "\t<li>'path2means'</li>\n",
       "\t<li>'path2min'</li>\n",
       "\t<li>'path2pred_summary'</li>\n",
       "\t<li>'path2predictions_plots'</li>\n",
       "\t<li>'periods'</li>\n",
       "\t<li>'predictions'</li>\n",
       "\t<li>'sb1'</li>\n",
       "\t<li>'sb2'</li>\n",
       "\t<li>'sb3'</li>\n",
       "\t<li>'sb4'</li>\n",
       "\t<li>'sb5'</li>\n",
       "\t<li>'sb6'</li>\n",
       "\t<li>'start'</li>\n",
       "\t<li>'sub'</li>\n",
       "\t<li>'threshold'</li>\n",
       "</ol>\n"
      ],
      "text/latex": [
       "\\begin{enumerate*}\n",
       "\\item 'china\\_sf'\n",
       "\\item 'i'\n",
       "\\item 'loc'\n",
       "\\item 'locations'\n",
       "\\item 'macros'\n",
       "\\item 'mname'\n",
       "\\item 'outer'\n",
       "\\item 'path2boxplot'\n",
       "\\item 'path2bplots'\n",
       "\\item 'path2bplots\\_area'\n",
       "\\item 'path2locations'\n",
       "\\item 'path2means'\n",
       "\\item 'path2min'\n",
       "\\item 'path2pred\\_summary'\n",
       "\\item 'path2predictions\\_plots'\n",
       "\\item 'periods'\n",
       "\\item 'predictions'\n",
       "\\item 'sb1'\n",
       "\\item 'sb2'\n",
       "\\item 'sb3'\n",
       "\\item 'sb4'\n",
       "\\item 'sb5'\n",
       "\\item 'sb6'\n",
       "\\item 'start'\n",
       "\\item 'sub'\n",
       "\\item 'threshold'\n",
       "\\end{enumerate*}\n"
      ],
      "text/markdown": [
       "1. 'china_sf'\n",
       "2. 'i'\n",
       "3. 'loc'\n",
       "4. 'locations'\n",
       "5. 'macros'\n",
       "6. 'mname'\n",
       "7. 'outer'\n",
       "8. 'path2boxplot'\n",
       "9. 'path2bplots'\n",
       "10. 'path2bplots_area'\n",
       "11. 'path2locations'\n",
       "12. 'path2means'\n",
       "13. 'path2min'\n",
       "14. 'path2pred_summary'\n",
       "15. 'path2predictions_plots'\n",
       "16. 'periods'\n",
       "17. 'predictions'\n",
       "18. 'sb1'\n",
       "19. 'sb2'\n",
       "20. 'sb3'\n",
       "21. 'sb4'\n",
       "22. 'sb5'\n",
       "23. 'sb6'\n",
       "24. 'start'\n",
       "25. 'sub'\n",
       "26. 'threshold'\n",
       "\n",
       "\n"
      ],
      "text/plain": [
       " [1] \"china_sf\"               \"i\"                      \"loc\"                   \n",
       " [4] \"locations\"              \"macros\"                 \"mname\"                 \n",
       " [7] \"outer\"                  \"path2boxplot\"           \"path2bplots\"           \n",
       "[10] \"path2bplots_area\"       \"path2locations\"         \"path2means\"            \n",
       "[13] \"path2min\"               \"path2pred_summary\"      \"path2predictions_plots\"\n",
       "[16] \"periods\"                \"predictions\"            \"sb1\"                   \n",
       "[19] \"sb2\"                    \"sb3\"                    \"sb4\"                   \n",
       "[22] \"sb5\"                    \"sb6\"                    \"start\"                 \n",
       "[25] \"sub\"                    \"threshold\"             "
      ]
     },
     "metadata": {},
     "output_type": "display_data"
    }
   ],
   "source": [
    "ls()"
   ]
  },
  {
   "cell_type": "code",
   "execution_count": 100,
   "metadata": {},
   "outputs": [
    {
     "data": {
      "text/html": [
       "<table>\n",
       "<caption>A data.frame: 6 × 19</caption>\n",
       "<thead>\n",
       "\t<tr><th></th><th scope=col>No.</th><th scope=col>Sample_type</th><th scope=col>Quantity</th><th scope=col>Sediment_type_pollen_cores</th><th scope=col>Site_section_name</th><th scope=col>Site_short</th><th scope=col>Province</th><th scope=col>Country</th><th scope=col>Taxonomic_identification</th><th scope=col>Dating_method</th><th scope=col>Dating_result</th><th scope=col>Reference</th><th scope=col>lon</th><th scope=col>lat</th><th scope=col>altitude..masl.</th><th scope=col>location_source</th><th scope=col>start_date</th><th scope=col>end_date</th><th scope=col>period</th></tr>\n",
       "\t<tr><th></th><th scope=col>&lt;int&gt;</th><th scope=col>&lt;fct&gt;</th><th scope=col>&lt;int&gt;</th><th scope=col>&lt;fct&gt;</th><th scope=col>&lt;fct&gt;</th><th scope=col>&lt;fct&gt;</th><th scope=col>&lt;fct&gt;</th><th scope=col>&lt;fct&gt;</th><th scope=col>&lt;fct&gt;</th><th scope=col>&lt;fct&gt;</th><th scope=col>&lt;fct&gt;</th><th scope=col>&lt;fct&gt;</th><th scope=col>&lt;fct&gt;</th><th scope=col>&lt;fct&gt;</th><th scope=col>&lt;dbl&gt;</th><th scope=col>&lt;fct&gt;</th><th scope=col>&lt;int&gt;</th><th scope=col>&lt;int&gt;</th><th scope=col>&lt;chr&gt;</th></tr>\n",
       "</thead>\n",
       "<tbody>\n",
       "\t<tr><th scope=row>1</th><td> 1</td><td>Pollen sequence</td><td>NA</td><td>Loess-palaeosol                     </td><td>Xindian section     </td><td>Xindian     </td><td>Shaanxi       </td><td>China</td><td>Fagopyrum. sp       </td><td>AMS 14C and OSL         </td><td>from 5500 cal BP</td><td>Li et al. 2009                </td><td>107°48'E    </td><td>34°23'N    </td><td> 608.0</td><td>Li et al. 2009          </td><td>5500</td><td>   0</td><td>1000 BP</td></tr>\n",
       "\t<tr><th scope=row>2</th><td> 2</td><td>Pollen sequence</td><td>NA</td><td>Loess-palaeosol                     </td><td>Beizhuangcun section</td><td>Beizhuangcun</td><td>Shaanxi       </td><td>China</td><td>Fagopyrum. sp       </td><td>Stratigraphic comparison</td><td>from 5000 cal BP</td><td>Shang and Li 2010             </td><td>109°32'E    </td><td>34°21'N    </td><td> 519.0</td><td>Shang and Li 2010       </td><td>5000</td><td>   0</td><td>1000 BP</td></tr>\n",
       "\t<tr><th scope=row>3</th><td> 3</td><td>Pollen sequence</td><td>NA</td><td>Alluvial sediment                   </td><td>WangXianggou site   </td><td>WangXianggou</td><td>Inner Mongolia</td><td>China</td><td>Fagopyrum. sp       </td><td>AMS 14C                 </td><td>from 4700 cal BP</td><td>Li et al. 2006                </td><td>119°55'E    </td><td>42°04'N    </td><td> 751.0</td><td>Li et al. 2006          </td><td>4700</td><td>   0</td><td>1000 BP</td></tr>\n",
       "\t<tr><th scope=row>4</th><td> 4</td><td>Pollen sequence</td><td>NA</td><td>Loess-palaeosol with cultural layers</td><td>Xishanping site     </td><td>Xishanping  </td><td>Gansu         </td><td>China</td><td>Fagopyrum. sp       </td><td>AMS 14C                 </td><td>from 4600 cal BP</td><td>Li et al. 2007, Cao et al 2019</td><td>105°32'41''E</td><td>34°33'50''N</td><td>1330.0</td><td>Li et al. 2007          </td><td>4600</td><td>   0</td><td>1000 BP</td></tr>\n",
       "\t<tr><th scope=row>10</th><td>10</td><td>Pollen sequence</td><td>NA</td><td>Alluvial sediment                   </td><td>H9602               </td><td>H9602       </td><td>Shandong      </td><td>China</td><td>Fagopyrum. sp       </td><td>AMS 14C                 </td><td>1300 cal BP     </td><td>Yi et al. 2003a               </td><td>118°54.3'E  </td><td>37°48.8'N  </td><td>   4.9</td><td>Yi et al. 2003a         </td><td>1300</td><td>1300</td><td>1000 BP</td></tr>\n",
       "\t<tr><th scope=row>11</th><td>11</td><td>Pollen sequence</td><td>NA</td><td>Alluvial sediment                   </td><td>Jinchuan site       </td><td>Jinchuan    </td><td>Jilin         </td><td>China</td><td>Fagopyrum esculentum</td><td>AMS 14C                 </td><td>1100 cal BP     </td><td>Makohonienko et al. 2008      </td><td>126°22'E    </td><td>42°20'N    </td><td> 665.0</td><td>Makohonienko et al. 2008</td><td>1100</td><td>1100</td><td>1000 BP</td></tr>\n",
       "</tbody>\n",
       "</table>\n"
      ],
      "text/latex": [
       "A data.frame: 6 × 19\n",
       "\\begin{tabular}{r|lllllllllllllllllll}\n",
       "  & No. & Sample\\_type & Quantity & Sediment\\_type\\_pollen\\_cores & Site\\_section\\_name & Site\\_short & Province & Country & Taxonomic\\_identification & Dating\\_method & Dating\\_result & Reference & lon & lat & altitude..masl. & location\\_source & start\\_date & end\\_date & period\\\\\n",
       "  & <int> & <fct> & <int> & <fct> & <fct> & <fct> & <fct> & <fct> & <fct> & <fct> & <fct> & <fct> & <fct> & <fct> & <dbl> & <fct> & <int> & <int> & <chr>\\\\\n",
       "\\hline\n",
       "\t1 &  1 & Pollen sequence & NA & Loess-palaeosol                      & Xindian section      & Xindian      & Shaanxi        & China & Fagopyrum. sp        & AMS 14C and OSL          & from 5500 cal BP & Li et al. 2009                 & 107°48'E     & 34°23'N     &  608.0 & Li et al. 2009           & 5500 &    0 & 1000 BP\\\\\n",
       "\t2 &  2 & Pollen sequence & NA & Loess-palaeosol                      & Beizhuangcun section & Beizhuangcun & Shaanxi        & China & Fagopyrum. sp        & Stratigraphic comparison & from 5000 cal BP & Shang and Li 2010              & 109°32'E     & 34°21'N     &  519.0 & Shang and Li 2010        & 5000 &    0 & 1000 BP\\\\\n",
       "\t3 &  3 & Pollen sequence & NA & Alluvial sediment                    & WangXianggou site    & WangXianggou & Inner Mongolia & China & Fagopyrum. sp        & AMS 14C                  & from 4700 cal BP & Li et al. 2006                 & 119°55'E     & 42°04'N     &  751.0 & Li et al. 2006           & 4700 &    0 & 1000 BP\\\\\n",
       "\t4 &  4 & Pollen sequence & NA & Loess-palaeosol with cultural layers & Xishanping site      & Xishanping   & Gansu          & China & Fagopyrum. sp        & AMS 14C                  & from 4600 cal BP & Li et al. 2007, Cao et al 2019 & 105°32'41''E & 34°33'50''N & 1330.0 & Li et al. 2007           & 4600 &    0 & 1000 BP\\\\\n",
       "\t10 & 10 & Pollen sequence & NA & Alluvial sediment                    & H9602                & H9602        & Shandong       & China & Fagopyrum. sp        & AMS 14C                  & 1300 cal BP      & Yi et al. 2003a                & 118°54.3'E   & 37°48.8'N   &    4.9 & Yi et al. 2003a          & 1300 & 1300 & 1000 BP\\\\\n",
       "\t11 & 11 & Pollen sequence & NA & Alluvial sediment                    & Jinchuan site        & Jinchuan     & Jilin          & China & Fagopyrum esculentum & AMS 14C                  & 1100 cal BP      & Makohonienko et al. 2008       & 126°22'E     & 42°20'N     &  665.0 & Makohonienko et al. 2008 & 1100 & 1100 & 1000 BP\\\\\n",
       "\\end{tabular}\n"
      ],
      "text/markdown": [
       "\n",
       "A data.frame: 6 × 19\n",
       "\n",
       "| <!--/--> | No. &lt;int&gt; | Sample_type &lt;fct&gt; | Quantity &lt;int&gt; | Sediment_type_pollen_cores &lt;fct&gt; | Site_section_name &lt;fct&gt; | Site_short &lt;fct&gt; | Province &lt;fct&gt; | Country &lt;fct&gt; | Taxonomic_identification &lt;fct&gt; | Dating_method &lt;fct&gt; | Dating_result &lt;fct&gt; | Reference &lt;fct&gt; | lon &lt;fct&gt; | lat &lt;fct&gt; | altitude..masl. &lt;dbl&gt; | location_source &lt;fct&gt; | start_date &lt;int&gt; | end_date &lt;int&gt; | period &lt;chr&gt; |\n",
       "|---|---|---|---|---|---|---|---|---|---|---|---|---|---|---|---|---|---|---|---|\n",
       "| 1 |  1 | Pollen sequence | NA | Loess-palaeosol                      | Xindian section      | Xindian      | Shaanxi        | China | Fagopyrum. sp        | AMS 14C and OSL          | from 5500 cal BP | Li et al. 2009                 | 107°48'E     | 34°23'N     |  608.0 | Li et al. 2009           | 5500 |    0 | 1000 BP |\n",
       "| 2 |  2 | Pollen sequence | NA | Loess-palaeosol                      | Beizhuangcun section | Beizhuangcun | Shaanxi        | China | Fagopyrum. sp        | Stratigraphic comparison | from 5000 cal BP | Shang and Li 2010              | 109°32'E     | 34°21'N     |  519.0 | Shang and Li 2010        | 5000 |    0 | 1000 BP |\n",
       "| 3 |  3 | Pollen sequence | NA | Alluvial sediment                    | WangXianggou site    | WangXianggou | Inner Mongolia | China | Fagopyrum. sp        | AMS 14C                  | from 4700 cal BP | Li et al. 2006                 | 119°55'E     | 42°04'N     |  751.0 | Li et al. 2006           | 4700 |    0 | 1000 BP |\n",
       "| 4 |  4 | Pollen sequence | NA | Loess-palaeosol with cultural layers | Xishanping site      | Xishanping   | Gansu          | China | Fagopyrum. sp        | AMS 14C                  | from 4600 cal BP | Li et al. 2007, Cao et al 2019 | 105°32'41''E | 34°33'50''N | 1330.0 | Li et al. 2007           | 4600 |    0 | 1000 BP |\n",
       "| 10 | 10 | Pollen sequence | NA | Alluvial sediment                    | H9602                | H9602        | Shandong       | China | Fagopyrum. sp        | AMS 14C                  | 1300 cal BP      | Yi et al. 2003a                | 118°54.3'E   | 37°48.8'N   |    4.9 | Yi et al. 2003a          | 1300 | 1300 | 1000 BP |\n",
       "| 11 | 11 | Pollen sequence | NA | Alluvial sediment                    | Jinchuan site        | Jinchuan     | Jilin          | China | Fagopyrum esculentum | AMS 14C                  | 1100 cal BP      | Makohonienko et al. 2008       | 126°22'E     | 42°20'N     |  665.0 | Makohonienko et al. 2008 | 1100 | 1100 | 1000 BP |\n",
       "\n"
      ],
      "text/plain": [
       "   No. Sample_type     Quantity Sediment_type_pollen_cores          \n",
       "1   1  Pollen sequence NA       Loess-palaeosol                     \n",
       "2   2  Pollen sequence NA       Loess-palaeosol                     \n",
       "3   3  Pollen sequence NA       Alluvial sediment                   \n",
       "4   4  Pollen sequence NA       Loess-palaeosol with cultural layers\n",
       "10 10  Pollen sequence NA       Alluvial sediment                   \n",
       "11 11  Pollen sequence NA       Alluvial sediment                   \n",
       "   Site_section_name    Site_short   Province       Country\n",
       "1  Xindian section      Xindian      Shaanxi        China  \n",
       "2  Beizhuangcun section Beizhuangcun Shaanxi        China  \n",
       "3  WangXianggou site    WangXianggou Inner Mongolia China  \n",
       "4  Xishanping site      Xishanping   Gansu          China  \n",
       "10 H9602                H9602        Shandong       China  \n",
       "11 Jinchuan site        Jinchuan     Jilin          China  \n",
       "   Taxonomic_identification Dating_method            Dating_result   \n",
       "1  Fagopyrum. sp            AMS 14C and OSL          from 5500 cal BP\n",
       "2  Fagopyrum. sp            Stratigraphic comparison from 5000 cal BP\n",
       "3  Fagopyrum. sp            AMS 14C                  from 4700 cal BP\n",
       "4  Fagopyrum. sp            AMS 14C                  from 4600 cal BP\n",
       "10 Fagopyrum. sp            AMS 14C                  1300 cal BP     \n",
       "11 Fagopyrum esculentum     AMS 14C                  1100 cal BP     \n",
       "   Reference                      lon          lat         altitude..masl.\n",
       "1  Li et al. 2009                 107°48'E     34°23'N      608.0         \n",
       "2  Shang and Li 2010              109°32'E     34°21'N      519.0         \n",
       "3  Li et al. 2006                 119°55'E     42°04'N      751.0         \n",
       "4  Li et al. 2007, Cao et al 2019 105°32'41''E 34°33'50''N 1330.0         \n",
       "10 Yi et al. 2003a                118°54.3'E   37°48.8'N      4.9         \n",
       "11 Makohonienko et al. 2008       126°22'E     42°20'N      665.0         \n",
       "   location_source          start_date end_date period \n",
       "1  Li et al. 2009           5500          0     1000 BP\n",
       "2  Shang and Li 2010        5000          0     1000 BP\n",
       "3  Li et al. 2006           4700          0     1000 BP\n",
       "4  Li et al. 2007           4600          0     1000 BP\n",
       "10 Yi et al. 2003a          1300       1300     1000 BP\n",
       "11 Makohonienko et al. 2008 1100       1100     1000 BP"
      ]
     },
     "metadata": {},
     "output_type": "display_data"
    }
   ],
   "source": [
    "head(loc)"
   ]
  },
  {
   "cell_type": "markdown",
   "metadata": {},
   "source": [
    "# Plotting past predictions with sf:\n",
    "\n"
   ]
  },
  {
   "cell_type": "code",
   "execution_count": 9,
   "metadata": {},
   "outputs": [
    {
     "name": "stdout",
     "output_type": "stream",
     "text": [
      "OGR data source with driver: ESRI Shapefile \n",
      "Source: \"G:\\My Drive\\SDM_China\\data\\china_data\", layer: \"china_data\"\n",
      "with 2409 features\n",
      "It has 36 fields\n"
     ]
    }
   ],
   "source": [
    "china<-readOGR(dsn = path2prodData, layer = \"china_data\")\n",
    "pred_summary<-read.csv(path2pred_summary)"
   ]
  },
  {
   "cell_type": "code",
   "execution_count": 10,
   "metadata": {},
   "outputs": [],
   "source": [
    "## Get the log means predictions, 0.05, and 0.95 quantiles for each county in a separate variables\n",
    "mean_names<-colnames(pred_summary)[grepl(\"log\",colnames(pred_summary))&grepl(\"means\",colnames(pred_summary))]\n",
    "means<-pred_summary[,colnames(pred_summary)[grepl(\"log\",colnames(pred_summary))&grepl(\"means\",colnames(pred_summary))]]\n",
    "q5_names<-colnames(pred_summary)[grepl(\"log\",colnames(pred_summary))&grepl(\"X5\",colnames(pred_summary))]\n",
    "q5<-pred_summary[,colnames(pred_summary)[grepl(\"log\",colnames(pred_summary))&grepl(\"X5\",colnames(pred_summary))]]\n",
    "q95_names<-colnames(pred_summary)[grepl(\"log\",colnames(pred_summary))&grepl(\"X95\",colnames(pred_summary))]\n",
    "q95<-pred_summary[,colnames(pred_summary)[grepl(\"log\",colnames(pred_summary))&grepl(\"X95\",colnames(pred_summary))]]"
   ]
  },
  {
   "cell_type": "code",
   "execution_count": 11,
   "metadata": {},
   "outputs": [],
   "source": [
    "# Give the columns shorter names<\n",
    "colnames(means)<-c(\"meanPred\",\"pred1k\",\"pred2k\",\"pred3k\",\"pred4k\",\"pred5k\",\"pred6k\")\n",
    "colnames(q95)<-c(\"log95\",\"pred1k95\",\"pred2k95\",\"pred3k95\",\"pred4k95\",\"pred5k95\",\"pred6k95\")\n",
    "colnames(q5)<-c(\"log5\",\"pred1k5\",\"pred2k5\",\"pred3k5\",\"pred4k5\",\"pred5k5\",\"pred6k5\")"
   ]
  },
  {
   "cell_type": "code",
   "execution_count": 12,
   "metadata": {},
   "outputs": [],
   "source": [
    "# Combine the predictions with the spatial polygons data frame of counties in china\n",
    "china@data<-cbind(china@data,means,q5,q95)\n",
    "# Calculate the predictions errod and the confidence interval size for each county in china@\n",
    "china@data$difference<-china@data$meanPred - china@data$logArea\n",
    "china@data$interval<-china@data$log95 - china@data$log5"
   ]
  },
  {
   "cell_type": "code",
   "execution_count": 13,
   "metadata": {},
   "outputs": [],
   "source": [
    "### This bind the location data, with the predictions for counties in which buckwheat was found:\n",
    "proj4string(loc) <- crs(china)\n",
    "pred_data<-sp::over(loc,china)\n",
    "loc@data<-cbind(loc@data,pred_data)"
   ]
  },
  {
   "cell_type": "code",
   "execution_count": 14,
   "metadata": {},
   "outputs": [],
   "source": [
    "### The gets the mean predictions, 5th and 95th quantile for period to which each site is dated:\n",
    "loc@data$mean<-NA\n",
    "loc@data$q5<-NA\n",
    "loc@data$q95<-NA\n",
    "\n",
    "for (i in 1:6){\n",
    "loc@data[grep(as.character(i),loc@data$period),c('mean','q5','q95')]<-loc@data[grep(as.character(i),loc@data$period),grep(paste(i,\"k\",sep=\"\"),colnames(loc@data))]    }"
   ]
  },
  {
   "cell_type": "code",
   "execution_count": 15,
   "metadata": {},
   "outputs": [],
   "source": [
    "threshold<-min(loc@data[loc@data$Site_section_name!=\"Kyung-lung Mesa/Kaerdong\",]$mean,na.rm = TRUE)\n",
    "threshold05<-min(loc@data[loc@data$Site_section_name!=\"Kyung-lung Mesa/Kaerdong\",]$q5,na.rm = TRUE)\n",
    "threshold95<-min(loc@data[loc@data$Site_section_name!=\"Kyung-lung Mesa/Kaerdong\",]$q95,na.rm = TRUE)"
   ]
  },
  {
   "cell_type": "code",
   "execution_count": 198,
   "metadata": {},
   "outputs": [
    {
     "data": {
      "text/html": [
       "-8.86908694595346"
      ],
      "text/latex": [
       "-8.86908694595346"
      ],
      "text/markdown": [
       "-8.86908694595346"
      ],
      "text/plain": [
       "[1] -8.869087"
      ]
     },
     "metadata": {},
     "output_type": "display_data"
    }
   ],
   "source": [
    "threshold"
   ]
  },
  {
   "cell_type": "markdown",
   "metadata": {},
   "source": [
    "### Graphs of boxplots showing the confidence interval and diffrence between predictions and observations"
   ]
  },
  {
   "cell_type": "code",
   "execution_count": 346,
   "metadata": {},
   "outputs": [],
   "source": [
    "# Get the summary statistics of difference between predictions and observations, and the confidence interval\n",
    "dt<-summary(china@data$difference)\n",
    "it<-summary(china@data$interval)\n",
    "dt2<-summary(pred_summary$means_pred - china@data$AreaPr)\n",
    "it2<-summary(pred_summary$X95. - pred_summary$X5.)\n",
    "dstats<-as.data.frame(rbind(dt,it,dt2,it2))\n",
    "dstats$statistics<-c(\"difference\",\"interval\",\"difference\",\"interval\")\n",
    "dstats$scalse<-c(\"logarithmic scale\",\"logarithmic scale\",\"absolute valeus\",\"absolute values\")\n",
    "rownames(dstats)<-NULL"
   ]
  },
  {
   "cell_type": "code",
   "execution_count": 363,
   "metadata": {},
   "outputs": [],
   "source": [
    "write.csv(dstats, file=path2diffintTable,row.names = FALSE)"
   ]
  },
  {
   "cell_type": "code",
   "execution_count": 12,
   "metadata": {},
   "outputs": [],
   "source": [
    "di<-gather(china@data[,c('difference','interval')], key = \"stat\",value=\"value\")"
   ]
  },
  {
   "cell_type": "code",
   "execution_count": 146,
   "metadata": {},
   "outputs": [],
   "source": [
    "dip<-ggplot(di, aes(x=stat,y=value)) + \n",
    "  geom_violin(data=di, aes(x=stat,y=value),lwd=0.2,color=\"grey50\")+\n",
    "  geom_boxplot(width=0.1,fill=\"tan2\",outlier.size=0.4,lwd=0.3)+\n",
    "  theme_classic()+ \n",
    "  theme(panel.grid.major.y = element_line(color=\"grey90\",size=0.2),\n",
    "      axis.title=element_text(size=7,face=\"plain\"),\n",
    "      axis.text=element_text(size=7))+\n",
    "  labs(y=\"log proportion of area under buckwheat cultivation\\n\",x=\"\")+\n",
    "  scale_x_discrete(labels=c(\"\\ndifference between the\\nmean predictions and the observed values\",\"\\nsize of the 90%\\nconfidence interval\"))+\n",
    "  scale_y_continuous(breaks=seq(-10,20,2))"
   ]
  },
  {
   "cell_type": "code",
   "execution_count": 147,
   "metadata": {},
   "outputs": [
    {
     "data": {
      "image/png": "[encoded data removed]",
      "text/plain": [
       "plot without title"
      ]
     },
     "metadata": {
      "image/png": {
       "height": 420,
       "width": 420
      },
      "text/plain": {
       "height": 420,
       "width": 420
      }
     },
     "output_type": "display_data"
    }
   ],
   "source": [
    "height=21/2\n",
    "width=21/2\n",
    "ggsave(path2diffint,dip,width = width, height = height, units = \"cm\",device='png',dpi = 600)\n",
    "dip"
   ]
  },
  {
   "cell_type": "code",
   "execution_count": 149,
   "metadata": {},
   "outputs": [],
   "source": [
    "### The same for the unlogged difference:\n",
    "china@data$difference<-pred_summary$means_pred - china@data$AreaPr\n",
    "china@data$interval<-pred_summary$X95. - pred_summary$X5."
   ]
  },
  {
   "cell_type": "code",
   "execution_count": 289,
   "metadata": {},
   "outputs": [],
   "source": [
    "di_exp<-gather(china@data[,c('difference','interval')], key = \"stat\",value=\"value\")"
   ]
  },
  {
   "cell_type": "code",
   "execution_count": 324,
   "metadata": {},
   "outputs": [],
   "source": [
    "dip_exp_all<-ggplot(di_exp, aes(x=stat,y=value)) + \n",
    "  geom_violin(data=di_exp, aes(x=stat,y=value),lwd=0.2,color=\"grey50\")+\n",
    "  geom_boxplot(width=0.1,fill=\"tan2\",outlier.size=0.4,lwd=0.3)+\n",
    "  theme_classic()+ \n",
    "  theme(panel.grid.major.y = element_line(color=\"grey90\",size=0.2),\n",
    "      axis.title=element_text(size=7,face=\"plain\"),\n",
    "      axis.text=element_text(size=7))+\n",
    "  labs(y=\"proportion of area under buckwheat cultivation\\n\",x=\"\")+\n",
    "  scale_x_discrete(labels=c(\"\\ndifference between the\\nmean predictions and the observed values\",\"\\nsize of the 90%\\nconfidence interval\"))"
   ]
  },
  {
   "cell_type": "code",
   "execution_count": 316,
   "metadata": {},
   "outputs": [],
   "source": [
    "dip_exp_zoom<-ggplot(di_exp, aes(x=stat,y=value)) + \n",
    "  geom_violin(data=di_exp, aes(x=stat,y=value),lwd=0.2,color=\"grey50\")+\n",
    "  geom_boxplot(width=0.1,fill=\"tan2\",outlier.size=0.4,lwd=0.3)+\n",
    "  theme_classic()+ \n",
    "  theme(panel.grid.major.y = element_line(color=\"grey90\",size=0.2),\n",
    "      axis.title=element_text(size=7,face=\"plain\"),\n",
    "      axis.text=element_text(size=7))+\n",
    "  labs(y=\"proportion of area under buckwheat cultivation\\n\",x=\"\")+\n",
    "  scale_x_discrete(labels=c(\"\\ndifference between the\\nmean predictions and the observed values\",\"\\nsize of the 90%\\nconfidence interval\"))+\n",
    " scale_y_continuous(limits=c(-0.03,0.1),expand=c(0,0))"
   ]
  },
  {
   "cell_type": "code",
   "execution_count": 325,
   "metadata": {},
   "outputs": [
    {
     "name": "stderr",
     "output_type": "stream",
     "text": [
      "Warning message:\n",
      "\"Removed 107 rows containing non-finite values (stat_ydensity).\"\n",
      "Warning message:\n",
      "\"Removed 107 rows containing non-finite values (stat_boxplot).\"\n"
     ]
    }
   ],
   "source": [
    "dip_exp<-ggarrange(dip_exp_all,dip_exp_zoom,ncol=2)"
   ]
  },
  {
   "cell_type": "code",
   "execution_count": 326,
   "metadata": {},
   "outputs": [],
   "source": [
    "height=21/2\n",
    "width=21\n",
    "ggsave(path2diffintb,dip_exp,width = width, height = height, units = \"cm\",device='png',dpi = 600)"
   ]
  },
  {
   "cell_type": "code",
   "execution_count": 328,
   "metadata": {},
   "outputs": [
    {
     "data": {
      "text/plain": [
       "\n",
       "TRUE \n",
       "2409 "
      ]
     },
     "metadata": {},
     "output_type": "display_data"
    }
   ],
   "source": [
    "# Check in how many counties the observed values fall within the 90% confidence interval\n",
    "table(china@data$meanPred>china@data$log5 & china@data$meanPred<china@data$log95)"
   ]
  },
  {
   "cell_type": "markdown",
   "metadata": {},
   "source": [
    "## Poserior predictions maps"
   ]
  },
  {
   "cell_type": "code",
   "execution_count": 68,
   "metadata": {},
   "outputs": [],
   "source": [
    "mp<-as_Spatial(st_union(china_sf[china_sf$meanPred>=threshold,]))\n",
    "mp<-SpatialPolygonsDataFrame(mp,data=data.frame(id=3,quantile=\"Mean Predictions\",row.names=row.names(mp)))\n",
    "\n",
    "la<-as_Spatial(st_union(china_sf[china_sf$logArea>=threshold,]))\n",
    "la<-SpatialPolygonsDataFrame(la,data=data.frame(id=1,quantile=\"Mean Predictions\",row.names=row.names(la)))\n",
    "\n",
    "q05p<-as_Spatial(st_union(china_sf[china_sf$log5>=threshold05,]))\n",
    "q05p<-SpatialPolygonsDataFrame(q05p,data=data.frame(id=4,quantile=\"5th Quantile\",row.names=row.names(q05p)))\n",
    "\n",
    "q95p<-as_Spatial(st_union(china_sf[china_sf$log95>=threshold95,]))\n",
    "q95p<-SpatialPolygonsDataFrame(q95p,data=data.frame(id=2,quantile=\"95th Quantile\",row.names=row.names(q95p)))\n",
    "\n",
    "inner_border<-rbind(la,q95p,mp,q05p)"
   ]
  },
  {
   "cell_type": "code",
   "execution_count": 17,
   "metadata": {},
   "outputs": [],
   "source": [
    "china_sf<-st_as_sf(china) \n",
    "outer_border<-st_union(china_sf)\n",
    "&&sf_object[as.data.frame(sf_object[,column])[,1]<=threshold_max[1],])"
   ]
  },
  {
   "cell_type": "code",
   "execution_count": 242,
   "metadata": {},
   "outputs": [],
   "source": [
    "get_borders<-function(columns,threshold_min,threshold_max,facets,sf_object){\n",
    "    if(is.null(threshold_min)){threshold_min=-Inf} # If min is not given set it to  -infinity\n",
    "    if(is.null(threshold_max)){threshold_max=Inf} # Id max is not given set it to infinity \n",
    "    if(is.null(facets)){facets=columns}\n",
    "    column<-columns[1]\n",
    "    facet<-facets[1]\n",
    "    sb<-as_Spatial(st_union(sf_object[as.data.frame(sf_object[,column])[,1]>=threshold_min[1] && as.data.frame(sf_object[,column])[,1]>=threshold_max[1] ,]))\n",
    "    sb<-SpatialPolygonsDataFrame(sb,data=data.frame(id=1,facet=facet,row.names=row.names(sb)))\n",
    "    borders<-sb\n",
    "    for (i in 2:6){\n",
    "        column<-columns[i]\n",
    "        facet<-facets[i]\n",
    "        if(length(threshold_min)>1){t_min=threshold_min[i]}else{t_min=threshold_min}\n",
    "        if(length(threshold_max)>1){t_max=threshold_max[i]}else{t_max=threshold_max}\n",
    "        sb<-as_Spatial(st_union(sf_object[as.data.frame(sf_object[,column])[,1]>=t_min && as.data.frame(sf_object[,column])[,1]>=t_max[1],]))\n",
    "        sb<-SpatialPolygonsDataFrame(sb,data=data.frame(id=i,facet=facet,row.names=row.names(sb)))\n",
    "        borders<-rbind(borders,sb)\n",
    "    }\n",
    "    return(borders)\n",
    "}"
   ]
  },
  {
   "cell_type": "code",
   "execution_count": 221,
   "metadata": {},
   "outputs": [
    {
     "data": {
      "text/html": [
       "-8.86908694595346"
      ],
      "text/latex": [
       "-8.86908694595346"
      ],
      "text/markdown": [
       "-8.86908694595346"
      ],
      "text/plain": [
       "[1] -8.869087"
      ]
     },
     "metadata": {},
     "output_type": "display_data"
    }
   ],
   "source": [
    "threshold[1]"
   ]
  },
  {
   "cell_type": "code",
   "execution_count": 19,
   "metadata": {},
   "outputs": [],
   "source": [
    "facets<-unique(loc@data$period)"
   ]
  },
  {
   "cell_type": "code",
   "execution_count": 162,
   "metadata": {},
   "outputs": [],
   "source": [
    "inner_border95<-get_borders(colnames(q95)[2:7], threshold95,facets, sf_object=china_sf)"
   ]
  },
  {
   "cell_type": "code",
   "execution_count": 163,
   "metadata": {},
   "outputs": [],
   "source": [
    "inner_border5<-get_borders(colnames(q5)[2:7], threshold05,facets, sf_object=china_sf)"
   ]
  },
  {
   "cell_type": "code",
   "execution_count": 40,
   "metadata": {},
   "outputs": [],
   "source": [
    "inner_border_pred<-get_borders(colnames(means)[2:7],threshold,facets,sf_object=china_sf)"
   ]
  },
  {
   "cell_type": "code",
   "execution_count": 20,
   "metadata": {},
   "outputs": [],
   "source": [
    "#Define the labels:\n",
    "columns<-c(\"pred1k\",\"pred2k\",\"pred3k\",\"pred4k\",\"pred5k\",\"pred6k\",\"logArea\",\"log95\",\"meanPred\",\"log5\")\n",
    "labels<-c(\"A: OBSERVED VALUES\", \"B: PREDICTIONS AT 95TH PERCENTILE\",\"C: MEAN PREDICTIONS\",\"D: PREDICTIONS AT 5TH PERCENTILE\")\n",
    "\n",
    "# Breaks and labels for the unlog transformation of the predictions:\n",
    "n<-c(0.000000001,0.0000001,0.00001,0.001,1)\n",
    "breaks<-c(min(china@data$log5),log(n),max(china@data$log95))\n",
    "tickmarks<-c(\"\",n,\"\")\n",
    "\n",
    "# Breaks and labels for the interval and difference:\n",
    "n2<-c(0.01,1,100,10000)\n",
    "breaks2<-c(log(n2),max(china@data$difference))\n",
    "tickmarks2<-c(n2,\"\")"
   ]
  },
  {
   "cell_type": "code",
   "execution_count": 69,
   "metadata": {},
   "outputs": [],
   "source": [
    "check_maps<-tm_shape(china) +\n",
    "    # Define the colors of the polygons and the legend\n",
    "    tm_fill(col=columns[7:10], title.col=\"Period\",style=\"cont\",n=20,legend.reverse = TRUE,palette=\"-RdYlBu\",title = \"log area\\nfraction\\nunder\\nbuckwheat\\ncultivation\",showNA = F,midpoint=NA)+\n",
    "    # Define the facets to draw:\n",
    "    tm_facets(free.scales=FALSE,free.coords=FALSE,ncol = 2,nrow = 2)+   \n",
    "    # Add the outer border to the plot\n",
    "    tm_shape(outer_border)+\n",
    "    tm_borders(col=\"grey75\",lwd=0.5)+\n",
    "    # Add the shape of the predicted niche  \n",
    "    tm_shape(inner_border)+\n",
    "    tm_borders(col=\"grey1\",lwd=0.8,lty=\"dashed\")+\n",
    "    tm_facets(by = \"id\",free.scales=FALSE,free.coords=FALSE,ncol=2,nrow=2)+\n",
    "    # Format layout:\n",
    "    tm_layout(panel.labels=labels,\n",
    "              panel.label.bg.color=\"white\",\n",
    "              frame=FALSE,\n",
    "              legend.outside.size=0.08,\n",
    "              legend.outside = TRUE,\n",
    "              legend.text.size = 0.7,\n",
    "              panel.label.size = 1.2,\n",
    "              panel.label.fontface = \"bold\",\n",
    "              legend.title.size=1,\n",
    "              frame.lwd = NA,\n",
    "             panel.label.height=2)"
   ]
  },
  {
   "cell_type": "code",
   "execution_count": 205,
   "metadata": {},
   "outputs": [
    {
     "name": "stderr",
     "output_type": "stream",
     "text": [
      "Variable(s) \"difference\", \"interval\" contains positive and negative values, so midpoint is set to 0. Set midpoint = NA to show the full spectrum of the color palette.\n",
      "\n"
     ]
    },
    {
     "data": {
      "image/png": "[encoded data removed]",
      "text/plain": [
       "plot without title"
      ]
     },
     "metadata": {
      "image/png": {
       "height": 420,
       "width": 420
      },
      "text/plain": {
       "height": 420,
       "width": 420
      }
     },
     "output_type": "display_data"
    }
   ],
   "source": [
    "# Repeat the maps twice, to keep them to scale\n",
    "diff_maps<-tm_shape(china)+\n",
    "tm_fill(col=c(\"difference\",\"interval\"), title.col=\"Period\",style = \"cont\",legend.reverse = TRUE,palette=c(\"-RdBu\"),title = c(\"log area\\nfraction\\nunder\\nbuckwheat\\ncultivation\"),showNA = F)+\n",
    "    tm_layout(panel.labels=c(\"E: DIFFERENCE BETWEEN THE MEAN\\nPREDICTIONS AND THE OBSERVED VALEUS\",\"F: SIZE OF THE 90% CONFIDENCE INTERVAL\" ),\n",
    "              panel.label.bg.color=\"white\",\n",
    "              frame=FALSE,\n",
    "              legend.outside.size=0.08,\n",
    "              legend.outside = TRUE,\n",
    "              legend.text.size = 0.7,\n",
    "              panel.label.size = 1.2,\n",
    "              panel.label.fontface = \"bold\",\n",
    "              legend.title.size=1,\n",
    "              frame.lwd = NA,\n",
    "              panel.label.height=2)+\n",
    "    tm_facets(free.scales=FALSE,nrow=2,ncol=2)"
   ]
  },
  {
   "cell_type": "code",
   "execution_count": 211,
   "metadata": {},
   "outputs": [],
   "source": [
    "diag_maps<-tmap_arrange(check_maps,diff_maps)"
   ]
  },
  {
   "cell_type": "code",
   "execution_count": 212,
   "metadata": {},
   "outputs": [
    {
     "name": "stderr",
     "output_type": "stream",
     "text": [
      "Variable(s) \"difference\", \"interval\" contains positive and negative values, so midpoint is set to 0. Set midpoint = NA to show the full spectrum of the color palette.\n",
      "\n",
      "Variable(s) \"difference\", \"interval\" contains positive and negative values, so midpoint is set to 0. Set midpoint = NA to show the full spectrum of the color palette.\n",
      "\n",
      "Map saved to G:\\My Drive\\SDM_China\\outputs\\07_03_Posterior_predictions_maps.png\n",
      "\n",
      "Resolution: 4133.858 by 5846.457 pixels\n",
      "\n",
      "Size: 8.267717 by 11.69291 inches (500 dpi)\n",
      "\n"
     ]
    }
   ],
   "source": [
    "width=21\n",
    "height=29.7\n",
    "tmap_save(\n",
    "  tm = diag_maps,\n",
    "  filename = path2checkMaps,\n",
    "  width = width,\n",
    "  height = height,\n",
    "  units = \"cm\",\n",
    "  dpi = 500)"
   ]
  },
  {
   "cell_type": "code",
   "execution_count": 24,
   "metadata": {},
   "outputs": [],
   "source": [
    "pred_labels<-unique(loc@data$period)"
   ]
  },
  {
   "cell_type": "code",
   "execution_count": 30,
   "metadata": {},
   "outputs": [],
   "source": [
    "macros<-loc\n",
    "macros$Sample_type<-as.character(macros$Sample_type)\n",
    "macros[macros$Site_section_name==\"Kyung-lung Mesa/Kaerdong\",'Sample_type']<-c(\"F. tataricum charrded seeds\",\"F. tataricum charrded seeds\")"
   ]
  },
  {
   "cell_type": "code",
   "execution_count": 32,
   "metadata": {},
   "outputs": [],
   "source": [
    "a<-tm_shape(macros)+\n",
    "    tm_symbols(col =\"Sample_type\", shape=\"Sample_type\",size=0.6,legend.col.show=FALSE,legend.shape.show=FALSE,palette=c(\"mediumorchid3\",\"red\",\"mediumseagreen\",\"mediumvioletred\"),shapes = c(17,4,16,15))+\n",
    "    tm_facets(by = \"period\",free.scales=FALSE,free.coords=FALSE,ncol=2,nrow=3)"
   ]
  },
  {
   "cell_type": "code",
   "execution_count": 41,
   "metadata": {},
   "outputs": [
    {
     "data": {
      "text/html": [
       "<table>\n",
       "<caption>A data.frame: 6 × 2</caption>\n",
       "<thead>\n",
       "\t<tr><th></th><th scope=col>id</th><th scope=col>facet</th></tr>\n",
       "\t<tr><th></th><th scope=col>&lt;dbl&gt;</th><th scope=col>&lt;fct&gt;</th></tr>\n",
       "</thead>\n",
       "<tbody>\n",
       "\t<tr><th scope=row>ID1</th><td>1</td><td>1000 BP</td></tr>\n",
       "\t<tr><th scope=row>ID11</th><td>2</td><td>2000 BP</td></tr>\n",
       "\t<tr><th scope=row>ID12</th><td>3</td><td>3000 BP</td></tr>\n",
       "\t<tr><th scope=row>ID13</th><td>4</td><td>4000 BP</td></tr>\n",
       "\t<tr><th scope=row>ID14</th><td>5</td><td>5000 BP</td></tr>\n",
       "\t<tr><th scope=row>ID15</th><td>6</td><td>6000 BP</td></tr>\n",
       "</tbody>\n",
       "</table>\n"
      ],
      "text/latex": [
       "A data.frame: 6 × 2\n",
       "\\begin{tabular}{r|ll}\n",
       "  & id & facet\\\\\n",
       "  & <dbl> & <fct>\\\\\n",
       "\\hline\n",
       "\tID1 & 1 & 1000 BP\\\\\n",
       "\tID11 & 2 & 2000 BP\\\\\n",
       "\tID12 & 3 & 3000 BP\\\\\n",
       "\tID13 & 4 & 4000 BP\\\\\n",
       "\tID14 & 5 & 5000 BP\\\\\n",
       "\tID15 & 6 & 6000 BP\\\\\n",
       "\\end{tabular}\n"
      ],
      "text/markdown": [
       "\n",
       "A data.frame: 6 × 2\n",
       "\n",
       "| <!--/--> | id &lt;dbl&gt; | facet &lt;fct&gt; |\n",
       "|---|---|---|\n",
       "| ID1 | 1 | 1000 BP |\n",
       "| ID11 | 2 | 2000 BP |\n",
       "| ID12 | 3 | 3000 BP |\n",
       "| ID13 | 4 | 4000 BP |\n",
       "| ID14 | 5 | 5000 BP |\n",
       "| ID15 | 6 | 6000 BP |\n",
       "\n"
      ],
      "text/plain": [
       "     id facet  \n",
       "ID1  1  1000 BP\n",
       "ID11 2  2000 BP\n",
       "ID12 3  3000 BP\n",
       "ID13 4  4000 BP\n",
       "ID14 5  5000 BP\n",
       "ID15 6  6000 BP"
      ]
     },
     "metadata": {},
     "output_type": "display_data"
    }
   ],
   "source": [
    "head(inner_border_pred)"
   ]
  },
  {
   "cell_type": "code",
   "execution_count": 42,
   "metadata": {},
   "outputs": [],
   "source": [
    "a<-tm_shape(inner_border_pred)+\n",
    "    tm_borders(col=\"grey1\",lwd=0.5,lty=\"dashed\")+\n",
    "    tm_facets(by = \"id\",free.scales=FALSE,free.coords=FALSE,ncol=2,nrow=3)"
   ]
  },
  {
   "cell_type": "code",
   "execution_count": 80,
   "metadata": {},
   "outputs": [
    {
     "data": {
      "text/html": [
       "<ol class=list-inline>\n",
       "\t<li>-26</li>\n",
       "\t<li>-24</li>\n",
       "\t<li>-22</li>\n",
       "\t<li>-20</li>\n",
       "\t<li>-18</li>\n",
       "\t<li>-16</li>\n",
       "\t<li>-14</li>\n",
       "\t<li>-12</li>\n",
       "\t<li>-10</li>\n",
       "\t<li>-8</li>\n",
       "\t<li>-6</li>\n",
       "\t<li>-4</li>\n",
       "\t<li>-2</li>\n",
       "\t<li>0</li>\n",
       "\t<li>2</li>\n",
       "\t<li>4</li>\n",
       "\t<li>6</li>\n",
       "</ol>\n"
      ],
      "text/latex": [
       "\\begin{enumerate*}\n",
       "\\item -26\n",
       "\\item -24\n",
       "\\item -22\n",
       "\\item -20\n",
       "\\item -18\n",
       "\\item -16\n",
       "\\item -14\n",
       "\\item -12\n",
       "\\item -10\n",
       "\\item -8\n",
       "\\item -6\n",
       "\\item -4\n",
       "\\item -2\n",
       "\\item 0\n",
       "\\item 2\n",
       "\\item 4\n",
       "\\item 6\n",
       "\\end{enumerate*}\n"
      ],
      "text/markdown": [
       "1. -26\n",
       "2. -24\n",
       "3. -22\n",
       "4. -20\n",
       "5. -18\n",
       "6. -16\n",
       "7. -14\n",
       "8. -12\n",
       "9. -10\n",
       "10. -8\n",
       "11. -6\n",
       "12. -4\n",
       "13. -2\n",
       "14. 0\n",
       "15. 2\n",
       "16. 4\n",
       "17. 6\n",
       "\n",
       "\n"
      ],
      "text/plain": [
       " [1] -26 -24 -22 -20 -18 -16 -14 -12 -10  -8  -6  -4  -2   0   2   4   6"
      ]
     },
     "metadata": {},
     "output_type": "display_data"
    }
   ],
   "source": [
    "seq(-26,6,2)"
   ]
  },
  {
   "cell_type": "code",
   "execution_count": 108,
   "metadata": {},
   "outputs": [],
   "source": [
    "pred_maps<-tm_shape(china) +\n",
    "    # Define the colors of the polygons and the legend\n",
    "    tm_fill(col=columns[1:6], title.col=\"Period\",style=\"cont\",breaks=seq(-26,6,2),legend.reverse = TRUE,palette=\"-RdYlBu\",title = \"log area\\nfraction\\nunder\\nbuckwheat\\ncultivation\",showNA = F,midpoint=NA)+\n",
    "    # Define the facets to draw:\n",
    "    tm_facets(free.scales=FALSE,free.coords=FALSE,ncol = 2,nrow = 3)+   \n",
    "    # Add the outer border to the plot\n",
    "    tm_shape(outer_border)+\n",
    "    tm_borders(col=\"grey75\",lwd=0.5)+\n",
    "    # Add the shape of the predicted mean niche  \n",
    "    tm_shape(inner_border_pred)+\n",
    "    tm_borders(col=\"grey1\",lwd=0.5,lty=\"dashed\")+\n",
    "    tm_facets(by = \"id\",free.scales=FALSE,free.coords=FALSE,ncol=2,nrow=3)+\n",
    "    # Add the location of macro and microfossils to the map\n",
    "    tm_shape(macros)+\n",
    "    tm_symbols(col =\"Sample_type\", shape=\"Sample_type\",size=0.6,legend.col.show=FALSE,legend.shape.show=FALSE,palette=c(\"mediumorchid4\",\"red\",\"mediumseagreen\",\"slateblue1\"),shapes = c(17,4,16,15))+\n",
    "    tm_facets(by = \"period\",free.scales=FALSE,free.coords=FALSE,ncol=2,nrow=3)+\n",
    "    # Add legend with symbols for different types of macros\n",
    "    # Add the shape of the pedicted 95 confidence interval\n",
    "    #tm_shape(inner_border95)+\n",
    "    #tm_borders(col=\"mediumspringgreen\",lwd=0.5,lty=\"dashed\")+\n",
    "    #tm_facets(by = \"id\",free.scales=FALSE,free.coords=FALSE,ncol=2,nrow=3)+ \n",
    "    # Add the shape of the pedicted 55 confidence interval\n",
    "    #tm_shape(inner_border5)+\n",
    "    #tm_borders(col=\"slateblue1\",lwd=0.5,lty=\"dashed\")+\n",
    "    #tm_facets(by = \"id\",free.scales=FALSE,free.coords=FALSE,ncol=2,nrow=3)+ \n",
    "    # Format layout:\n",
    "    tm_layout(panel.labels=pred_labels,\n",
    "              panel.label.bg.color=\"white\",\n",
    "              frame=FALSE,\n",
    "              legend.outside.size=0.08,\n",
    "              legend.outside = TRUE,\n",
    "              legend.text.size = 0.7,\n",
    "              panel.label.size = 1.2,\n",
    "              panel.label.fontface = \"bold\",\n",
    "              legend.title.size=1,\n",
    "              frame.lwd = NA,\n",
    "              panel.label.height=2,\n",
    "              legend.width=0.3)+\n",
    "    tm_add_legend(\"symbol\",shape=c(17,17,17,16,17,15,17,4,17), col = c(\"white\",\"mediumorchid4\",\"white\",\"mediumseagreen\",\"white\",\"slateblue1\",\"white\",\"red\",\"white\"), size = c(0.8,0.8,0.8,0.8),labels = str_wrap(c(\"\",\"charred seeds\",\"\",\"pollen\",\"\",\"starch\",\"\",\"F.tataricum charred seeds\",\"\"),width=12))              "
   ]
  },
  {
   "cell_type": "code",
   "execution_count": 94,
   "metadata": {},
   "outputs": [],
   "source": [
    "library(stringr)"
   ]
  },
  {
   "cell_type": "code",
   "execution_count": 101,
   "metadata": {},
   "outputs": [
    {
     "name": "stderr",
     "output_type": "stream",
     "text": [
      "Warning message in preprocess_gt(x, interactive = interactive, orig_crs = gm$shape.orig_crs):\n",
      "\"legend.width controls the width of the legend within a map. Please use legend.outside.size to control the width of the outside legend\"\n",
      "Warning message:\n",
      "\"Values have found that are less than the lowest break\"\n",
      "Some legend labels were too wide. These labels have been resized to 0.44, 0.50, 0.50, 0.30. Increase legend.width (argument of tm_layout) to make the legend wider and therefore the labels larger.\n",
      "\n"
     ]
    },
    {
     "data": {
      "image/png": "[encoded data removed]",
      "text/plain": [
       "plot without title"
      ]
     },
     "metadata": {
      "image/png": {
       "height": 420,
       "width": 420
      },
      "text/plain": {
       "height": 420,
       "width": 420
      }
     },
     "output_type": "display_data"
    }
   ],
   "source": [
    "pred_maps"
   ]
  },
  {
   "cell_type": "code",
   "execution_count": 109,
   "metadata": {},
   "outputs": [
    {
     "name": "stderr",
     "output_type": "stream",
     "text": [
      "Warning message in preprocess_gt(x, interactive = interactive, orig_crs = gm$shape.orig_crs):\n",
      "\"legend.width controls the width of the legend within a map. Please use legend.outside.size to control the width of the outside legend\"\n",
      "Warning message:\n",
      "\"Values have found that are less than the lowest break\"\n",
      "Some legend labels were too wide. These labels have been resized to 0.65, 0.44. Increase legend.width (argument of tm_layout) to make the legend wider and therefore the labels larger.\n",
      "\n",
      "Map saved to G:\\My Drive\\SDM_China\\outputs\\07_03_Pas_predictions_maps.png\n",
      "\n",
      "Resolution: 4133.858 by 4384.843 pixels\n",
      "\n",
      "Size: 8.267717 by 8.769685 inches (500 dpi)\n",
      "\n"
     ]
    }
   ],
   "source": [
    "width=21\n",
    "height=29.7*0.75\n",
    "tmap_save(\n",
    "  tm = pred_maps,\n",
    "  filename = path2predMaps,\n",
    "  width = width,\n",
    "  height = height,\n",
    "  units = \"cm\",\n",
    "  dpi = 500)"
   ]
  },
  {
   "cell_type": "code",
   "execution_count": 117,
   "metadata": {},
   "outputs": [],
   "source": [
    "china_frag<-china[,columns[1:6]]"
   ]
  },
  {
   "cell_type": "code",
   "execution_count": 130,
   "metadata": {},
   "outputs": [
    {
     "data": {
      "image/png": "[encoded data removed]",
      "text/plain": [
       "plot without title"
      ]
     },
     "metadata": {
      "image/png": {
       "height": 420,
       "width": 420
      },
      "text/plain": {
       "height": 420,
       "width": 420
      }
     },
     "output_type": "display_data"
    },
    {
     "data": {
      "image/png": "[encoded data removed]",
      "text/plain": [
       "plot without title"
      ]
     },
     "metadata": {
      "image/png": {
       "height": 420,
       "width": 420
      },
      "text/plain": {
       "height": 420,
       "width": 420
      }
     },
     "output_type": "display_data"
    }
   ],
   "source": [
    "### Need to put the elevation on the background for the Himalayas\n",
    "tm_shape(china_frag,bbox=raster::extent(list(x=c(80,105), y=c(25,35)))) +\n",
    "    # Define the colors of the polygons and the legend\n",
    "    tm_fill(col=columns[1], title.col=\"Period\",style=\"cont\",breaks=seq(-26,6,2),legend.reverse = TRUE,palette=\"-RdYlBu\",title = \"log area\\nfraction\\nunder\\nbuckwheat\\ncultivation\",showNA = F,midpoint=NA)\n",
    "    tm_shape(inner_border_pred,bbox=raster::extent(list(x=c(80,105), y=c(25,35))))+\n",
    "    tm_borders(col=\"grey1\",lwd=0.5,lty=\"dashed\")+\n",
    "    tm_facets(by = \"id\",free.scales=FALSE,free.coords=FALSE,ncol=2,nrow=3)"
   ]
  },
  {
   "cell_type": "code",
   "execution_count": 126,
   "metadata": {},
   "outputs": [
    {
     "data": {
      "text/plain": [
       "class      : Extent \n",
       "xmin       : -105 \n",
       "xmax       : -90 \n",
       "ymin       : 25 \n",
       "ymax       : 30 "
      ]
     },
     "metadata": {},
     "output_type": "display_data"
    }
   ],
   "source": [
    "raster::extent(list(x=c(-90,-105), y=c(25,30)))"
   ]
  },
  {
   "cell_type": "code",
   "execution_count": 125,
   "metadata": {},
   "outputs": [
    {
     "data": {
      "text/plain": [
       "class      : Extent \n",
       "xmin       : 73.5577 \n",
       "xmax       : 134.7739 \n",
       "ymin       : 18.15931 \n",
       "ymax       : 53.56086 "
      ]
     },
     "metadata": {},
     "output_type": "display_data"
    }
   ],
   "source": [
    "extent(china)"
   ]
  },
  {
   "cell_type": "code",
   "execution_count": 121,
   "metadata": {},
   "outputs": [
    {
     "name": "stderr",
     "output_type": "stream",
     "text": [
      "Warning message:\n",
      "\"Values have found that are less than the lowest break\"\n"
     ]
    },
    {
     "data": {
      "image/png": "[encoded data removed]",
      "text/plain": [
       "plot without title"
      ]
     },
     "metadata": {
      "image/png": {
       "height": 420,
       "width": 420
      },
      "text/plain": {
       "height": 420,
       "width": 420
      }
     },
     "output_type": "display_data"
    }
   ],
   "source": [
    "frag_maps<-tm_shape(china_frag,bbox=extent(list(x=c(80,105), y=c(25,35)))) +\n",
    "    # Define the colors of the polygons and the legend\n",
    "    tm_fill(col=columns[1:6], title.col=\"Period\",style=\"cont\",breaks=seq(-26,6,2),legend.reverse = TRUE,palette=\"-RdYlBu\",title = \"log area\\nfraction\\nunder\\nbuckwheat\\ncultivation\",showNA = F,midpoint=NA)+\n",
    "    tm_facets(free.scales=FALSE,free.coords=FALSE,ncol = 2,nrow = 3)\n",
    "frag_maps"
   ]
  },
  {
   "cell_type": "markdown",
   "metadata": {},
   "source": [
    "#  Minimu predictor values within the niches"
   ]
  },
  {
   "cell_type": "code",
   "execution_count": 189,
   "metadata": {},
   "outputs": [
    {
     "data": {
      "text/html": [
       "<ol class=list-inline>\n",
       "\t<li>'ID_0'</li>\n",
       "\t<li>'ISO'</li>\n",
       "\t<li>'NAME_0'</li>\n",
       "\t<li>'ID_1'</li>\n",
       "\t<li>'NAME_1'</li>\n",
       "\t<li>'ID_2'</li>\n",
       "\t<li>'NAME_2'</li>\n",
       "\t<li>'ID_3'</li>\n",
       "\t<li>'NAME_3'</li>\n",
       "\t<li>'TYPE_3'</li>\n",
       "\t<li>'ENGTYPE_3'</li>\n",
       "\t<li>'NL_NAME_3'</li>\n",
       "\t<li>'VARNAME_3'</li>\n",
       "\t<li>'BIO10'</li>\n",
       "\t<li>'BIO17'</li>\n",
       "\t<li>'BIO4'</li>\n",
       "\t<li>'BIO9'</li>\n",
       "\t<li>'npp'</li>\n",
       "\t<li>'BIO10_sd'</li>\n",
       "\t<li>'BIO17_sd'</li>\n",
       "\t<li>'BIO4_sd'</li>\n",
       "\t<li>'BIO9_sd'</li>\n",
       "\t<li>'npp_sd'</li>\n",
       "\t<li>'AreaDQ'</li>\n",
       "\t<li>'YieldDQ'</li>\n",
       "\t<li>'AreaFr'</li>\n",
       "\t<li>'AreaHaS'</li>\n",
       "\t<li>'AreaHaM'</li>\n",
       "\t<li>'ProdSum'</li>\n",
       "\t<li>'ProdMean'</li>\n",
       "\t<li>'YieldPH'</li>\n",
       "\t<li>'area'</li>\n",
       "\t<li>'AreaPr'</li>\n",
       "\t<li>'ProdHa'</li>\n",
       "\t<li>'logArea'</li>\n",
       "\t<li>'logProd'</li>\n",
       "\t<li>'meanPred'</li>\n",
       "\t<li>'pred1k'</li>\n",
       "\t<li>'pred2k'</li>\n",
       "\t<li>'pred3k'</li>\n",
       "\t<li>'pred4k'</li>\n",
       "\t<li>'pred5k'</li>\n",
       "\t<li>'pred6k'</li>\n",
       "\t<li>'log5'</li>\n",
       "\t<li>'pred1k5'</li>\n",
       "\t<li>'pred2k5'</li>\n",
       "\t<li>'pred3k5'</li>\n",
       "\t<li>'pred4k5'</li>\n",
       "\t<li>'pred5k5'</li>\n",
       "\t<li>'pred6k5'</li>\n",
       "\t<li>'log95'</li>\n",
       "\t<li>'pred1k95'</li>\n",
       "\t<li>'pred2k95'</li>\n",
       "\t<li>'pred3k95'</li>\n",
       "\t<li>'pred4k95'</li>\n",
       "\t<li>'pred5k95'</li>\n",
       "\t<li>'pred6k95'</li>\n",
       "\t<li>'difference'</li>\n",
       "\t<li>'interval'</li>\n",
       "</ol>\n"
      ],
      "text/latex": [
       "\\begin{enumerate*}\n",
       "\\item 'ID\\_0'\n",
       "\\item 'ISO'\n",
       "\\item 'NAME\\_0'\n",
       "\\item 'ID\\_1'\n",
       "\\item 'NAME\\_1'\n",
       "\\item 'ID\\_2'\n",
       "\\item 'NAME\\_2'\n",
       "\\item 'ID\\_3'\n",
       "\\item 'NAME\\_3'\n",
       "\\item 'TYPE\\_3'\n",
       "\\item 'ENGTYPE\\_3'\n",
       "\\item 'NL\\_NAME\\_3'\n",
       "\\item 'VARNAME\\_3'\n",
       "\\item 'BIO10'\n",
       "\\item 'BIO17'\n",
       "\\item 'BIO4'\n",
       "\\item 'BIO9'\n",
       "\\item 'npp'\n",
       "\\item 'BIO10\\_sd'\n",
       "\\item 'BIO17\\_sd'\n",
       "\\item 'BIO4\\_sd'\n",
       "\\item 'BIO9\\_sd'\n",
       "\\item 'npp\\_sd'\n",
       "\\item 'AreaDQ'\n",
       "\\item 'YieldDQ'\n",
       "\\item 'AreaFr'\n",
       "\\item 'AreaHaS'\n",
       "\\item 'AreaHaM'\n",
       "\\item 'ProdSum'\n",
       "\\item 'ProdMean'\n",
       "\\item 'YieldPH'\n",
       "\\item 'area'\n",
       "\\item 'AreaPr'\n",
       "\\item 'ProdHa'\n",
       "\\item 'logArea'\n",
       "\\item 'logProd'\n",
       "\\item 'meanPred'\n",
       "\\item 'pred1k'\n",
       "\\item 'pred2k'\n",
       "\\item 'pred3k'\n",
       "\\item 'pred4k'\n",
       "\\item 'pred5k'\n",
       "\\item 'pred6k'\n",
       "\\item 'log5'\n",
       "\\item 'pred1k5'\n",
       "\\item 'pred2k5'\n",
       "\\item 'pred3k5'\n",
       "\\item 'pred4k5'\n",
       "\\item 'pred5k5'\n",
       "\\item 'pred6k5'\n",
       "\\item 'log95'\n",
       "\\item 'pred1k95'\n",
       "\\item 'pred2k95'\n",
       "\\item 'pred3k95'\n",
       "\\item 'pred4k95'\n",
       "\\item 'pred5k95'\n",
       "\\item 'pred6k95'\n",
       "\\item 'difference'\n",
       "\\item 'interval'\n",
       "\\end{enumerate*}\n"
      ],
      "text/markdown": [
       "1. 'ID_0'\n",
       "2. 'ISO'\n",
       "3. 'NAME_0'\n",
       "4. 'ID_1'\n",
       "5. 'NAME_1'\n",
       "6. 'ID_2'\n",
       "7. 'NAME_2'\n",
       "8. 'ID_3'\n",
       "9. 'NAME_3'\n",
       "10. 'TYPE_3'\n",
       "11. 'ENGTYPE_3'\n",
       "12. 'NL_NAME_3'\n",
       "13. 'VARNAME_3'\n",
       "14. 'BIO10'\n",
       "15. 'BIO17'\n",
       "16. 'BIO4'\n",
       "17. 'BIO9'\n",
       "18. 'npp'\n",
       "19. 'BIO10_sd'\n",
       "20. 'BIO17_sd'\n",
       "21. 'BIO4_sd'\n",
       "22. 'BIO9_sd'\n",
       "23. 'npp_sd'\n",
       "24. 'AreaDQ'\n",
       "25. 'YieldDQ'\n",
       "26. 'AreaFr'\n",
       "27. 'AreaHaS'\n",
       "28. 'AreaHaM'\n",
       "29. 'ProdSum'\n",
       "30. 'ProdMean'\n",
       "31. 'YieldPH'\n",
       "32. 'area'\n",
       "33. 'AreaPr'\n",
       "34. 'ProdHa'\n",
       "35. 'logArea'\n",
       "36. 'logProd'\n",
       "37. 'meanPred'\n",
       "38. 'pred1k'\n",
       "39. 'pred2k'\n",
       "40. 'pred3k'\n",
       "41. 'pred4k'\n",
       "42. 'pred5k'\n",
       "43. 'pred6k'\n",
       "44. 'log5'\n",
       "45. 'pred1k5'\n",
       "46. 'pred2k5'\n",
       "47. 'pred3k5'\n",
       "48. 'pred4k5'\n",
       "49. 'pred5k5'\n",
       "50. 'pred6k5'\n",
       "51. 'log95'\n",
       "52. 'pred1k95'\n",
       "53. 'pred2k95'\n",
       "54. 'pred3k95'\n",
       "55. 'pred4k95'\n",
       "56. 'pred5k95'\n",
       "57. 'pred6k95'\n",
       "58. 'difference'\n",
       "59. 'interval'\n",
       "\n",
       "\n"
      ],
      "text/plain": [
       " [1] \"ID_0\"       \"ISO\"        \"NAME_0\"     \"ID_1\"       \"NAME_1\"    \n",
       " [6] \"ID_2\"       \"NAME_2\"     \"ID_3\"       \"NAME_3\"     \"TYPE_3\"    \n",
       "[11] \"ENGTYPE_3\"  \"NL_NAME_3\"  \"VARNAME_3\"  \"BIO10\"      \"BIO17\"     \n",
       "[16] \"BIO4\"       \"BIO9\"       \"npp\"        \"BIO10_sd\"   \"BIO17_sd\"  \n",
       "[21] \"BIO4_sd\"    \"BIO9_sd\"    \"npp_sd\"     \"AreaDQ\"     \"YieldDQ\"   \n",
       "[26] \"AreaFr\"     \"AreaHaS\"    \"AreaHaM\"    \"ProdSum\"    \"ProdMean\"  \n",
       "[31] \"YieldPH\"    \"area\"       \"AreaPr\"     \"ProdHa\"     \"logArea\"   \n",
       "[36] \"logProd\"    \"meanPred\"   \"pred1k\"     \"pred2k\"     \"pred3k\"    \n",
       "[41] \"pred4k\"     \"pred5k\"     \"pred6k\"     \"log5\"       \"pred1k5\"   \n",
       "[46] \"pred2k5\"    \"pred3k5\"    \"pred4k5\"    \"pred5k5\"    \"pred6k5\"   \n",
       "[51] \"log95\"      \"pred1k95\"   \"pred2k95\"   \"pred3k95\"   \"pred4k95\"  \n",
       "[56] \"pred5k95\"   \"pred6k95\"   \"difference\" \"interval\"  "
      ]
     },
     "metadata": {},
     "output_type": "display_data"
    }
   ],
   "source": [
    "### Get pred by Period, and after that get all the counties where the predictions are above the threshold, for each period\n",
    "### Then get the predictor values for each period in those counties, and get their ranges\n",
    "colnames(china@data)"
   ]
  },
  {
   "cell_type": "code",
   "execution_count": null,
   "metadata": {},
   "outputs": [],
   "source": []
  },
  {
   "cell_type": "code",
   "execution_count": 195,
   "metadata": {},
   "outputs": [
    {
     "name": "stdout",
     "output_type": "stream",
     "text": [
      "OGR data source with driver: ESRI Shapefile \n",
      "Source: \"G:\\My Drive\\SDM_China\\data\\china_data\", layer: \"china_data\"\n",
      "with 2409 features\n",
      "It has 36 fields\n"
     ]
    }
   ],
   "source": [
    "china<-readOGR(dsn = \"data/china_data\", layer = \"china_data\")"
   ]
  },
  {
   "cell_type": "code",
   "execution_count": 197,
   "metadata": {},
   "outputs": [
    {
     "data": {
      "text/html": [
       "<ol class=list-inline>\n",
       "\t<li>'ID_0'</li>\n",
       "\t<li>'ISO'</li>\n",
       "\t<li>'NAME_0'</li>\n",
       "\t<li>'ID_1'</li>\n",
       "\t<li>'NAME_1'</li>\n",
       "\t<li>'ID_2'</li>\n",
       "\t<li>'NAME_2'</li>\n",
       "\t<li>'ID_3'</li>\n",
       "\t<li>'NAME_3'</li>\n",
       "\t<li>'TYPE_3'</li>\n",
       "\t<li>'ENGTYPE_3'</li>\n",
       "\t<li>'NL_NAME_3'</li>\n",
       "\t<li>'VARNAME_3'</li>\n",
       "\t<li>'BIO10'</li>\n",
       "\t<li>'BIO17'</li>\n",
       "\t<li>'BIO4'</li>\n",
       "\t<li>'BIO9'</li>\n",
       "\t<li>'npp'</li>\n",
       "\t<li>'BIO10_sd'</li>\n",
       "\t<li>'BIO17_sd'</li>\n",
       "\t<li>'BIO4_sd'</li>\n",
       "\t<li>'BIO9_sd'</li>\n",
       "\t<li>'npp_sd'</li>\n",
       "\t<li>'AreaDQ'</li>\n",
       "\t<li>'YieldDQ'</li>\n",
       "\t<li>'AreaFr'</li>\n",
       "\t<li>'AreaHaS'</li>\n",
       "\t<li>'AreaHaM'</li>\n",
       "\t<li>'ProdSum'</li>\n",
       "\t<li>'ProdMean'</li>\n",
       "\t<li>'YieldPH'</li>\n",
       "\t<li>'area'</li>\n",
       "\t<li>'AreaPr'</li>\n",
       "\t<li>'ProdHa'</li>\n",
       "\t<li>'logArea'</li>\n",
       "\t<li>'logProd'</li>\n",
       "</ol>\n"
      ],
      "text/latex": [
       "\\begin{enumerate*}\n",
       "\\item 'ID\\_0'\n",
       "\\item 'ISO'\n",
       "\\item 'NAME\\_0'\n",
       "\\item 'ID\\_1'\n",
       "\\item 'NAME\\_1'\n",
       "\\item 'ID\\_2'\n",
       "\\item 'NAME\\_2'\n",
       "\\item 'ID\\_3'\n",
       "\\item 'NAME\\_3'\n",
       "\\item 'TYPE\\_3'\n",
       "\\item 'ENGTYPE\\_3'\n",
       "\\item 'NL\\_NAME\\_3'\n",
       "\\item 'VARNAME\\_3'\n",
       "\\item 'BIO10'\n",
       "\\item 'BIO17'\n",
       "\\item 'BIO4'\n",
       "\\item 'BIO9'\n",
       "\\item 'npp'\n",
       "\\item 'BIO10\\_sd'\n",
       "\\item 'BIO17\\_sd'\n",
       "\\item 'BIO4\\_sd'\n",
       "\\item 'BIO9\\_sd'\n",
       "\\item 'npp\\_sd'\n",
       "\\item 'AreaDQ'\n",
       "\\item 'YieldDQ'\n",
       "\\item 'AreaFr'\n",
       "\\item 'AreaHaS'\n",
       "\\item 'AreaHaM'\n",
       "\\item 'ProdSum'\n",
       "\\item 'ProdMean'\n",
       "\\item 'YieldPH'\n",
       "\\item 'area'\n",
       "\\item 'AreaPr'\n",
       "\\item 'ProdHa'\n",
       "\\item 'logArea'\n",
       "\\item 'logProd'\n",
       "\\end{enumerate*}\n"
      ],
      "text/markdown": [
       "1. 'ID_0'\n",
       "2. 'ISO'\n",
       "3. 'NAME_0'\n",
       "4. 'ID_1'\n",
       "5. 'NAME_1'\n",
       "6. 'ID_2'\n",
       "7. 'NAME_2'\n",
       "8. 'ID_3'\n",
       "9. 'NAME_3'\n",
       "10. 'TYPE_3'\n",
       "11. 'ENGTYPE_3'\n",
       "12. 'NL_NAME_3'\n",
       "13. 'VARNAME_3'\n",
       "14. 'BIO10'\n",
       "15. 'BIO17'\n",
       "16. 'BIO4'\n",
       "17. 'BIO9'\n",
       "18. 'npp'\n",
       "19. 'BIO10_sd'\n",
       "20. 'BIO17_sd'\n",
       "21. 'BIO4_sd'\n",
       "22. 'BIO9_sd'\n",
       "23. 'npp_sd'\n",
       "24. 'AreaDQ'\n",
       "25. 'YieldDQ'\n",
       "26. 'AreaFr'\n",
       "27. 'AreaHaS'\n",
       "28. 'AreaHaM'\n",
       "29. 'ProdSum'\n",
       "30. 'ProdMean'\n",
       "31. 'YieldPH'\n",
       "32. 'area'\n",
       "33. 'AreaPr'\n",
       "34. 'ProdHa'\n",
       "35. 'logArea'\n",
       "36. 'logProd'\n",
       "\n",
       "\n"
      ],
      "text/plain": [
       " [1] \"ID_0\"      \"ISO\"       \"NAME_0\"    \"ID_1\"      \"NAME_1\"    \"ID_2\"     \n",
       " [7] \"NAME_2\"    \"ID_3\"      \"NAME_3\"    \"TYPE_3\"    \"ENGTYPE_3\" \"NL_NAME_3\"\n",
       "[13] \"VARNAME_3\" \"BIO10\"     \"BIO17\"     \"BIO4\"      \"BIO9\"      \"npp\"      \n",
       "[19] \"BIO10_sd\"  \"BIO17_sd\"  \"BIO4_sd\"   \"BIO9_sd\"   \"npp_sd\"    \"AreaDQ\"   \n",
       "[25] \"YieldDQ\"   \"AreaFr\"    \"AreaHaS\"   \"AreaHaM\"   \"ProdSum\"   \"ProdMean\" \n",
       "[31] \"YieldPH\"   \"area\"      \"AreaPr\"    \"ProdHa\"    \"logArea\"   \"logProd\"  "
      ]
     },
     "metadata": {},
     "output_type": "display_data"
    }
   ],
   "source": [
    "colnames(china@data)"
   ]
  },
  {
   "cell_type": "code",
   "execution_count": 190,
   "metadata": {},
   "outputs": [],
   "source": [
    "data<-china@data[grep(paste(\"_\",i,\"_\",sep=\"\"),colnames(china@data))]"
   ]
  },
  {
   "cell_type": "code",
   "execution_count": 194,
   "metadata": {},
   "outputs": [
    {
     "data": {
      "text/html": [],
      "text/latex": [],
      "text/markdown": [],
      "text/plain": [
       "integer(0)"
      ]
     },
     "metadata": {},
     "output_type": "display_data"
    }
   ],
   "source": [
    "grep(paste(\"_\",1,\"_\",sep=\"\"),colnames(china@data))"
   ]
  },
  {
   "cell_type": "code",
   "execution_count": 201,
   "metadata": {},
   "outputs": [
    {
     "data": {
      "text/html": [
       "<ol class=list-inline>\n",
       "\t<li>'BIO4_8'</li>\n",
       "\t<li>'BIO9_8'</li>\n",
       "\t<li>'BIO1_8'</li>\n",
       "\t<li>'BIO17_8'</li>\n",
       "\t<li>'npp_8'</li>\n",
       "</ol>\n"
      ],
      "text/latex": [
       "\\begin{enumerate*}\n",
       "\\item 'BIO4\\_8'\n",
       "\\item 'BIO9\\_8'\n",
       "\\item 'BIO1\\_8'\n",
       "\\item 'BIO17\\_8'\n",
       "\\item 'npp\\_8'\n",
       "\\end{enumerate*}\n"
      ],
      "text/markdown": [
       "1. 'BIO4_8'\n",
       "2. 'BIO9_8'\n",
       "3. 'BIO1_8'\n",
       "4. 'BIO17_8'\n",
       "5. 'npp_8'\n",
       "\n",
       "\n"
      ],
      "text/plain": [
       "[1] \"BIO4_8\"  \"BIO9_8\"  \"BIO1_8\"  \"BIO17_8\" \"npp_8\"  "
      ]
     },
     "metadata": {},
     "output_type": "display_data"
    }
   ],
   "source": [
    "paste(c(\"BIO4\",\"BIO9\",\"BIO1\",\"BIO17\",\"npp\"),\"_\",i,sep=\"\")"
   ]
  },
  {
   "cell_type": "code",
   "execution_count": 199,
   "metadata": {},
   "outputs": [],
   "source": [
    "pred_niche<-subset(predByPeriod,predictions>=threshold)\n",
    "p_niche<-pred_niche[,c('period','predictions')]\n",
    "p_niche[,c(\"BIO4\",\"BIO9\",\"BIO10\",\"BIO17\",\"npp\")]<-NA\n",
    "\n",
    "p_niche[p_niche$period==\"present\",c(\"BIO4\",\"BIO9\",\"BIO10\",\"BIO17\",\"npp\")]<-pred_niche[pred_niche$period==\"present\",c(\"BIO4\",\"BIO9\",\"BIO1\",\"BIO17\",\"npp\")]\n",
    "\n",
    "for(i in 2:length(unique(p_niche$period))){\n",
    "    print(i)\n",
    "    period<-unique(p_niche$period)[i]\n",
    "    p_niche[p_niche$period==period,c(\"BIO4\",\"BIO9\",\"BIO10\",\"BIO17\",\"npp\")]<-pred_niche[pred_niche$period==period,paste(c(\"BIO4\",\"BIO9\",\"BIO10\",\"BIO17\",\"npp\"),\"_\",i-1,sep=\"\")]\n",
    "\n",
    "}"
   ]
  },
  {
   "cell_type": "code",
   "execution_count": null,
   "metadata": {},
   "outputs": [],
   "source": [
    "niche_summary<-apply(p_niche[3:7],2, summary)"
   ]
  },
  {
   "cell_type": "code",
   "execution_count": null,
   "metadata": {},
   "outputs": [],
   "source": [
    "write.csv(niche_summary, path2niche_summary)"
   ]
  },
  {
   "cell_type": "code",
   "execution_count": 205,
   "metadata": {},
   "outputs": [],
   "source": [
    "niche_summary<-read.csv(path2niche_summary,row.names=1)"
   ]
  },
  {
   "cell_type": "code",
   "execution_count": 218,
   "metadata": {},
   "outputs": [
    {
     "data": {
      "text/html": [
       "<dl class=dl-horizontal>\n",
       "\t<dt>BIO4</dt>\n",
       "\t\t<dd>293.940065137383</dd>\n",
       "\t<dt>BIO9</dt>\n",
       "\t\t<dd>-21.5006905613524</dd>\n",
       "\t<dt>BIO10</dt>\n",
       "\t\t<dd>5.01629402068945</dd>\n",
       "\t<dt>BIO17</dt>\n",
       "\t\t<dd>0</dd>\n",
       "\t<dt>npp</dt>\n",
       "\t\t<dd>85.8900441083806</dd>\n",
       "</dl>\n"
      ],
      "text/latex": [
       "\\begin{description*}\n",
       "\\item[BIO4] 293.940065137383\n",
       "\\item[BIO9] -21.5006905613524\n",
       "\\item[BIO10] 5.01629402068945\n",
       "\\item[BIO17] 0\n",
       "\\item[npp] 85.8900441083806\n",
       "\\end{description*}\n"
      ],
      "text/markdown": [
       "BIO4\n",
       ":   293.940065137383BIO9\n",
       ":   -21.5006905613524BIO10\n",
       ":   5.01629402068945BIO17\n",
       ":   0npp\n",
       ":   85.8900441083806\n",
       "\n"
      ],
      "text/plain": [
       "      BIO4       BIO9      BIO10      BIO17        npp \n",
       "293.940065 -21.500691   5.016294   0.000000  85.890044 "
      ]
     },
     "metadata": {},
     "output_type": "display_data"
    }
   ],
   "source": [
    "apply(niche_summary,2,min)"
   ]
  },
  {
   "cell_type": "code",
   "execution_count": 244,
   "metadata": {},
   "outputs": [],
   "source": [
    "sf_object<-china_sf"
   ]
  },
  {
   "cell_type": "code",
   "execution_count": null,
   "metadata": {},
   "outputs": [],
   "source": [
    "sf_object[as.data.frame(sf_object[,column])[,1]"
   ]
  },
  {
   "cell_type": "code",
   "execution_count": null,
   "metadata": {},
   "outputs": [],
   "source": [
    "get_borders<-function(columns,threshold_min,threshold_max,facets,sf_object){\n",
    "    if(is.null(threshold_min)){threshold_min=-Inf} # If min is not given set it to  -infinity\n",
    "    if(is.null(threshold_max)){threshold_max=Inf} # Id max is not given set it to infinity \n",
    "    if(is.null(facets)){facets=columns}\n",
    "    column<-columns[1]\n",
    "    facet<-facets[1]\n",
    "    sb<-as_Spatial(st_union(sf_object[as.data.frame(sf_object[,column])[,1]>=threshold_min[1] && as.data.frame(sf_object[,column])[,1]>=threshold_max[1] ,]))\n",
    "    sb<-SpatialPolygonsDataFrame(sb,data=data.frame(id=1,facet=facet,row.names=row.names(sb)))\n",
    "    borders<-sb\n",
    "    for (i in 2:6){\n",
    "        column<-columns[i]\n",
    "        facet<-facets[i]\n",
    "        if(length(threshold_min)>1){t_min=threshold_min[i]}else{t_min=threshold_min}\n",
    "        if(length(threshold_max)>1){t_max=threshold_max[i]}else{t_max=threshold_max}\n",
    "        sb<-as_Spatial(st_union(sf_object[as.data.frame(sf_object[,column])[,1]>=t_min && as.data.frame(sf_object[,column])[,1]>=t_max[1],]))\n",
    "        sb<-SpatialPolygonsDataFrame(sb,data=data.frame(id=i,facet=facet,row.names=row.names(sb)))\n",
    "        borders<-rbind(borders,sb)\n",
    "    }\n",
    "    return(borders)\n",
    "}"
   ]
  },
  {
   "cell_type": "code",
   "execution_count": 243,
   "metadata": {},
   "outputs": [
    {
     "ename": "ERROR",
     "evalue": "Error in st_cast_sfc_default(x): list item(s) not of class sfg\n",
     "output_type": "error",
     "traceback": [
      "Error in st_cast_sfc_default(x): list item(s) not of class sfg\nTraceback:\n",
      "1. get_borders(colnames(niche_summary), as.numeric(niche_summary[\"Min.\", \n .     ]), as.numeric(niche_summary[\"Max.\", ]), colnames(niche_summary), \n .     sf_object = china_sf)",
      "2. as_Spatial(st_union(sf_object[as.data.frame(sf_object[, column])[, \n .     1] >= threshold_min[1] && as.data.frame(sf_object[, column])[, \n .     1] >= threshold_max[1], ]))   # at line 7 of file <text>",
      "3. .as_Spatial(from, cast, IDs)",
      "4. st_cast(from)",
      "5. st_cast.sfc(from)",
      "6. st_cast_sfc_default(x)",
      "7. stop(\"list item(s) not of class sfg\")"
     ]
    }
   ],
   "source": [
    "var_borders<-get_borders(colnames(niche_summary),as.numeric(niche_summary[\"Min.\",]),as.numeric(niche_summary[\"Max.\",]),colnames(niche_summary),sf_object=china_sf)"
   ]
  },
  {
   "cell_type": "markdown",
   "metadata": {},
   "source": [
    "# Past mean predictions:"
   ]
  },
  {
   "cell_type": "code",
   "execution_count": 148,
   "metadata": {},
   "outputs": [],
   "source": [
    "### Add data from 15k\n",
    "pred<-cbind(china@data,pred15k)"
   ]
  },
  {
   "cell_type": "code",
   "execution_count": 170,
   "metadata": {},
   "outputs": [],
   "source": [
    "# Gather data by period\n",
    "predByPeriod <- gather(pred,period,predictions,c(colnames(means),\"means_pred_15k\"))"
   ]
  },
  {
   "cell_type": "code",
   "execution_count": 172,
   "metadata": {},
   "outputs": [],
   "source": [
    "### Change names to more informative ones\n",
    "p1<-c(\"present\",unique(loc@data$period),\"15 0000 BP\")\n",
    "p2<-unique(predByPeriod$period)\n",
    "for (i in 1: length(p1)){predByPeriod$period[predByPeriod$period==p2[i]]<-p1[i]}"
   ]
  },
  {
   "cell_type": "code",
   "execution_count": 181,
   "metadata": {},
   "outputs": [],
   "source": [
    "### Scale predictions by the size of the county\n",
    "predByPeriodScaled<-data.frame()\n",
    "for (i in 1: length(p2)){\n",
    "    a<-as.data.frame(cbind(predByPeriod$predictions[predByPeriod$period==p1[i]],china@data$area/1e+6))\n",
    "    colnames(a)<-c(\"predictions\",\"freq\")\n",
    "    count <- as.data.table(rep(a$predictions,a$freq),ncol=1,byrow=TRUE)\n",
    "    count$period<-p1[i]\n",
    "    colnames(count)<-c(\"Predictions\",\"Period\")\n",
    "    predByPeriodScaled<-rbind(predByPeriodScaled,count)\n",
    "}"
   ]
  },
  {
   "cell_type": "code",
   "execution_count": 184,
   "metadata": {},
   "outputs": [],
   "source": [
    "d3<-predByPeriodScaled"
   ]
  },
  {
   "cell_type": "code",
   "execution_count": 186,
   "metadata": {},
   "outputs": [],
   "source": [
    "beeswarmv2<-ggplot()+\n",
    "    geom_violin(data=d3, aes(x=Period, y=exp(Predictions)-1e-11),col=\"darkgrey\")+\n",
    "    geom_hline(aes(yintercept = exp(threshold),linetype=\"minimum predicted value\\n for sites where buckwheat\\nremains were found\"),colour=\"lightblue\",size=1)+\n",
    "    #geom_beeswarm(data=d1[d1$Site_section_name!=\"Kyung-lung Mesa/Kaerdong\",], aes(x=period, y=exp(mean)-1e-11,colour=Sample_type),cex=3.5)+\n",
    "    #geom_beeswarm(data=d1[d1$Site_section_name==\"Kyung-lung Mesa/Kaerdong\",][1,], aes(x=period, y=exp(mean)-1e-11,fill=\"Site_section_name\"),colour=\"red\",cex=3.5)+\n",
    "    scale_colour_manual(name=\"\",values=c(\"lightgreen\",\"cornflowerblue\",\"darkviolet\"))+\n",
    "    scale_linetype_manual(name = \"\",values=\"dashed\")+\n",
    "    scale_fill_manual(name=\"\",values=\"red\",labels=\"F. tataricum\\ncharred seed\")+\n",
    "    theme_bw()+\n",
    "scale_y_continuous(trans='log2',breaks=c(1e-10,1e-7,1e-4,1e-1))+\n",
    "    #scale_fill_manual(name=\"Sites with\\nbuckwheat\",values=c(\"darkgreen\"),labels=c(\"\"))+\n",
    "    labs(y = \"PREDICTED VALUE\\n(proportion of the area under buckehwat cultivation)\\n\",title=\"DISTRIBUTION OF ARCHAEOLOGICAL SITES WITH BUCKWEHAT REMAINS IN ENVIRONMENTAL SPACE\")+\n",
    "    theme_bw()+\n",
    "    theme(axis.text.x = element_text(face=\"bold\", size=14),\n",
    "         axis.text.y = element_text(face=\"bold\", size=14),\n",
    "         axis.title.x=element_blank(),\n",
    "         axis.title.y=element_blank(),\n",
    "         plot.title = element_text(size=16),\n",
    "         legend.position=\"bottom\",\n",
    "         legend.title = element_text(size = 16),\n",
    "         legend.text = element_text(size = 13),\n",
    "         legend.key.width = unit(2,\"cm\")) +\n",
    "            guides(colour = guide_legend(override.aes = list(size=2)),\n",
    "                   linetype = guide_legend(override.aes = list(size=1.5)))"
   ]
  },
  {
   "cell_type": "code",
   "execution_count": 187,
   "metadata": {},
   "outputs": [
    {
     "name": "stderr",
     "output_type": "stream",
     "text": [
      "Warning message in self$trans$transform(x):\n",
      "\"NaNs produced\"\n",
      "Warning message:\n",
      "\"Transformation introduced infinite values in continuous y-axis\"\n",
      "Warning message:\n",
      "\"Removed 2663 rows containing non-finite values (stat_ydensity).\"\n"
     ]
    },
    {
     "data": {
      "image/png": "[encoded data removed]",
      "text/plain": [
       "plot without title"
      ]
     },
     "metadata": {
      "image/png": {
       "height": 420,
       "width": 420
      },
      "text/plain": {
       "height": 420,
       "width": 420
      }
     },
     "output_type": "display_data"
    }
   ],
   "source": [
    "beeswarmv2"
   ]
  },
  {
   "cell_type": "code",
   "execution_count": null,
   "metadata": {
    "collapsed": true
   },
   "outputs": [],
   "source": [
    "#dev.off()\n",
    "#width=5\n",
    "#height=5\n",
    "#dev.new(width=width, height=height, unit=\"in\")\n",
    "boxplot<-ggplot()+\n",
    "  #geom_boxplot(data=d1, aes(x=period, y=predictions,fill=factor(interval,levels=c(\"q5\",\"q95\",\"mean\"))),show.legend=TRUE,position = \"identity\",alpha=0.1)+\n",
    "  #scale_fill_manual(name=\"interval\",values=c(\"darkblue\",\"darkgreen\",\"darkgrey\"),labels=c(\"5 %\",\"95%\",\"mean\"))+\n",
    "  #scale_alpha(range = c(0.1, 1))+\n",
    "  geom_boxplot(data=loc@data, aes(x=period, y=mean),color=\"black\",fill=\"darkgrey\",alpha=0.95)+\n",
    "  labs(title = \"Suitability of environmental conditions on the sites\\nwhere buckwheat was found\")+\n",
    "  theme_bw()+\n",
    "  theme(plot.title = element_text(hjust = 0.5,size=10))"
   ]
  },
  {
   "cell_type": "code",
   "execution_count": 94,
   "metadata": {
    "collapsed": true
   },
   "outputs": [],
   "source": [
    "beeswarmv<-ggplot()+\n",
    "    geom_violin(data=d2, aes(x=period, y=exp(predictions)-1e-11),col=\"darkgrey\")+\n",
    "    geom_hline(aes(yintercept = exp(threshold),linetype=\"minimum predicted value\\n for sites where buckwheat\\nremains were found\"),colour=\"lightblue\",size=1)+\n",
    "    geom_beeswarm(data=d1[d1$Site_section_name!=\"Kyung-lung Mesa/Kaerdong\",], aes(x=period, y=exp(mean)-1e-11,colour=Sample_type),cex=2)+\n",
    "    geom_beeswarm(data=d1[d1$Site_section_name==\"Kyung-lung Mesa/Kaerdong\",][1,], aes(x=period, y=exp(mean)-1e-11,fill=\"Site_section_name\"),colour=\"red\",cex=2)+\n",
    "    scale_colour_manual(name=\"\",values=c(\"black\",\"orange\",\"green\"))+\n",
    "    scale_linetype_manual(name = \"\",values=\"dashed\")+\n",
    "    scale_fill_manual(name=\"\",values=\"red\",labels=\"F. tataricum\\ncharred seeds\")+\n",
    "    #scale_fill_manual(name=\"Sites with\\nbuckwheat\",values=c(\"darkgreen\"),labels=c(\"\"))+\n",
    "    theme_bw()+\n",
    "scale_y_continuous(trans='log2',breaks=c(1e-10,1e-7,1e-4,1e-1))+\n",
    "    #scale_fill_manual(name=\"Sites with\\nbuckwheat\",values=c(\"darkgreen\"),labels=c(\"\"))+\n",
    "    labs(y = \"PREDICTED VALUE\\n(proportion of the area under buckehwat cultivation)\\n\",title=\"VIOLIN PLOT\")+\n",
    "    theme_bw()+\n",
    "    theme(axis.text.x = element_text(face=\"bold\", size=14),\n",
    "         axis.text.y = element_blank(),\n",
    "         axis.title.x=element_blank(),\n",
    "         axis.title.y=element_blank(),\n",
    "         plot.title = element_text(size=16),\n",
    "         legend.position=\"bottom\",\n",
    "         legend.title = element_text(size = 16),\n",
    "         legend.text = element_text(size = 14),\n",
    "         legend.key.width = unit(2,\"cm\")) +\n",
    "            guides(colour = guide_legend(override.aes = list(size=2)),\n",
    "                   linetype = guide_legend(override.aes = list(size=1.5)))"
   ]
  },
  {
   "cell_type": "code",
   "execution_count": 96,
   "metadata": {
    "collapsed": true
   },
   "outputs": [],
   "source": [
    "beeswarmb<-ggplot()+\n",
    "    geom_boxplot(data=d2, aes(x=period, y=exp(predictions)-1e-11),col=\"darkgrey\")+\n",
    "    geom_hline(aes(yintercept = exp(threshold),linetype=\"minimum predicted value\\n for sites where buckwheat\\nremains were found\"),colour=\"lightblue\",size=1)+\n",
    "    geom_beeswarm(data=d1[d1$Site_section_name!=\"Kyung-lung Mesa/Kaerdong\",], aes(x=period, y=exp(mean)-1e-11,colour=Sample_type),cex=2)+\n",
    "    geom_beeswarm(data=d1[d1$Site_section_name==\"Kyung-lung Mesa/Kaerdong\",][1,], aes(x=period, y=exp(mean)-1e-11,fill=\"Site_section_name\"),colour=\"red\",cex=2)+\n",
    "    scale_colour_manual(name=\"\",values=c(\"black\",\"orange\",\"green\"))+\n",
    "    scale_linetype_manual(name = \"\",values=\"dashed\")+\n",
    "    scale_fill_manual(name=\"\",values=\"red\",labels=\"F. tataricum\\ncharred seed\")+\n",
    "    #scale_fill_manual(name=\"Sites with\\nbuckwheat\",values=c(\"darkgreen\"),labels=c(\"\"))+\n",
    "    theme_bw()+\n",
    "scale_y_continuous(trans='log2',breaks=c(1e-10,1e-7,1e-4,1e-1))+\n",
    "    #scale_fill_manual(name=\"Sites with\\nbuckwheat\",values=c(\"darkgreen\"),labels=c(\"\"))+\n",
    "    labs(y = \"PREDICTED VALUE\\n(proportion of the area under buckehwat cultivation)\\n\",title=\"BOX PLOT\")+\n",
    "    theme_bw()+\n",
    "    theme(axis.text.x = element_text(face=\"bold\", size=14),\n",
    "         axis.text.y = element_text(face=\"bold\", size=14),\n",
    "         axis.title.x=element_blank(),\n",
    "         axis.title.y=element_blank(),\n",
    "         plot.title = element_text(size=16),\n",
    "         legend.position=\"bottom\",\n",
    "         legend.title = element_text(size = 16),\n",
    "         legend.text = element_text(size = 14),\n",
    "         legend.key.width = unit(2,\"cm\")) +\n",
    "            guides(colour = guide_legend(override.aes = list(size=2)),\n",
    "                   linetype = guide_legend(override.aes = list(size=1.5)))"
   ]
  },
  {
   "cell_type": "code",
   "execution_count": null,
   "metadata": {
    "collapsed": true
   },
   "outputs": [],
   "source": [
    "head(d1)"
   ]
  },
  {
   "cell_type": "code",
   "execution_count": null,
   "metadata": {
    "collapsed": true
   },
   "outputs": [],
   "source": [
    "ggplot()+ \n",
    "geom_beeswarm(data=d1, aes(x=period, y=exp(mean)-1e-11, color=Sample_type),cex=2)"
   ]
  },
  {
   "cell_type": "code",
   "execution_count": null,
   "metadata": {
    "collapsed": true
   },
   "outputs": [],
   "source": [
    "ggplot()+\n",
    "geom_hline(yintercept = exp(min_values['6000 BP','mean']),linetype=\"dashed\", color = \"lightblue\", size=1)+\n",
    " scale_linetype_manual(name = \"limit\", values=exp(min_values['6000 BP','mean']), \n",
    "                      guide = guide_legend(override.aes = list(color =\"blue\")))+\n",
    "theme(legend.position = \"left\")"
   ]
  },
  {
   "cell_type": "code",
   "execution_count": null,
   "metadata": {
    "collapsed": true
   },
   "outputs": [],
   "source": [
    "saved <- options(repr.plot.width=20, repr.plot.height=8)\n",
    "saved$repr.plot.width <- 20\n",
    "saved$repr.plot.height<- 8\n",
    "options(saved)\n",
    "beeswarmbs<-ggplot()+\n",
    "    geom_beeswarm(data=d2, aes(x=period, y=exp(predictions)-1e-11),col=\"darkgrey\",cex=0.25)+\n",
    "    geom_hline(aes(yintercept = exp(min_values['6000 BP','mean']),linetype=\"minimum predicted value\\n for sites where buckwheat\\nremains were found\"),colour=\"lightblue\",size=1)+\n",
    "    geom_beeswarm(data=d1[d1$Site_section_name!=\"Kyung-lung Mesa/Kaerdong\",], aes(x=period, y=exp(mean)-1e-11,colour=Sample_type),cex=3.5)+\n",
    "    geom_beeswarm(data=d1[d1$Site_section_name==\"Kyung-lung Mesa/Kaerdong\",][1,], aes(x=period, y=exp(mean)-1e-11,fill=\"Site_section_name\"),colour=\"red\",cex=3.5)+\n",
    "    scale_colour_manual(name=\"Sample type\",values=c(\"black\",\"orange\",\"green\"))+\n",
    "    scale_linetype_manual(name = \"\",values=\"dashed\")+\n",
    "    scale_fill_manual(name=\"\",values=\"red\",labels=\"F. tataricum\\ncharred seed\")+\n",
    "    theme_bw()+\n",
    "scale_y_continuous(trans='log2',breaks=c(1e-10,1e-7,1e-4,1e-1))+\n",
    "    #scale_fill_manual(name=\"Sites with\\nbuckwheat\",values=c(\"darkgreen\"),labels=c(\"\"))+\n",
    "    labs(y = \"PREDICTED VALUE\\n(proportion of the area under buckehwat cultivation)\\n\",title=\"BEESWARM PLOT\")+\n",
    "    theme_bw()+\n",
    "    theme(axis.text.x = element_text(face=\"bold\", size=14),\n",
    "         axis.text.y = element_text(face=\"bold\", size=14),\n",
    "         axis.title.x=element_blank(),\n",
    "         axis.title.y=element_blank(),\n",
    "         plot.title = element_text(size=16),\n",
    "         legend.position=\"none\",\n",
    "         legend.title = element_text(size = 16),\n",
    "         legend.text = element_text(size = 14),\n",
    "         legend.key.width = unit(2,\"cm\")) +\n",
    "            guides(colour = guide_legend(override.aes = list(size=2)),\n",
    "                   linetype = guide_legend(override.aes = list(size=1.5)))"
   ]
  },
  {
   "cell_type": "code",
   "execution_count": null,
   "metadata": {
    "collapsed": true
   },
   "outputs": [],
   "source": [
    "beeswarmbs"
   ]
  },
  {
   "cell_type": "code",
   "execution_count": null,
   "metadata": {
    "collapsed": true
   },
   "outputs": [],
   "source": [
    "bplots<-ggarrange(beeswarmbs,ggarrange(beeswarmb,beeswarmv, ncol=2,common.legend=TRUE,legend=\"bottom\"),ncol=1,nrow=2)"
   ]
  },
  {
   "cell_type": "code",
   "execution_count": null,
   "metadata": {
    "collapsed": true
   },
   "outputs": [],
   "source": [
    "bplotsa<-annotate_figure(bplots,top=text_grob(\"Sutability of climatic conditions on sites with buckwheat remains, overlaid on the overall distribution of climatic conditions\\nacross counties in China per time period (values per county, area of the county not included in the analysis)\",face = \"bold\",size=22),\n",
    "                                              left = text_grob(\"PREDICTED VALUE (proportion of the area under buckehwat cultivation)\\n\",size=16, rot = 90))"
   ]
  },
  {
   "cell_type": "code",
   "execution_count": null,
   "metadata": {
    "collapsed": true
   },
   "outputs": [],
   "source": [
    "bplotsa"
   ]
  },
  {
   "cell_type": "code",
   "execution_count": null,
   "metadata": {
    "collapsed": true
   },
   "outputs": [],
   "source": [
    "ggsave(path2bplots,bplotsa,width = 20, height = 15, units = \"in\",device='png')"
   ]
  },
  {
   "cell_type": "code",
   "execution_count": 174,
   "metadata": {},
   "outputs": [
    {
     "name": "stderr",
     "output_type": "stream",
     "text": [
      "\n",
      "Attaching package: 'data.table'\n",
      "\n",
      "\n",
      "The following object is masked from 'package:raster':\n",
      "\n",
      "    shift\n",
      "\n",
      "\n",
      "The following objects are masked from 'package:dplyr':\n",
      "\n",
      "    between, first, last\n",
      "\n",
      "\n"
     ]
    }
   ],
   "source": [
    "library(data.table)"
   ]
  },
  {
   "cell_type": "code",
   "execution_count": null,
   "metadata": {
    "collapsed": true
   },
   "outputs": [],
   "source": []
  },
  {
   "cell_type": "code",
   "execution_count": 22,
   "metadata": {},
   "outputs": [
    {
     "data": {
      "text/html": [
       "<table>\n",
       "<caption>A data.table: 6 × 2</caption>\n",
       "<thead>\n",
       "\t<tr><th scope=col>Predictions</th><th scope=col>Period</th></tr>\n",
       "\t<tr><th scope=col>&lt;dbl&gt;</th><th scope=col>&lt;chr&gt;</th></tr>\n",
       "</thead>\n",
       "<tbody>\n",
       "\t<tr><td>-6.39835</td><td>1000 BP</td></tr>\n",
       "\t<tr><td>-6.39835</td><td>1000 BP</td></tr>\n",
       "\t<tr><td>-6.39835</td><td>1000 BP</td></tr>\n",
       "\t<tr><td>-6.39835</td><td>1000 BP</td></tr>\n",
       "\t<tr><td>-6.39835</td><td>1000 BP</td></tr>\n",
       "\t<tr><td>-6.39835</td><td>1000 BP</td></tr>\n",
       "</tbody>\n",
       "</table>\n"
      ],
      "text/latex": [
       "A data.table: 6 × 2\n",
       "\\begin{tabular}{ll}\n",
       " Predictions & Period\\\\\n",
       " <dbl> & <chr>\\\\\n",
       "\\hline\n",
       "\t -6.39835 & 1000 BP\\\\\n",
       "\t -6.39835 & 1000 BP\\\\\n",
       "\t -6.39835 & 1000 BP\\\\\n",
       "\t -6.39835 & 1000 BP\\\\\n",
       "\t -6.39835 & 1000 BP\\\\\n",
       "\t -6.39835 & 1000 BP\\\\\n",
       "\\end{tabular}\n"
      ],
      "text/markdown": [
       "\n",
       "A data.table: 6 × 2\n",
       "\n",
       "| Predictions &lt;dbl&gt; | Period &lt;chr&gt; |\n",
       "|---|---|\n",
       "| -6.39835 | 1000 BP |\n",
       "| -6.39835 | 1000 BP |\n",
       "| -6.39835 | 1000 BP |\n",
       "| -6.39835 | 1000 BP |\n",
       "| -6.39835 | 1000 BP |\n",
       "| -6.39835 | 1000 BP |\n",
       "\n"
      ],
      "text/plain": [
       "  Predictions Period \n",
       "1 -6.39835    1000 BP\n",
       "2 -6.39835    1000 BP\n",
       "3 -6.39835    1000 BP\n",
       "4 -6.39835    1000 BP\n",
       "5 -6.39835    1000 BP\n",
       "6 -6.39835    1000 BP"
      ]
     },
     "metadata": {},
     "output_type": "display_data"
    }
   ],
   "source": [
    "head(d3)"
   ]
  },
  {
   "cell_type": "code",
   "execution_count": 35,
   "metadata": {
    "collapsed": true
   },
   "outputs": [],
   "source": [
    "## change the scale to a more informative one:\n",
    "\n",
    "threshold<- -8.869086946"
   ]
  },
  {
   "cell_type": "code",
   "execution_count": 24,
   "metadata": {
    "collapsed": true
   },
   "outputs": [],
   "source": [
    "d3$Period <- factor(d3$Period,levels = c('1000 BP','2000 BP', '3000 BP' ,'4000 BP' ,'5000 BP' ,'6000 BP' ,'15 000 BP'),ordered = TRUE)"
   ]
  },
  {
   "cell_type": "code",
   "execution_count": 57,
   "metadata": {
    "collapsed": true
   },
   "outputs": [],
   "source": [
    "beeswarmv2<-ggplot()+\n",
    "    geom_violin(data=d3, aes(x=Period, y=exp(Predictions)-1e-11),col=\"darkgrey\")+\n",
    "    geom_hline(aes(yintercept = exp(threshold),linetype=\"minimum predicted value\\n for sites where buckwheat\\nremains were found\"),colour=\"lightblue\",size=1)+\n",
    "    geom_beeswarm(data=d1[d1$Site_section_name!=\"Kyung-lung Mesa/Kaerdong\",], aes(x=period, y=exp(mean)-1e-11,colour=Sample_type),cex=3.5)+\n",
    "    geom_beeswarm(data=d1[d1$Site_section_name==\"Kyung-lung Mesa/Kaerdong\",][1,], aes(x=period, y=exp(mean)-1e-11,fill=\"Site_section_name\"),colour=\"red\",cex=3.5)+\n",
    "    scale_colour_manual(name=\"\",values=c(\"lightgreen\",\"cornflowerblue\",\"darkviolet\"))+\n",
    "    scale_linetype_manual(name = \"\",values=\"dashed\")+\n",
    "    scale_fill_manual(name=\"\",values=\"red\",labels=\"F. tataricum\\ncharred seed\")+\n",
    "    theme_bw()+\n",
    "scale_y_continuous(trans='log2',breaks=c(1e-10,1e-7,1e-4,1e-1))+\n",
    "    #scale_fill_manual(name=\"Sites with\\nbuckwheat\",values=c(\"darkgreen\"),labels=c(\"\"))+\n",
    "    labs(y = \"PREDICTED VALUE\\n(proportion of the area under buckehwat cultivation)\\n\",title=\"DISTRIBUTION OF ARCHAEOLOGICAL SITES WITH BUCKWEHAT REMAINS IN ENVIRONMENTAL SPACE\")+\n",
    "    theme_bw()+\n",
    "    theme(axis.text.x = element_text(face=\"bold\", size=14),\n",
    "         axis.text.y = element_text(face=\"bold\", size=14),\n",
    "         axis.title.x=element_blank(),\n",
    "         axis.title.y=element_blank(),\n",
    "         plot.title = element_text(size=16),\n",
    "         legend.position=\"bottom\",\n",
    "         legend.title = element_text(size = 16),\n",
    "         legend.text = element_text(size = 13),\n",
    "         legend.key.width = unit(2,\"cm\")) +\n",
    "            guides(colour = guide_legend(override.aes = list(size=2)),\n",
    "                   linetype = guide_legend(override.aes = list(size=1.5)))"
   ]
  },
  {
   "cell_type": "code",
   "execution_count": 38,
   "metadata": {},
   "outputs": [
    {
     "name": "stderr",
     "output_type": "stream",
     "text": [
      "Warning message in self$trans$transform(x):\n",
      "\"NaNs produced\"\n",
      "Warning message:\n",
      "\"Transformation introduced infinite values in continuous y-axis\"\n",
      "Warning message:\n",
      "\"Removed 2854 rows containing non-finite values (stat_ydensity).\"\n",
      "Warning message:\n",
      "\"Removed 1 rows containing missing values (position_beeswarm).\"\n",
      "Warning message in f(...):\n",
      "\"The default behavior of beeswarm has changed in version 0.6.0. In versions <0.6.0, this plot would have been dodged on the y-axis.  In versions >=0.6.0, grouponX=FALSE must be explicitly set to group on y-axis. Please set grouponX=TRUE/FALSE to avoid this warning and ensure proper axis choice.\"\n"
     ]
    },
    {
     "data": {
      "image/png": "[encoded data removed]",
      "text/plain": [
       "plot without title"
      ]
     },
     "metadata": {
      "image/png": {
       "height": 420,
       "width": 420
      },
      "text/plain": {
       "height": 420,
       "width": 420
      }
     },
     "output_type": "display_data"
    }
   ],
   "source": [
    "beeswarmv2"
   ]
  },
  {
   "cell_type": "code",
   "execution_count": 61,
   "metadata": {
    "collapsed": true
   },
   "outputs": [],
   "source": [
    "beeswarmb2<-ggplot()+\n",
    "    geom_boxplot(data=d3, aes(x=Period, y=exp(Predictions)-1e-11),col=\"darkgrey\")+\n",
    "    geom_hline(aes(yintercept = exp(threshold),linetype=\"minimum predicted value\\n for sites where buckwheat\\nremains were found\"),colour=\"lightblue\",size=1)+\n",
    "    geom_beeswarm(data=d1[d1$Site_section_name!=\"Kyung-lung Mesa/Kaerdong\",], aes(x=period, y=exp(mean)-1e-11,colour=Sample_type),cex=2)+\n",
    "    geom_beeswarm(data=d1[d1$Site_section_name==\"Kyung-lung Mesa/Kaerdong\",][1,], aes(x=period, y=exp(mean)-1e-11,fill=\"Site_section_name\"),colour=\"red\",cex=2)+\n",
    "    scale_colour_manual(name=\"\",values=c(\"lightgreen\",\"cornflowerblue\",\"darkviolet\"))+\n",
    "    scale_linetype_manual(name = \"\",values=\"dashed\")+\n",
    "    scale_fill_manual(name=\"\",values=\"red\",labels=\"F. tataricum\\ncharred seed\")+\n",
    "    #scale_fill_manual(name=\"Sites with\\nbuckwheat\",values=c(\"darkgreen\"),labels=c(\"\"))+\n",
    "    theme_bw()+\n",
    "    scale_y_continuous(trans='log2',breaks=c(1e-10,1e-7,1e-4,1e-1))+\n",
    "    #scale_fill_manual(name=\"Sites with\\nbuckwheat\",values=c(\"darkgreen\"),labels=c(\"\"))+\n",
    "    labs(y = \"PREDICTED VALUE\\n(proportion of the area under buckehwat cultivation)\\n\",title=\"DISTRIBUTION OF ARCHAEOLOGICAL SITES WITH BUCKWEHAT REMAINS IN ENVIRONMENTAL SPACE\")+\n",
    "    theme_bw()+\n",
    "    theme(axis.text.x = element_text(face=\"bold\", size=14),\n",
    "         axis.text.y = element_text(face=\"bold\", size=14),\n",
    "         axis.title.x=element_blank(),\n",
    "         axis.title.y=element_blank(),\n",
    "         plot.title = element_text(size=16),\n",
    "         legend.position=\"bottom\",\n",
    "         legend.title = element_text(size = 16),\n",
    "         legend.text = element_text(size = 13),\n",
    "         legend.key.width = unit(2,\"cm\")) +\n",
    "            guides(colour = guide_legend(override.aes = list(size=2)),\n",
    "                   linetype = guide_legend(override.aes = list(size=1.5)))"
   ]
  },
  {
   "cell_type": "code",
   "execution_count": 62,
   "metadata": {},
   "outputs": [
    {
     "name": "stderr",
     "output_type": "stream",
     "text": [
      "Warning message in self$trans$transform(x):\n",
      "\"NaNs produced\"\n",
      "Warning message:\n",
      "\"Transformation introduced infinite values in continuous y-axis\"\n",
      "Warning message:\n",
      "\"Removed 2854 rows containing non-finite values (stat_boxplot).\"\n",
      "Warning message:\n",
      "\"Removed 1 rows containing missing values (position_beeswarm).\"\n",
      "Warning message in f(...):\n",
      "\"The default behavior of beeswarm has changed in version 0.6.0. In versions <0.6.0, this plot would have been dodged on the y-axis.  In versions >=0.6.0, grouponX=FALSE must be explicitly set to group on y-axis. Please set grouponX=TRUE/FALSE to avoid this warning and ensure proper axis choice.\"\n"
     ]
    },
    {
     "data": {
      "text/html": [
       "<strong>png:</strong> 2"
      ],
      "text/latex": [
       "\\textbf{png:} 2"
      ],
      "text/markdown": [
       "**png:** 2"
      ],
      "text/plain": [
       "png \n",
       "  2 "
      ]
     },
     "metadata": {},
     "output_type": "display_data"
    }
   ],
   "source": [
    "png(\"outputs/boxplot.png\", units=\"cm\", width=width, height=height,res=300)\n",
    "beeswarmb2\n",
    "dev.off()"
   ]
  },
  {
   "cell_type": "code",
   "execution_count": 46,
   "metadata": {},
   "outputs": [
    {
     "name": "stderr",
     "output_type": "stream",
     "text": [
      "Warning message:\n",
      "\"Removed 468 rows containing non-finite values (stat_boxplot).\"\n",
      "Warning message:\n",
      "\"Removed 1 rows containing missing values (position_beeswarm).\"\n"
     ]
    },
    {
     "data": {
      "image/png": "[encoded data removed]",
      "text/plain": [
       "plot without title"
      ]
     },
     "metadata": {
      "image/png": {
       "height": 420,
       "width": 420
      },
      "text/plain": {
       "height": 420,
       "width": 420
      }
     },
     "output_type": "display_data"
    }
   ],
   "source": [
    "ggplot()+\n",
    "    geom_boxplot(data=d3, aes(x=Period, y=exp(Predictions)-1e-11),col=\"darkgrey\")+\n",
    "    geom_hline(aes(yintercept = exp(threshold),linetype=\"minimum predicted value\\n for sites where buckwheat\\nremains were found\"),colour=\"lightblue\",size=1)+\n",
    "    geom_beeswarm(data=d1[d1$Site_section_name!=\"Kyung-lung Mesa/Kaerdong\",], aes(x=period, y=exp(mean)-1e-11,colour=Sample_type,pch=Sample_type),cex=2)"
   ]
  },
  {
   "cell_type": "code",
   "execution_count": 47,
   "metadata": {},
   "outputs": [
    {
     "name": "stderr",
     "output_type": "stream",
     "text": [
      "Warning message in self$trans$transform(x):\n",
      "\"NaNs produced\"\n",
      "Warning message:\n",
      "\"Transformation introduced infinite values in continuous y-axis\"\n",
      "Warning message:\n",
      "\"Removed 2854 rows containing non-finite values (stat_boxplot).\"\n",
      "Warning message:\n",
      "\"Removed 1 rows containing missing values (position_beeswarm).\"\n",
      "Warning message in f(...):\n",
      "\"The default behavior of beeswarm has changed in version 0.6.0. In versions <0.6.0, this plot would have been dodged on the y-axis.  In versions >=0.6.0, grouponX=FALSE must be explicitly set to group on y-axis. Please set grouponX=TRUE/FALSE to avoid this warning and ensure proper axis choice.\"\n"
     ]
    },
    {
     "data": {
      "image/png": "[encoded data removed]",
      "text/plain": [
       "plot without title"
      ]
     },
     "metadata": {
      "image/png": {
       "height": 420,
       "width": 420
      },
      "text/plain": {
       "height": 420,
       "width": 420
      }
     },
     "output_type": "display_data"
    }
   ],
   "source": [
    "beeswarmb2"
   ]
  },
  {
   "cell_type": "code",
   "execution_count": null,
   "metadata": {
    "collapsed": true
   },
   "outputs": [],
   "source": [
    "bplots2<-ggarrange(beeswarmv2,beeswarmb2,ncol=1,nrow=2,common.legend=TRUE,legend=\"bottom\")"
   ]
  },
  {
   "cell_type": "code",
   "execution_count": null,
   "metadata": {
    "collapsed": true
   },
   "outputs": [],
   "source": [
    "bplotsa2<-annotate_figure(bplots2,top=text_grob(\"Sutability of climatic conditions on sites with buckwheat remains, overlaid on the overall distribution of climatic\\n conditions across China per time period (values per area equivalent to the smallest county in China)\",face = \"bold\",size=19),\n",
    "                                              left = text_grob(\"PREDICTED VALUE (proportion of the area under buckehwat cultivation)\\n\",size=16, rot = 90))"
   ]
  },
  {
   "cell_type": "code",
   "execution_count": null,
   "metadata": {
    "collapsed": true
   },
   "outputs": [],
   "source": [
    "bplotsa2"
   ]
  },
  {
   "cell_type": "code",
   "execution_count": null,
   "metadata": {
    "collapsed": true
   },
   "outputs": [],
   "source": [
    "ggsave(path2bplots_area,bplotsa2,width = 15, height = 15, units = \"in\",device='png')"
   ]
  },
  {
   "cell_type": "code",
   "execution_count": 57,
   "metadata": {},
   "outputs": [
    {
     "name": "stdout",
     "output_type": "stream",
     "text": [
      "[1] 1\n",
      "[1] 2\n",
      "[1] 3\n",
      "[1] 4\n",
      "[1] 5\n",
      "[1] 6\n"
     ]
    }
   ],
   "source": [
    "### Get minimum predictions for each period\n",
    "min_values<-data.frame()\n",
    "periods<-unique(loc@data$period)\n",
    "for(i in 1:6){\n",
    "    print(i)\n",
    "    k1<-loc@data[loc@data$period==periods[i],]\n",
    "    min_value<-k1[which.min(k1$mean),c('mean','q5','q95')]\n",
    "    min_values<-rbind(min_values,min_value)\n",
    "    }\n",
    "rownames(min_values) <-periods"
   ]
  },
  {
   "cell_type": "code",
   "execution_count": null,
   "metadata": {
    "collapsed": true
   },
   "outputs": [],
   "source": [
    "write.csv(min_values,file=path2min)"
   ]
  },
  {
   "cell_type": "code",
   "execution_count": null,
   "metadata": {
    "collapsed": true
   },
   "outputs": [],
   "source": [
    "### add to data a new column termed \"id\" composed of the rownames of data\n",
    "###Keep only the necessary columns:\n",
    "d<-china\n",
    "d@data<-means\n",
    "d@data$id <- rownames(d@data)\n",
    "d<-d[!is.na(d@data$means_pred_6k_log),] # check later what's up with NA values"
   ]
  },
  {
   "cell_type": "code",
   "execution_count": null,
   "metadata": {
    "collapsed": true
   },
   "outputs": [],
   "source": [
    "### Get polygon with mean value for each periods:\n",
    "period_names<-colnames(d@data)\n",
    "min_polygons <-list()\n",
    "## This creates the boundary for the areas of suitable \n",
    "## Create this for each period:\n",
    "for(i in 1:7){\n",
    "    print(period_names[i])\n",
    "a<-d[d@data[,period_names[i]]>min_values['6000 BP','mean'],]\n",
    "a@data<-as.data.frame(a@data$id)\n",
    "#### It should be this, but it takes a long time to process\n",
    "p<-unionSpatialPolygons(a, rep(1,length(a)))\n",
    "min_polygons[[i]] <- p\n",
    "#metadata<-as.data.frame(rbind(c(\"6000 BP\",\"mean\")))\n",
    "#colnames(metadata)<-c(\"Period\",\"Interval\")\n",
    "#pdf<-SpatialPolygonsDataFrame(p,metadata)\n",
    "    }\n",
    "    "
   ]
  },
  {
   "cell_type": "code",
   "execution_count": null,
   "metadata": {
    "collapsed": true
   },
   "outputs": [],
   "source": [
    "min_polygons"
   ]
  },
  {
   "cell_type": "code",
   "execution_count": null,
   "metadata": {
    "collapsed": true
   },
   "outputs": [],
   "source": [
    "library(raster)\n",
    "polygons <- do.call(bind, min_polygons) "
   ]
  },
  {
   "cell_type": "code",
   "execution_count": null,
   "metadata": {
    "collapsed": true
   },
   "outputs": [],
   "source": [
    "loc@data$period"
   ]
  },
  {
   "cell_type": "code",
   "execution_count": null,
   "metadata": {
    "collapsed": true
   },
   "outputs": [],
   "source": [
    "pol_data<-as.data.frame(cbind(1:7,c(\"present\",unique(loc@data$period))))\n",
    "colnames(pol_data)<-c(\"id\",\"period\")"
   ]
  },
  {
   "cell_type": "code",
   "execution_count": null,
   "metadata": {
    "collapsed": true
   },
   "outputs": [],
   "source": [
    "pol = SpatialPolygonsDataFrame(polygons,data=pol_data)"
   ]
  },
  {
   "cell_type": "code",
   "execution_count": null,
   "metadata": {
    "collapsed": true
   },
   "outputs": [],
   "source": [
    "str(pol)"
   ]
  },
  {
   "cell_type": "code",
   "execution_count": null,
   "metadata": {
    "collapsed": true
   },
   "outputs": [],
   "source": [
    "predDF <- fortify(d, region = \"id\")\n",
    "categories <- gather(d@data, category, predictions,mean_names[2:7])\n",
    "predDF <- left_join(predDF, categories, by = \"id\")\n",
    "\n"
   ]
  },
  {
   "cell_type": "code",
   "execution_count": null,
   "metadata": {
    "collapsed": true
   },
   "outputs": [],
   "source": [
    "polDF <- fortify(pol, region = \"id\")"
   ]
  },
  {
   "cell_type": "code",
   "execution_count": null,
   "metadata": {
    "collapsed": true
   },
   "outputs": [],
   "source": [
    "head(polDF)"
   ]
  },
  {
   "cell_type": "code",
   "execution_count": null,
   "metadata": {
    "collapsed": true
   },
   "outputs": [],
   "source": [
    "polDF <- left_join(polDF,pol@data, by = \"id\")"
   ]
  },
  {
   "cell_type": "code",
   "execution_count": null,
   "metadata": {
    "collapsed": true
   },
   "outputs": [],
   "source": [
    "head(polDF)"
   ]
  },
  {
   "cell_type": "code",
   "execution_count": null,
   "metadata": {
    "collapsed": true
   },
   "outputs": [],
   "source": [
    "ggplot(data =polDF[polDF$id%in%2:7,],aes(x = long, y = lat,group=group)) + # define variables\n",
    "geom_polygon(colour=\"black\",fill=\"grey\",alpha = 0.2)+  # plot the boroughs\n",
    "facet_wrap(~period) "
   ]
  },
  {
   "cell_type": "code",
   "execution_count": null,
   "metadata": {
    "collapsed": true
   },
   "outputs": [],
   "source": []
  },
  {
   "cell_type": "code",
   "execution_count": null,
   "metadata": {
    "collapsed": true
   },
   "outputs": [],
   "source": [
    "ggplot(data =pol,aes(x = long, y = lat,group=group)) + # define variables\n",
    "geom_polygon(colour=\"black\",fill=\"grey\",alpha = 0.2)+  # plot the boroughs\n",
    "facet_wrap(~id) "
   ]
  },
  {
   "cell_type": "code",
   "execution_count": null,
   "metadata": {
    "collapsed": true
   },
   "outputs": [],
   "source": [
    "pol"
   ]
  },
  {
   "cell_type": "code",
   "execution_count": null,
   "metadata": {
    "collapsed": true
   },
   "outputs": [],
   "source": [
    "ggplot(data=min_polygons[[1]],aes(x = long, y = lat,group=group))+\n",
    "geom_polygon(colour=\"black\",fill=\"grey\",alpha = 0.2)"
   ]
  },
  {
   "cell_type": "code",
   "execution_count": null,
   "metadata": {
    "collapsed": true
   },
   "outputs": [],
   "source": [
    "plot(min_polygons[[1]],border=\"red\",lwd=3)\n",
    "#plot(min_polygons[[2]],border=\"green\",lwd=2.5)\n",
    "#plot(min_polygons[[3]],border=\"blue\",lwd=2)\n",
    "#plot(min_polygons[[4]],border=\"yellow\",add=TRUE,lwd=1.5)\n",
    "#plot(min_polygons[[5]],border=\"purple\", add=TRUE,lwd=1)\n",
    "plot(min_polygons[[6]],border=\"grey\",add=TRUE,lwd=0.5)\n",
    "#plot(min_polygons[[7]],border=\"black\",add=TRUE,lwd=0.25)"
   ]
  },
  {
   "cell_type": "code",
   "execution_count": null,
   "metadata": {
    "collapsed": true
   },
   "outputs": [],
   "source": [
    "min_polygons"
   ]
  },
  {
   "cell_type": "code",
   "execution_count": null,
   "metadata": {
    "collapsed": true
   },
   "outputs": [],
   "source": [
    "### Get polygon with mean value for each periods:\n",
    "period_names<-colnames(d@data)\n",
    "threshold_polygons <-list()\n",
    "periods<-unique(loc@data$period)\n",
    "periods <- c(\"0\",periods)\n",
    "## This creates the boundary for the areas of suitable \n",
    "## Create this for each period:\n",
    "for(i in 2:7){\n",
    "    print(period_names[i])\n",
    "a<-d[d@data[,period_names[i]]>min_values[periods[i],'mean'],]\n",
    "a@data<-as.data.frame(a@data$id)\n",
    "#### It should be this, but it takes a long time to process\n",
    "p<-unionSpatialPolygons(a, rep(1,length(a)))\n",
    "threshold_polygons[[i-1]] <- p\n",
    "#metadata<-as.data.frame(rbind(c(\"6000 BP\",\"mean\")))\n",
    "#colnames(metadata)<-c(\"Period\",\"Interval\")\n",
    "#pdf<-SpatialPolygonsDataFrame(p,metadata)\n",
    "    }"
   ]
  },
  {
   "cell_type": "code",
   "execution_count": null,
   "metadata": {
    "collapsed": true
   },
   "outputs": [],
   "source": [
    "plot(threshold_polygons[[1]],border=\"red\",lwd=3)\n",
    "plot(threshold_polygons[[2]],add=TRUE,border=\"green\",lwd=2.5)\n",
    "plot(threshold_polygons[[3]],add=TRUE,border=\"blue\",lwd=2)\n",
    "plot(threshold_polygons[[4]],border=\"yellow\",add=TRUE,lwd=1.5)\n",
    "plot(threshold_polygons[[5]],border=\"purple\", add=TRUE,lwd=1)\n",
    "plot(threshold_polygons[[6]],border=\"grey\",add=TRUE,lwd=0.5)"
   ]
  },
  {
   "cell_type": "code",
   "execution_count": null,
   "metadata": {
    "collapsed": true
   },
   "outputs": [],
   "source": [
    "### Merge polygon data:\n",
    "\n",
    "pol2<-merge(SpatialPolygonsDataFrame(threshold_polygons[[1]]),SpatialPolygonsDataFrame(threshold_polygons[[2]]))"
   ]
  },
  {
   "cell_type": "code",
   "execution_count": null,
   "metadata": {
    "collapsed": true
   },
   "outputs": [],
   "source": [
    "metadata<-as.data.frame(rbind(c(\"6000 BP\",\"mean\",1)))\n",
    "colnames(metadata)<-c(\"Period\",\"Interval\",\"id\")\n",
    "pdf<-SpatialPolygonsDataFrame(threshold_polygons[[6]],metadata)"
   ]
  },
  {
   "cell_type": "code",
   "execution_count": null,
   "metadata": {
    "collapsed": true
   },
   "outputs": [],
   "source": [
    "pdf2"
   ]
  },
  {
   "cell_type": "code",
   "execution_count": null,
   "metadata": {
    "collapsed": true
   },
   "outputs": [],
   "source": [
    "metadata<-as.data.frame(rbind(c(\"5000 BP\",\"mean\",2)))\n",
    "colnames(metadata)<-c(\"Period\",\"Interval\",\"ID\")\n",
    "pdf2<-SpatialPolygonsDataFrame(threshold_polygons[[5]],metadata)"
   ]
  },
  {
   "cell_type": "code",
   "execution_count": null,
   "metadata": {
    "collapsed": true
   },
   "outputs": [],
   "source": [
    "pol3<-SpatialPolygonsDataFrame(c(threshold_polygons[[5]],threshold_polygons[[5]]),pol2@data)"
   ]
  },
  {
   "cell_type": "code",
   "execution_count": null,
   "metadata": {
    "collapsed": true
   },
   "outputs": [],
   "source": [
    "str(pdf@polygons)\n"
   ]
  },
  {
   "cell_type": "code",
   "execution_count": null,
   "metadata": {
    "collapsed": true
   },
   "outputs": [],
   "source": [
    " h<-spRbind(pdf,pdf2)"
   ]
  },
  {
   "cell_type": "code",
   "execution_count": null,
   "metadata": {
    "collapsed": true
   },
   "outputs": [],
   "source": [
    "pdf"
   ]
  },
  {
   "cell_type": "code",
   "execution_count": null,
   "metadata": {
    "collapsed": true
   },
   "outputs": [],
   "source": [
    "#### GGplot polygons:\n",
    "difference<-ggplot() + \n",
    "geom_polygon(data=min_polygons[[1]],aes(x = long, y = lat))+\n",
    "coord_equal()+\n",
    "labs(title =\"Difference between the mean predictions\\nand the observed value\")+\n",
    "theme(\n",
    "  panel.background = element_rect(fill = NA),\n",
    "  panel.grid.major = element_line(colour = \"lightgrey\"),\n",
    "  strip.background = element_rect(fill=NA),\n",
    "  legend.key.height=unit(0.5,\"cm\"),\n",
    "  text = element_text(family = \"sans\"), \n",
    "  axis.text=element_text(size=10),\n",
    "  plot.title = element_text(hjust = 0.5,size=8))+\n",
    "scale_fill_gradient2(low = \"blue\", mid=\"yellow\", high = \"red\")\n",
    "difference"
   ]
  },
  {
   "cell_type": "code",
   "execution_count": null,
   "metadata": {
    "collapsed": true
   },
   "outputs": [],
   "source": [
    "## This creates the boundary for the areas of suitable \n",
    "## Create this for each period:\n",
    "a<-d[d@data$means_pred_6k_log>min_values['6000 BP','mean'],]\n",
    "a@data<-as.data.frame(a@data$id)\n",
    "#### It should be this, but it takes a long time to process\n",
    "p<-unionSpatialPolygons(a, rep(1,length(a)))\n",
    "metadata<-as.data.frame(rbind(c(\"6000 BP\",\"mean\")))\n",
    "colnames(metadata)<-c(\"Period\",\"Interval\")\n",
    "#pdf<-SpatialPolygonsDataFrame(p,metadata)"
   ]
  },
  {
   "cell_type": "code",
   "execution_count": null,
   "metadata": {
    "collapsed": true
   },
   "outputs": [],
   "source": [
    "pdf<-SpatialPolygonsDataFrame(p,metadata)"
   ]
  },
  {
   "cell_type": "code",
   "execution_count": null,
   "metadata": {
    "collapsed": true
   },
   "outputs": [],
   "source": [
    "cbind(pdf,pdf)"
   ]
  },
  {
   "cell_type": "code",
   "execution_count": null,
   "metadata": {
    "collapsed": true
   },
   "outputs": [],
   "source": [
    "b<-unionSpatialPolygons(a, rep(1,length@data$id))"
   ]
  },
  {
   "cell_type": "code",
   "execution_count": null,
   "metadata": {
    "collapsed": true
   },
   "outputs": [],
   "source": [
    "plot(b)"
   ]
  },
  {
   "cell_type": "code",
   "execution_count": null,
   "metadata": {
    "collapsed": true
   },
   "outputs": [],
   "source": [
    "str(a)"
   ]
  },
  {
   "cell_type": "code",
   "execution_count": null,
   "metadata": {
    "collapsed": true
   },
   "outputs": [],
   "source": []
  },
  {
   "cell_type": "code",
   "execution_count": null,
   "metadata": {
    "collapsed": true
   },
   "outputs": [],
   "source": [
    "colnames(d@data)"
   ]
  },
  {
   "cell_type": "code",
   "execution_count": null,
   "metadata": {
    "collapsed": true
   },
   "outputs": [],
   "source": [
    "min_values<-data.frame()\n",
    "\n",
    "rbind(min_values,min_value)"
   ]
  },
  {
   "cell_type": "code",
   "execution_count": null,
   "metadata": {
    "collapsed": true
   },
   "outputs": [],
   "source": [
    "k1[which.min(k1$mean),c('mean','q5','q95')]"
   ]
  },
  {
   "cell_type": "code",
   "execution_count": null,
   "metadata": {
    "collapsed": true
   },
   "outputs": [],
   "source": [
    "loc@data$mean<-NA\n",
    "loc@data$q5<-NA\n",
    "loc@data$q95<-NA\n"
   ]
  },
  {
   "cell_type": "code",
   "execution_count": null,
   "metadata": {
    "collapsed": true
   },
   "outputs": [],
   "source": [
    "loc@data[grep(\"1\",loc@data$period),c(mean,q5,q95)]"
   ]
  },
  {
   "cell_type": "code",
   "execution_count": null,
   "metadata": {
    "collapsed": true
   },
   "outputs": [],
   "source": [
    "loc@data[grep(as.character(i),loc@data$period),c('mean','q5','q95')]<-loc@data[grep(as.character(i),loc@data$period),grep(paste(i,\"k\",sep=\"\"),colnames(loc@data))]"
   ]
  },
  {
   "cell_type": "code",
   "execution_count": null,
   "metadata": {
    "collapsed": true
   },
   "outputs": [],
   "source": [
    "loc@data[grep(as.character(i),loc@data$period),c('mean','q5','q95')]<-loc@data[grep(\"1\",loc@data$period),grep(\"1k\",colnames(loc@data))]"
   ]
  },
  {
   "cell_type": "code",
   "execution_count": null,
   "metadata": {
    "collapsed": true
   },
   "outputs": [],
   "source": [
    "loc@data\n"
   ]
  },
  {
   "cell_type": "code",
   "execution_count": null,
   "metadata": {
    "collapsed": true
   },
   "outputs": [],
   "source": [
    "loc@data$period"
   ]
  },
  {
   "cell_type": "code",
   "execution_count": null,
   "metadata": {
    "collapsed": true
   },
   "outputs": [],
   "source": [
    "library(sp)"
   ]
  },
  {
   "cell_type": "code",
   "execution_count": null,
   "metadata": {
    "collapsed": true
   },
   "outputs": [],
   "source": [
    "plot(pred)\n",
    "points(loc,col=\"red\",pch=16)"
   ]
  },
  {
   "cell_type": "markdown",
   "metadata": {},
   "source": [
    "### Present:"
   ]
  },
  {
   "cell_type": "code",
   "execution_count": null,
   "metadata": {
    "collapsed": true
   },
   "outputs": [],
   "source": [
    "### add to data a new column termed \"id\" composed of the rownames of data\n",
    "###Keep only the necessary columns:\n",
    "d<-china\n",
    "d@data<-means\n",
    "d@data$id <- rownames(d@data)"
   ]
  },
  {
   "cell_type": "code",
   "execution_count": null,
   "metadata": {
    "collapsed": true
   },
   "outputs": [],
   "source": [
    "predDF <- fortify(d, region = \"id\")\n",
    "categories <- gather(d@data, category, predictions,mean_names[2:7])\n",
    "predDF <- left_join(predDF, categories, by = \"id\")"
   ]
  },
  {
   "cell_type": "code",
   "execution_count": null,
   "metadata": {
    "collapsed": true
   },
   "outputs": [],
   "source": [
    "mean_pred<-ggplot(predDF, aes(x = long, y = lat,group=group,fill=predictions)) + \n",
    "geom_polygon(aes(x = long, y = lat))+\n",
    "facet_wrap(~category,nrow = 3, ncol = 2)+\n",
    "#scale_fill_gradient2(low = \"darkblue\", high = \"indianred\", mid=\"lightyellow\")+\n",
    "#scale_color_brewer(palette = \"RdYlBu\")+\n",
    "scale_fill_gradientn(colours = rev(brewer.pal(8, \"RdBu\")))+\n",
    "coord_equal()+\n",
    "theme(\n",
    "  panel.background = element_rect(fill = NA),\n",
    "  panel.grid.major = element_line(colour = \"lightgrey\"),\n",
    "  strip.background = element_rect(fill=NA)\n",
    ")\n",
    "mean_pred"
   ]
  },
  {
   "cell_type": "code",
   "execution_count": null,
   "metadata": {
    "collapsed": true
   },
   "outputs": [],
   "source": [
    "ggsave(path2predictions_plots,posterior_pred,width = saved$repr.plot.width, height = saved$repr.plot.height, units = \"in\",device='png')"
   ]
  },
  {
   "cell_type": "markdown",
   "metadata": {},
   "source": [
    "# Future manual:"
   ]
  },
  {
   "cell_type": "code",
   "execution_count": 61,
   "metadata": {
    "collapsed": true
   },
   "outputs": [],
   "source": [
    "s2<-c('mns__1_','mns__2_','mns__3_','mns__4_','mns__5_','mns__6_')"
   ]
  },
  {
   "cell_type": "code",
   "execution_count": 62,
   "metadata": {},
   "outputs": [
    {
     "data": {
      "text/html": [
       "<table>\n",
       "<caption>A data.frame: 6 × 138</caption>\n",
       "<thead>\n",
       "\t<tr><th></th><th scope=col>ID_0</th><th scope=col>ISO</th><th scope=col>NAME_</th><th scope=col>ID_1</th><th scope=col>NAME_1</th><th scope=col>ID_2</th><th scope=col>NAME_2</th><th scope=col>ID_3</th><th scope=col>NAME_3</th><th scope=col>TYPE_3</th><th scope=col>...</th><th scope=col>mns__5_</th><th scope=col>X5._5k</th><th scope=col>X95._5k</th><th scope=col>mns_p_5</th><th scope=col>X5._6k_l</th><th scope=col>X95._6k_</th><th scope=col>mns__6_</th><th scope=col>X5._6k</th><th scope=col>X95._6k</th><th scope=col>mns_p_6</th></tr>\n",
       "\t<tr><th></th><th scope=col>&lt;fct&gt;</th><th scope=col>&lt;fct&gt;</th><th scope=col>&lt;fct&gt;</th><th scope=col>&lt;fct&gt;</th><th scope=col>&lt;fct&gt;</th><th scope=col>&lt;fct&gt;</th><th scope=col>&lt;fct&gt;</th><th scope=col>&lt;fct&gt;</th><th scope=col>&lt;fct&gt;</th><th scope=col>&lt;fct&gt;</th><th scope=col>...</th><th scope=col>&lt;dbl&gt;</th><th scope=col>&lt;dbl&gt;</th><th scope=col>&lt;dbl&gt;</th><th scope=col>&lt;dbl&gt;</th><th scope=col>&lt;dbl&gt;</th><th scope=col>&lt;dbl&gt;</th><th scope=col>&lt;dbl&gt;</th><th scope=col>&lt;dbl&gt;</th><th scope=col>&lt;dbl&gt;</th><th scope=col>&lt;dbl&gt;</th></tr>\n",
       "</thead>\n",
       "<tbody>\n",
       "\t<tr><th scope=row>0</th><td>49</td><td>CHN</td><td>China</td><td>1</td><td>Anhui</td><td>1</td><td>Anqing</td><td>1</td><td>Anqing   </td><td>XiÃ njÃ­shÃ¬</td><td>...</td><td>-8.785086</td><td>5.070033e-05</td><td>0.0004613292</td><td>0.0001529979</td><td> -9.173789</td><td>-6.817093</td><td> -7.995996</td><td>1.037228e-04</td><td>1.094899e-03</td><td>0.0003368085</td></tr>\n",
       "\t<tr><th scope=row>1</th><td>49</td><td>CHN</td><td>China</td><td>1</td><td>Anhui</td><td>1</td><td>Anqing</td><td>2</td><td>Huaining </td><td>XiÃ n       </td><td>...</td><td>-8.798354</td><td>5.005099e-05</td><td>0.0004577205</td><td>0.0001509814</td><td>-11.551926</td><td>-9.268541</td><td>-10.418492</td><td>9.617506e-06</td><td>9.434602e-05</td><td>0.0000298749</td></tr>\n",
       "\t<tr><th scope=row>2</th><td>49</td><td>CHN</td><td>China</td><td>1</td><td>Anhui</td><td>1</td><td>Anqing</td><td>3</td><td>Qianshan </td><td>XiÃ n       </td><td>...</td><td>-8.695061</td><td>5.156189e-05</td><td>0.0005420143</td><td>0.0001674106</td><td>-10.129596</td><td>-8.051635</td><td> -9.093334</td><td>3.988158e-05</td><td>3.185805e-04</td><td>0.0001124127</td></tr>\n",
       "\t<tr><th scope=row>3</th><td>49</td><td>CHN</td><td>China</td><td>1</td><td>Anhui</td><td>1</td><td>Anqing</td><td>4</td><td>Susong   </td><td>XiÃ n       </td><td>...</td><td>-8.960643</td><td>3.921362e-05</td><td>0.0004196374</td><td>0.0001283637</td><td> -9.361181</td><td>-6.968997</td><td> -8.162584</td><td>8.599846e-05</td><td>9.405961e-04</td><td>0.0002851246</td></tr>\n",
       "\t<tr><th scope=row>4</th><td>49</td><td>CHN</td><td>China</td><td>1</td><td>Anhui</td><td>1</td><td>Anqing</td><td>5</td><td>Taihu    </td><td>XiÃ n       </td><td>...</td><td>-8.821128</td><td>4.997772e-05</td><td>0.0004350025</td><td>0.0001475818</td><td> -9.338636</td><td>-7.207656</td><td> -8.270017</td><td>8.795929e-05</td><td>7.408920e-04</td><td>0.0002560809</td></tr>\n",
       "\t<tr><th scope=row>5</th><td>49</td><td>CHN</td><td>China</td><td>1</td><td>Anhui</td><td>1</td><td>Anqing</td><td>6</td><td>Tongcheng</td><td>XiÃ njÃ­shÃ¬</td><td>...</td><td>-8.150502</td><td>9.141441e-05</td><td>0.0009165616</td><td>0.0002885905</td><td> -9.529046</td><td>-7.533612</td><td> -8.535003</td><td>7.270894e-05</td><td>5.348031e-04</td><td>0.0001964695</td></tr>\n",
       "</tbody>\n",
       "</table>\n"
      ],
      "text/latex": [
       "A data.frame: 6 × 138\n",
       "\\begin{tabular}{r|lllllllllllllllllllll}\n",
       "  & ID\\_0 & ISO & NAME\\_ & ID\\_1 & NAME\\_1 & ID\\_2 & NAME\\_2 & ID\\_3 & NAME\\_3 & TYPE\\_3 & ... & mns\\_\\_5\\_ & X5.\\_5k & X95.\\_5k & mns\\_p\\_5 & X5.\\_6k\\_l & X95.\\_6k\\_ & mns\\_\\_6\\_ & X5.\\_6k & X95.\\_6k & mns\\_p\\_6\\\\\n",
       "  & <fct> & <fct> & <fct> & <fct> & <fct> & <fct> & <fct> & <fct> & <fct> & <fct> & ... & <dbl> & <dbl> & <dbl> & <dbl> & <dbl> & <dbl> & <dbl> & <dbl> & <dbl> & <dbl>\\\\\n",
       "\\hline\n",
       "\t0 & 49 & CHN & China & 1 & Anhui & 1 & Anqing & 1 & Anqing    & XiÃ njÃ­shÃ¬ & ... & -8.785086 & 5.070033e-05 & 0.0004613292 & 0.0001529979 &  -9.173789 & -6.817093 &  -7.995996 & 1.037228e-04 & 1.094899e-03 & 0.0003368085\\\\\n",
       "\t1 & 49 & CHN & China & 1 & Anhui & 1 & Anqing & 2 & Huaining  & XiÃ n        & ... & -8.798354 & 5.005099e-05 & 0.0004577205 & 0.0001509814 & -11.551926 & -9.268541 & -10.418492 & 9.617506e-06 & 9.434602e-05 & 0.0000298749\\\\\n",
       "\t2 & 49 & CHN & China & 1 & Anhui & 1 & Anqing & 3 & Qianshan  & XiÃ n        & ... & -8.695061 & 5.156189e-05 & 0.0005420143 & 0.0001674106 & -10.129596 & -8.051635 &  -9.093334 & 3.988158e-05 & 3.185805e-04 & 0.0001124127\\\\\n",
       "\t3 & 49 & CHN & China & 1 & Anhui & 1 & Anqing & 4 & Susong    & XiÃ n        & ... & -8.960643 & 3.921362e-05 & 0.0004196374 & 0.0001283637 &  -9.361181 & -6.968997 &  -8.162584 & 8.599846e-05 & 9.405961e-04 & 0.0002851246\\\\\n",
       "\t4 & 49 & CHN & China & 1 & Anhui & 1 & Anqing & 5 & Taihu     & XiÃ n        & ... & -8.821128 & 4.997772e-05 & 0.0004350025 & 0.0001475818 &  -9.338636 & -7.207656 &  -8.270017 & 8.795929e-05 & 7.408920e-04 & 0.0002560809\\\\\n",
       "\t5 & 49 & CHN & China & 1 & Anhui & 1 & Anqing & 6 & Tongcheng & XiÃ njÃ­shÃ¬ & ... & -8.150502 & 9.141441e-05 & 0.0009165616 & 0.0002885905 &  -9.529046 & -7.533612 &  -8.535003 & 7.270894e-05 & 5.348031e-04 & 0.0001964695\\\\\n",
       "\\end{tabular}\n"
      ],
      "text/markdown": [
       "\n",
       "A data.frame: 6 × 138\n",
       "\n",
       "| <!--/--> | ID_0 &lt;fct&gt; | ISO &lt;fct&gt; | NAME_ &lt;fct&gt; | ID_1 &lt;fct&gt; | NAME_1 &lt;fct&gt; | ID_2 &lt;fct&gt; | NAME_2 &lt;fct&gt; | ID_3 &lt;fct&gt; | NAME_3 &lt;fct&gt; | TYPE_3 &lt;fct&gt; | ... ... | mns__5_ &lt;dbl&gt; | X5._5k &lt;dbl&gt; | X95._5k &lt;dbl&gt; | mns_p_5 &lt;dbl&gt; | X5._6k_l &lt;dbl&gt; | X95._6k_ &lt;dbl&gt; | mns__6_ &lt;dbl&gt; | X5._6k &lt;dbl&gt; | X95._6k &lt;dbl&gt; | mns_p_6 &lt;dbl&gt; |\n",
       "|---|---|---|---|---|---|---|---|---|---|---|---|---|---|---|---|---|---|---|---|---|---|\n",
       "| 0 | 49 | CHN | China | 1 | Anhui | 1 | Anqing | 1 | Anqing    | XiÃ njÃ­shÃ¬ | ... | -8.785086 | 5.070033e-05 | 0.0004613292 | 0.0001529979 |  -9.173789 | -6.817093 |  -7.995996 | 1.037228e-04 | 1.094899e-03 | 0.0003368085 |\n",
       "| 1 | 49 | CHN | China | 1 | Anhui | 1 | Anqing | 2 | Huaining  | XiÃ n        | ... | -8.798354 | 5.005099e-05 | 0.0004577205 | 0.0001509814 | -11.551926 | -9.268541 | -10.418492 | 9.617506e-06 | 9.434602e-05 | 0.0000298749 |\n",
       "| 2 | 49 | CHN | China | 1 | Anhui | 1 | Anqing | 3 | Qianshan  | XiÃ n        | ... | -8.695061 | 5.156189e-05 | 0.0005420143 | 0.0001674106 | -10.129596 | -8.051635 |  -9.093334 | 3.988158e-05 | 3.185805e-04 | 0.0001124127 |\n",
       "| 3 | 49 | CHN | China | 1 | Anhui | 1 | Anqing | 4 | Susong    | XiÃ n        | ... | -8.960643 | 3.921362e-05 | 0.0004196374 | 0.0001283637 |  -9.361181 | -6.968997 |  -8.162584 | 8.599846e-05 | 9.405961e-04 | 0.0002851246 |\n",
       "| 4 | 49 | CHN | China | 1 | Anhui | 1 | Anqing | 5 | Taihu     | XiÃ n        | ... | -8.821128 | 4.997772e-05 | 0.0004350025 | 0.0001475818 |  -9.338636 | -7.207656 |  -8.270017 | 8.795929e-05 | 7.408920e-04 | 0.0002560809 |\n",
       "| 5 | 49 | CHN | China | 1 | Anhui | 1 | Anqing | 6 | Tongcheng | XiÃ njÃ­shÃ¬ | ... | -8.150502 | 9.141441e-05 | 0.0009165616 | 0.0002885905 |  -9.529046 | -7.533612 |  -8.535003 | 7.270894e-05 | 5.348031e-04 | 0.0001964695 |\n",
       "\n"
      ],
      "text/plain": [
       "  ID_0 ISO NAME_ ID_1 NAME_1 ID_2 NAME_2 ID_3 NAME_3    TYPE_3       ...\n",
       "0 49   CHN China 1    Anhui  1    Anqing 1    Anqing    XiÃ njÃ­shÃ¬ ...\n",
       "1 49   CHN China 1    Anhui  1    Anqing 2    Huaining  XiÃ n        ...\n",
       "2 49   CHN China 1    Anhui  1    Anqing 3    Qianshan  XiÃ n        ...\n",
       "3 49   CHN China 1    Anhui  1    Anqing 4    Susong    XiÃ n        ...\n",
       "4 49   CHN China 1    Anhui  1    Anqing 5    Taihu     XiÃ n        ...\n",
       "5 49   CHN China 1    Anhui  1    Anqing 6    Tongcheng XiÃ njÃ­shÃ¬ ...\n",
       "  mns__5_   X5._5k       X95._5k      mns_p_5      X5._6k_l   X95._6k_ \n",
       "0 -8.785086 5.070033e-05 0.0004613292 0.0001529979  -9.173789 -6.817093\n",
       "1 -8.798354 5.005099e-05 0.0004577205 0.0001509814 -11.551926 -9.268541\n",
       "2 -8.695061 5.156189e-05 0.0005420143 0.0001674106 -10.129596 -8.051635\n",
       "3 -8.960643 3.921362e-05 0.0004196374 0.0001283637  -9.361181 -6.968997\n",
       "4 -8.821128 4.997772e-05 0.0004350025 0.0001475818  -9.338636 -7.207656\n",
       "5 -8.150502 9.141441e-05 0.0009165616 0.0002885905  -9.529046 -7.533612\n",
       "  mns__6_    X5._6k       X95._6k      mns_p_6     \n",
       "0  -7.995996 1.037228e-04 1.094899e-03 0.0003368085\n",
       "1 -10.418492 9.617506e-06 9.434602e-05 0.0000298749\n",
       "2  -9.093334 3.988158e-05 3.185805e-04 0.0001124127\n",
       "3  -8.162584 8.599846e-05 9.405961e-04 0.0002851246\n",
       "4  -8.270017 8.795929e-05 7.408920e-04 0.0002560809\n",
       "5  -8.535003 7.270894e-05 5.348031e-04 0.0001964695"
      ]
     },
     "metadata": {},
     "output_type": "display_data"
    }
   ],
   "source": [
    "head(china@data)\n",
    "d<-china"
   ]
  },
  {
   "cell_type": "code",
   "execution_count": 63,
   "metadata": {
    "collapsed": true
   },
   "outputs": [],
   "source": [
    "d@data$id <- rownames(d@data)\n",
    "predDF <- fortify(d, region = \"id\")\n",
    "# gather data by category\n",
    "#categories <- gather(china@data, category, predictions, s2)\n",
    "# merge the \"fortified\" data with the data from our spatial object\n",
    "#predDF <- left_join(predDF, categories, by = \"id\")"
   ]
  },
  {
   "cell_type": "code",
   "execution_count": 64,
   "metadata": {
    "collapsed": true
   },
   "outputs": [],
   "source": [
    "categories <- gather(d@data, category, predictions, s2)\n",
    "# merge the \"fortified\" data with the data from our spatial object\n",
    "predDF <- left_join(predDF, categories, by = \"id\")"
   ]
  },
  {
   "cell_type": "code",
   "execution_count": null,
   "metadata": {
    "collapsed": true
   },
   "outputs": [],
   "source": [
    "ggplot(data =pol,aes(x = long, y = lat,group=group)) + # define variables\n",
    "geom_polygon(data =pol,aes(x = long, y = lat,group=group),colour=\"black\",fill=\"grey\",alpha = 0.2)+  # plot the boroughs\n",
    "facet_wrap(~id) "
   ]
  },
  {
   "cell_type": "code",
   "execution_count": null,
   "metadata": {
    "collapsed": true
   },
   "outputs": [],
   "source": [
    "categories <- gather(china@data, category, predictions, AreaPr,s2)\n",
    "predDF1 <- left_join(predDF, categories, by = \"id\")"
   ]
  },
  {
   "cell_type": "code",
   "execution_count": 65,
   "metadata": {
    "collapsed": true
   },
   "outputs": [],
   "source": [
    "library(RColorBrewer)"
   ]
  },
  {
   "cell_type": "code",
   "execution_count": null,
   "metadata": {
    "collapsed": true
   },
   "outputs": [],
   "source": [
    "head(pol$category)"
   ]
  },
  {
   "cell_type": "code",
   "execution_count": null,
   "metadata": {
    "collapsed": true
   },
   "outputs": [],
   "source": [
    "head(pol@data)"
   ]
  },
  {
   "cell_type": "code",
   "execution_count": 73,
   "metadata": {},
   "outputs": [
    {
     "data": {
      "text/plain": [
       "NULL"
      ]
     },
     "metadata": {},
     "output_type": "display_data"
    }
   ],
   "source": [
    "head(pol$df)"
   ]
  },
  {
   "cell_type": "code",
   "execution_count": 72,
   "metadata": {},
   "outputs": [
    {
     "data": {
      "image/png": "[encoded data removed]",
      "text/plain": [
       "plot without title"
      ]
     },
     "metadata": {
      "image/png": {
       "height": 600,
       "width": 960
      },
      "text/plain": {
       "height": 600,
       "width": 960
      }
     },
     "output_type": "display_data"
    }
   ],
   "source": [
    "saved <- options(repr.plot.width=16, repr.plot.height=10)\n",
    "saved$repr.plot.width <- 16\n",
    "saved$repr.plot.height<-10\n",
    "posterior_pred<-ggplot() + \n",
    "geom_polygon(data=predDF, aes(x = long, y = lat,group=group,fill=predictions))+\n",
    "#geom_polygon(data=polDF,aes(x = long, y = lat,group=group),fill=\"grey\",alpha = 0.2,colour=\"black\")+\n",
    "facet_wrap(~category)+\n",
    "#scale_fill_gradient(low = \"lightyellow\", high = \"red\")+\n",
    "scale_fill_gradientn(colours = rev(brewer.pal(8, \"RdBu\")))+\n",
    "coord_equal()+\n",
    "theme(\n",
    "  panel.background = element_rect(fill = NA),\n",
    "  panel.grid.major = element_line(colour = \"lightgrey\"),\n",
    ")\n",
    "posterior_pred"
   ]
  },
  {
   "cell_type": "code",
   "execution_count": null,
   "metadata": {
    "collapsed": true
   },
   "outputs": [],
   "source": [
    "pol()"
   ]
  },
  {
   "cell_type": "code",
   "execution_count": null,
   "metadata": {
    "collapsed": true
   },
   "outputs": [],
   "source": [
    "ggsave(path2means,posterior_pred,width = saved$repr.plot.width, height = saved$repr.plot.height, units = \"in\",device='png')"
   ]
  },
  {
   "cell_type": "code",
   "execution_count": null,
   "metadata": {
    "collapsed": true
   },
   "outputs": [],
   "source": [
    "s2<-c('mns__1_','mns__2_','mns__3_','mns__4_','mns__5_','mns__6_')"
   ]
  },
  {
   "cell_type": "markdown",
   "metadata": {},
   "source": [
    "1. Boxplot, per period, blox 1000 years, sites with multiple occupations counted multiple times\n",
    "2. Maps with lowest threshold for each period + confidence interval (minimum production) - geographical explansion.\n",
    "3. Map with thresholds for different periods (aggregation)\n",
    "4. Plot the counties with predictions not matching\n",
    "5. Use WAIC to decide model comparison"
   ]
  },
  {
   "cell_type": "markdown",
   "metadata": {},
   "source": [
    "### Plot data using sp package:\n"
   ]
  },
  {
   "cell_type": "code",
   "execution_count": null,
   "metadata": {
    "collapsed": true
   },
   "outputs": [],
   "source": [
    "china"
   ]
  },
  {
   "cell_type": "code",
   "execution_count": null,
   "metadata": {
    "collapsed": true
   },
   "outputs": [],
   "source": [
    "plot(counties, col='light gray', border='gray')\n",
    "plot(yolo, add=TRUE, density=20, lwd=2, col='red')"
   ]
  },
  {
   "cell_type": "code",
   "execution_count": null,
   "metadata": {},
   "outputs": [],
   "source": [
    "sb1<-as_Spatial(st_union(china_sf[china_sf$pred1k>=threshold,]))\n",
    "sb1<-SpatialPolygonsDataFrame(sb1,data=data.frame(id=1,period=\"1000 BP\",row.names=row.names(sb1)))\n",
    "\n",
    "sb2<-as_Spatial(st_union(china_sf[china_sf$pred2k>=threshold,]))\n",
    "sb2<-SpatialPolygonsDataFrame(sb2,data=data.frame(id=2,period=\"2000 BP\",row.names=row.names(sb2)))\n",
    "\n",
    "sb3<-as_Spatial(st_union(china_sf[china_sf$pred3k>=threshold,]))\n",
    "sb3<-SpatialPolygonsDataFrame(sb3,data=data.frame(id=3,period=\"3000 BP\",row.names=row.names(sb3)))\n",
    "\n",
    "sb4<-as_Spatial(st_union(china_sf[china_sf$pred4k>=threshold,]))\n",
    "sb4<-SpatialPolygonsDataFrame(sb4,data=data.frame(id=4,period=\"4000 BP\",row.names=row.names(sb4)))\n",
    "\n",
    "sb5<-as_Spatial(st_union(china_sf[china_sf$pred5k>=threshold,]))\n",
    "sb5<-SpatialPolygonsDataFrame(sb5,data=data.frame(id=5,period=\"5000 BP\",row.names=row.names(sb5)))\n",
    "\n",
    "sb6<-as_Spatial(st_union(china_sf[china_sf$pred6k>=threshold,]))\n",
    "sb6<-SpatialPolygonsDataFrame(sb6,data=data.frame(id=6,period=\"6000 BP\",row.names=row.names(sb6)))"
   ]
  }
 ],
 "metadata": {
  "anaconda-cloud": {},
  "kernelspec": {
   "display_name": "R",
   "language": "R",
   "name": "ir"
  },
  "language_info": {
   "codemirror_mode": "r",
   "file_extension": ".r",
   "mimetype": "text/x-r-source",
   "name": "R",
   "pygments_lexer": "r",
   "version": "3.5.3"
  }
 },
 "nbformat": 4,
 "nbformat_minor": 1
}
