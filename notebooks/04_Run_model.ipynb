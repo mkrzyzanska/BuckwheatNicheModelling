{
 "cells": [
  {
   "cell_type": "markdown",
   "metadata": {},
   "source": [
    "# Run model\n",
    "\n",
    "This runs the stun model as defined in a [Stan file](../stan_models/parabolic_iCAR.stan) provided, for the 5 environmental variables used as predictors, and a fraction of the cultivated area used as a response variable. It assumes that the model is located in the 'stan_models' directory."
   ]
  },
  {
   "cell_type": "code",
   "execution_count": null,
   "metadata": {},
   "outputs": [],
   "source": [
    "### Load libraries\n",
    "library(here)\n",
    "library(rstan)\n",
    "library(rgdal)"
   ]
  },
  {
   "cell_type": "code",
   "execution_count": null,
   "metadata": {},
   "outputs": [],
   "source": [
    "#### Define paths:\n",
    "\n",
    "# Inputs\n",
    "path2env_sd<- here(\"data\",\"Sd_Env_by_county.csv\")\n",
    "path2prd_counties<-here(\"data\",\"Prd_by_county.csv\")\n",
    "path2adjacency <- here(\"data\",\"adjacency.csv\")\n",
    "stan_model<-here(\"stan_models\",\"parabolic_iCAR.stan\")\n",
    "\n",
    "# Outputs\n",
    "path2model<-here(\"outputs\",\"models\",\"parabolic_iCAR.rds\")"
   ]
  },
  {
   "cell_type": "code",
   "execution_count": null,
   "metadata": {},
   "outputs": [],
   "source": [
    "### Load data\n",
    "env<-read.csv(path2env_sd) # predictors\n",
    "prd<-read.csv(path2prd) # response\n",
    "adjacency<-read.csv(path2adjacency) # adjacency"
   ]
  },
  {
   "cell_type": "code",
   "execution_count": 5,
   "metadata": {
    "collapsed": true
   },
   "outputs": [],
   "source": [
    "### Format data\n",
    "\n",
    "# Get the adjacent nodes from the matrix:\n",
    "node1<-adjacency$node1\n",
    "node2<-adjacency$node2\n",
    "N_edges<-length(node1)\n",
    "N<-nrow(prd)\n",
    "\n",
    "# Define stan data:\n",
    "y=prd$logArea\n",
    "x1=env$BIO10_sd\n",
    "x2=env$BIO17_sd\n",
    "x3=env$BIO4_sd\n",
    "x4=env$BIO9_sd\n",
    "x5=env$npp_sd\n",
    "\n",
    "#Format the data\n",
    "stan_data <- list(N = N, x1 = x1, y = y,x2=x2,x3=x3,x4=x4,x5=x5,N_edges=N_edges,node1=node1,node2=node2)"
   ]
  },
  {
   "cell_type": "code",
   "execution_count": 1,
   "metadata": {
    "collapsed": true
   },
   "outputs": [],
   "source": [
    "### Define model parameters:\n",
    "\n",
    "warmup=2000\n",
    "iter=10000\n",
    "chains=5\n",
    "cores=5\n",
    "thin=1"
   ]
  },
  {
   "cell_type": "code",
   "execution_count": null,
   "metadata": {
    "collapsed": true
   },
   "outputs": [],
   "source": [
    "### Run model\n",
    "fit <- stan(file = stan_model, data = stan_data, warmup = warmup, iter = iter, chains = chains, cores = cores, thin = thin,control = list(max_treedepth = 15))\n",
    "\n",
    "### Save model\n",
    "saveRDS(fit, path2model) "
   ]
  }
 ],
 "metadata": {
  "anaconda-cloud": {},
  "kernelspec": {
   "display_name": "R",
   "language": "R",
   "name": "ir"
  },
  "language_info": {
   "codemirror_mode": "r",
   "file_extension": ".r",
   "mimetype": "text/x-r-source",
   "name": "R",
   "pygments_lexer": "r",
   "version": "4.0.3"
  }
 },
 "nbformat": 4,
 "nbformat_minor": 1
}
