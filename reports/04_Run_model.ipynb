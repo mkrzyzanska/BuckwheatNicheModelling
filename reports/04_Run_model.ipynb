{
 "cells": [
  {
   "cell_type": "markdown",
   "metadata": {},
   "source": [
    "# Run model\n",
    "\n",
    "This runs the stun model as defined in a Stan file provided, for the 5 environmental variables used as predictors, and fraction of the cultivated area used as a response variable. It assumes that the model is located in the 'stan_models' directory.\n",
    "\n",
    "## Variables to be defined:\n",
    "\n",
    "*@mname - name of a model  \n",
    "@warmup - number of warmup iterations  \n",
    "@iter - overall number of iterations  \n",
    "@chains - number of chains  \n",
    "@corese - number of cores  \n",
    "@thin - thin*  "
   ]
  },
  {
   "cell_type": "code",
   "execution_count": null,
   "metadata": {
    "collapsed": true
   },
   "outputs": [],
   "source": [
    "### Set working directory:\n",
    "setwd(\"/export/home/mk843/mnt/\")\n",
    "\n",
    "### Define the model to run\n",
    "mname<-'parabolic_simple_iCAR'\n",
    "stan_model<-paste('stan_models/',mname,'.stan',sep=\"\")\n",
    "\n",
    "### Define model parameters:\n",
    "\n",
    "warmup=2000\n",
    "iter=10000\n",
    "chains=4\n",
    "cores=4\n",
    "thin=1\n",
    "\n",
    "### Define the path in which to save models:\n",
    "path2models<-\"outputs/models/\""
   ]
  },
  {
   "cell_type": "markdown",
   "metadata": {},
   "source": [
    "## Load libraries and data"
   ]
  },
  {
   "cell_type": "code",
   "execution_count": null,
   "metadata": {
    "collapsed": true
   },
   "outputs": [],
   "source": [
    "### Load libraries\n",
    "library(rstan)\n",
    "library(rgdal)\n",
    "\n",
    "### Load data\n",
    "china<-readOGR(dsn = \"data/china_data\", layer = \"china_data\")\n",
    "### Get the data on counties adjacency\n",
    "adjacency<-read.csv(\"data/china_data/adjacency.csv\")"
   ]
  },
  {
   "cell_type": "markdown",
   "metadata": {},
   "source": [
    "## Format data"
   ]
  },
  {
   "cell_type": "code",
   "execution_count": null,
   "metadata": {
    "collapsed": true
   },
   "outputs": [],
   "source": [
    "### Get the adjacent nodes from the matrix:\n",
    "node1<-adjacency$node1\n",
    "node2<-adjacency$node2\n",
    "N_edges<-length(node1)\n",
    "N<-nrow(china@data)\n",
    "\n",
    "# Defince stan data:\n",
    "y=china@data$logArea\n",
    "x1=china@data$BIO10_sd\n",
    "x2=china@data$BIO11_sd\n",
    "x3=china@data$BIO19_sd\n",
    "x4=china@data$BIO4_sd\n",
    "x5=china@data$npp_sd\n",
    "\n",
    "#Format the data\n",
    "stan_data <- list(N = N, x1 = x1, y = y,x2=x2,x3=x3,x4=x4,x5=x5,N_edges=N_edges,node1=node1,node2=node2)"
   ]
  },
  {
   "cell_type": "markdown",
   "metadata": {},
   "source": [
    "## Run and save model"
   ]
  },
  {
   "cell_type": "code",
   "execution_count": null,
   "metadata": {
    "collapsed": true
   },
   "outputs": [],
   "source": [
    "print(\"Fitting the model\")\n",
    "\n",
    "fit <- stan(file = stan_model, data = stan_data, warmup = warmup, iter = iter, chains = chains, cores = cores, thin = thin)\n",
    "\n",
    "print(\"Saving the model\")\n",
    "saveRDS(fit, paste(path2models, mname,\".rds\",sep=\"\")) "
   ]
  }
 ],
 "metadata": {
  "anaconda-cloud": {},
  "kernelspec": {
   "display_name": "R",
   "language": "R",
   "name": "ir"
  },
  "language_info": {
   "codemirror_mode": "r",
   "file_extension": ".r",
   "mimetype": "text/x-r-source",
   "name": "R",
   "pygments_lexer": "r",
   "version": "3.4.1"
  }
 },
 "nbformat": 4,
 "nbformat_minor": 1
}
