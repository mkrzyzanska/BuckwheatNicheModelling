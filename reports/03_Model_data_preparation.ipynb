{
 "cells": [
  {
   "cell_type": "markdown",
   "metadata": {},
   "source": [
    "# Model data preparation\n",
    "\n",
    "This code transform the data into an appropriate format for stan model. First it  aggregates and standardises the values of present environmental variables and data on buckwheat production for each county in China, and saves it into a csv file. It also merges the data with the spatail polygons for counties, to show the values on the plots. Then it also caluclates and saves the adjacency matrix for Chinese counties to be used in iCAR model\n"
   ]
  },
  {
   "cell_type": "code",
   "execution_count": 1,
   "metadata": {},
   "outputs": [
    {
     "name": "stderr",
     "output_type": "stream",
     "text": [
      "Loading required package: sp\n",
      "\n",
      "rgdal: version: 1.5-18, (SVN revision 1082)\n",
      "Geospatial Data Abstraction Library extensions to R successfully loaded\n",
      "Loaded GDAL runtime: GDAL 3.0.4, released 2020/01/28\n",
      "Path to GDAL shared files: D:/Programs/R-4.0.3/library/rgdal/gdal\n",
      "GDAL binary built with GEOS: TRUE \n",
      "Loaded PROJ runtime: Rel. 6.3.1, February 10th, 2020, [PJ_VERSION: 631]\n",
      "Path to PROJ shared files: D:/Programs/R-4.0.3/library/rgdal/proj\n",
      "Linking to sp version:1.4-4\n",
      "To mute warnings of possible GDAL/OSR exportToProj4() degradation,\n",
      "use options(\"rgdal_show_exportToProj4_warnings\"=\"none\") before loading rgdal.\n",
      "\n",
      "\n",
      "Attaching package: 'data.table'\n",
      "\n",
      "\n",
      "The following object is masked from 'package:raster':\n",
      "\n",
      "    shift\n",
      "\n",
      "\n",
      "Loading required package: spData\n",
      "\n",
      "To access larger datasets in this package, install the spDataLarge\n",
      "package with: `install.packages('spDataLarge',\n",
      "repos='https://nowosad.github.io/drat/', type='source')`\n",
      "\n",
      "Loading required package: sf\n",
      "\n",
      "Linking to GEOS 3.8.0, GDAL 3.0.4, PROJ 6.3.1\n",
      "\n",
      "Loading required package: geosphere\n",
      "\n",
      "here() starts at G:/My Drive/SDM_China\n",
      "\n",
      "Loading required package: viridisLite\n",
      "\n"
     ]
    },
    {
     "ename": "ERROR",
     "evalue": "Error in library(cultevo): there is no package called 'cultevo'\n",
     "output_type": "error",
     "traceback": [
      "Error in library(cultevo): there is no package called 'cultevo'\nTraceback:\n",
      "1. library(cultevo)"
     ]
    }
   ],
   "source": [
    "# Load libraries:\n",
    "library(rgdal) # working with spatial data\n",
    "library(raster) # working with later layers\n",
    "library(data.table) # working with data frames\n",
    "library(spdep) # calculating the adjacency matrix\n",
    "require(geosphere) # calculating polygon area\n",
    "library(here) # setting paths\n",
    "library(viridis) # for visualisation\n",
    "library(RColorBrewer) # for visualisation\n",
    "library(tmap) # for thematic mapping\n",
    "library(cultevo) #for visualisation"
   ]
  },
  {
   "cell_type": "code",
   "execution_count": 3,
   "metadata": {},
   "outputs": [],
   "source": [
    "### Set the paths for loading data\n",
    "\n",
    "# Masked data on buckwheat production in China (masked to keep the data consistent:\n",
    "path2prd<-here(\"data\",\"buckwheat_production\",\"masked\")\n",
    "\n",
    "# Environmental variables (cropped, because the border cells will have a consistent quality:\n",
    "path2env <-here(\"data\",\"environmental\",\"present\",\"masked\")\n",
    "\n",
    "# Get path to past environmental data:\n",
    "path2past <- here(\"data\",\"environmental\",\"past\")\n",
    "\n",
    "# Get path to Chinese counties:\n",
    "path2counties<-here(\"raw_data\",\"CHN_adm\")\n",
    "\n",
    "# Path to full names of environmental variables:\n",
    "\n",
    "path2env_table<-here(\"outputs\",\"01_03_Predictor_variables.csv\")\n",
    "\n",
    "### Set the paths for outputs:\n",
    "path2envRaster<-here(\"outputs\",\"03_01_Predictors_raster.png\")\n",
    "path2env_counties<-here(\"data\",\"Env_by_county.csv\")\n",
    "path2envMaps<-here(\"outputs\",\"03_02_Predictors.png\")\n",
    "path2envMapsAE<-here(\"outputs\",\"03_02\")\n",
    "path2stats<- here(\"outputs\",\"03_03_Env_Mean_and_SD.csv\")\n",
    "path2env_sd<- here(\"data\",\"Sd_Env_by_county.csv\")\n",
    "path2prd_counties<-here(\"data\",\"Prd_by_county.csv\")\n",
    "path2adjacency <- here(\"data\",\"china_data\",\"adjacency.csv\")"
   ]
  },
  {
   "cell_type": "code",
   "execution_count": 7,
   "metadata": {},
   "outputs": [
    {
     "name": "stdout",
     "output_type": "stream",
     "text": [
      "OGR data source with driver: ESRI Shapefile \n",
      "Source: \"G:\\My Drive\\SDM_China\\raw_data\\CHN_adm\", layer: \"CHN_adm3\"\n",
      "with 2409 features\n",
      "It has 13 fields\n",
      "Integer64 fields read as strings:  ID_0 ID_1 ID_2 ID_3 \n",
      "OGR data source with driver: ESRI Shapefile \n",
      "Source: \"G:\\My Drive\\SDM_China\\raw_data\\CHN_adm\", layer: \"CHN_adm0\"\n",
      "with 1 features\n",
      "It has 70 fields\n",
      "Integer64 fields read as strings:  ID_0 OBJECTID_1 \n"
     ]
    }
   ],
   "source": [
    "# Loading data:\n",
    "var_names=c(\"BIO10\",\"BIO17\",\"BIO4\",\"BIO9\",\"npp\")\n",
    "# Get vector map of Chinses counties\n",
    "china<-readOGR(dsn = path2counties, layer = \"CHN_adm3\")\n",
    "outer_border<-readOGR(dsn = path2counties, layer = \"CHN_adm0\")"
   ]
  },
  {
   "cell_type": "code",
   "execution_count": 8,
   "metadata": {},
   "outputs": [],
   "source": [
    "# Get production dataset for China:\n",
    "prd_layers<-list.files(path=path2prd,pattern='tif$',full.names=TRUE)\n",
    "layers<-list.files(path=path2env,pattern='tif$',full.names=TRUE)\n",
    "# Get only the environmental layers that are not autocorrelated:\n",
    "env_layers<-subset(layers,lapply(layers, grepl,pattern=paste(var_names,collapse=\"|\"))==TRUE)\n",
    "past_layers<-list.files(path=here(path2past,var_names,\"masked\"),pattern='tif$',full.names=TRUE)\n",
    "prd<-stack(prd_layers)\n",
    "env<-stack(c(env_layers,past_layers))"
   ]
  },
  {
   "cell_type": "code",
   "execution_count": 9,
   "metadata": {},
   "outputs": [],
   "source": [
    "# Get the full names of environmental variables\n",
    "env_table<-read.csv(path2env_table,row.names = 1)"
   ]
  },
  {
   "cell_type": "markdown",
   "metadata": {},
   "source": [
    "## Plot predictors in the original (raster) format.\n",
    "\n",
    "This code pepares the visualisation of selected variables in the original (raster) format to inspect them."
   ]
  },
  {
   "cell_type": "code",
   "execution_count": 10,
   "metadata": {},
   "outputs": [],
   "source": [
    "# Set the colour schemes for the plots of environmental data\n",
    "my_col<-c()\n",
    "my_col[[1]]<-rev(brewer.pal(n = 9, name = \"RdYlBu\"))\n",
    "my_col[[2]]<-rev(brewer.pal(n = 9, name = \"RdYlBu\"))\n",
    "my_col[[3]]<-brewer.pal(n = 9, name = \"Reds\")\n",
    "my_col[[4]]<-viridis(10)\n",
    "my_col[[5]]<-brewer.pal(n = 9, name = \"YlGnBu\")"
   ]
  },
  {
   "cell_type": "code",
   "execution_count": 11,
   "metadata": {},
   "outputs": [],
   "source": [
    "plot_order<-c(4,1,3,5,2)"
   ]
  },
  {
   "cell_type": "code",
   "execution_count": 12,
   "metadata": {},
   "outputs": [],
   "source": [
    "var_names<-names(env[[plot_order]])"
   ]
  },
  {
   "cell_type": "code",
   "execution_count": 13,
   "metadata": {},
   "outputs": [],
   "source": [
    "# Set the names of the layers\n",
    "full_names<-env_table[var_names,]"
   ]
  },
  {
   "cell_type": "code",
   "execution_count": 14,
   "metadata": {},
   "outputs": [],
   "source": [
    "# Set the legend names\n",
    "legends<-list(\"°C\",\"°C\",\"°C\",\"g C m^−2 yr^−1\",\"mm\")"
   ]
  },
  {
   "cell_type": "code",
   "execution_count": 124,
   "metadata": {},
   "outputs": [],
   "source": [
    "# Prepare the plot of the predictors\n",
    "env_raster<-tm_shape(env[[plot_order]]) +\n",
    "    tm_grid(lwd = 0.05,col=\"grey75\",n.x=2,n.y=3,labels.size = 0.8)+\n",
    "    tm_raster(style=\"cont\",palette=my_col,legend.reverse = TRUE,title=legends)+\n",
    "    tm_facets(free.scales=TRUE,free.scales.raster=TRUE,ncol=2,nrow=3)+\n",
    "    tm_layout(panel.labels=full_names,\n",
    "              panel.label.bg.color=\"white\",\n",
    "              frame=FALSE,\n",
    "              frame.lwd = NA,\n",
    "              legend.position=c(\"left\",\"bottom\"),\n",
    "              panel.label.fontface = \"bold\",\n",
    "              panel.label.height=2,\n",
    "              panel.label.size = 1,\n",
    "              legend.text.size = 0.6\n",
    "              )"
   ]
  },
  {
   "cell_type": "code",
   "execution_count": 125,
   "metadata": {},
   "outputs": [
    {
     "name": "stderr",
     "output_type": "stream",
     "text": [
      "Variable(s) \"NA\" contains positive and negative values, so midpoint is set to 0. Set midpoint = NA to show the full spectrum of the color palette.\n",
      "\n",
      "Variable(s) \"NA\" contains positive and negative values, so midpoint is set to 0. Set midpoint = NA to show the full spectrum of the color palette.\n",
      "\n",
      "Map saved to G:\\My Drive\\SDM_China\\outputs\\03_01_Predictors_raster.png\n",
      "\n",
      "Resolution: 2480.315 by 2630.906 pixels\n",
      "\n",
      "Size: 8.267717 by 8.769685 inches (300 dpi)\n",
      "\n"
     ]
    }
   ],
   "source": [
    "# Save the plot\n",
    "width=21\n",
    "height=29.7*0.75\n",
    "tmap_save(tm = env_raster,filename = path2envRaster,width = width,height = height,units = \"cm\",dpi = 300)"
   ]
  },
  {
   "cell_type": "markdown",
   "metadata": {},
   "source": [
    "## Aggregate the values of environmental predictors by county\n",
    "\n",
    "### Get mean values per county"
   ]
  },
  {
   "cell_type": "code",
   "execution_count": 29,
   "metadata": {},
   "outputs": [],
   "source": [
    "### Get the values of environmental variables per county: \n",
    "# Extract raster values of the cells for environmental variables for each county in China\n",
    "r.vals <- extract(env,china,weights=TRUE,normalizeWeights=TRUE)"
   ]
  },
  {
   "cell_type": "code",
   "execution_count": 31,
   "metadata": {},
   "outputs": [],
   "source": [
    "# Calculate the mean value of each of the environmental variables per county in china\n",
    "r.means<-lapply(r.vals,function(x){apply(rbind(x[,c(1:ncol(x)-1)]),2,weighted.mean,w=x[,ncol(x)],na.rm=TRUE)})\n",
    "## Calculate the weighted mean:\n",
    "r.means<-lapply(r.vals,function(x){apply(rbind(x[,c(1:ncol(x)-1)]),2,weighted.mean,w=x[,ncol(x)],na.rm=TRUE)})\n",
    "r.mean<-lapply(r.means, rbind)\n",
    "r.mean<-lapply(r.mean,as.data.frame)\n",
    "r.mean<- rbindlist(r.mean)"
   ]
  },
  {
   "cell_type": "code",
   "execution_count": 32,
   "metadata": {},
   "outputs": [],
   "source": [
    "# Get the counties with missing values, because they don't overlap with eny of the raster cells:\n",
    "sums<-rowSums(r.mean)\n",
    "mc<-which(is.na(sums))"
   ]
  },
  {
   "cell_type": "code",
   "execution_count": 33,
   "metadata": {},
   "outputs": [],
   "source": [
    "# Create a raster stack of environmental variables with a buffer zone around the coast\n",
    "# to include the counties with missing values\n",
    "buffer <- stack()\n",
    "for (i in 1:length(names(env))){\n",
    "    focal<-focal(env[[i]],w=matrix(1,3,3), fun=mean,na.rm=TRUE,NAonly=TRUE)\n",
    "    names(focal)<-names(env[[i]])\n",
    "    buffer<-stack(buffer,focal)\n",
    "}"
   ]
  },
  {
   "cell_type": "code",
   "execution_count": 34,
   "metadata": {},
   "outputs": [],
   "source": [
    "# Extract the values from the buffer zone:\n",
    "buffer.vals <- extract(buffer,china[mc,],weights=TRUE,normalizeWeights=TRUE)\n",
    "buffer.means<-lapply(buffer.vals,function(x){apply(rbind(x[,c(1:ncol(x)-1)]),2,weighted.mean,w=x[,ncol(x)],na.rm=TRUE)})\n",
    "buffer.mean<-lapply(buffer.means, rbind)\n",
    "buffer.mean<-lapply(buffer.mean,as.data.frame)\n",
    "buffer.mean<- rbindlist(buffer.mean)"
   ]
  },
  {
   "cell_type": "code",
   "execution_count": 35,
   "metadata": {},
   "outputs": [],
   "source": [
    "# Substitute newly calculated values for NAs\n",
    "r.mean[mc,] <-buffer.mean"
   ]
  },
  {
   "cell_type": "code",
   "execution_count": 122,
   "metadata": {},
   "outputs": [],
   "source": [
    "r.mean<-as.data.frame(r.mean)"
   ]
  },
  {
   "cell_type": "code",
   "execution_count": 38,
   "metadata": {},
   "outputs": [],
   "source": [
    "write.csv(r.mean,path2env_counties)"
   ]
  },
  {
   "cell_type": "markdown",
   "metadata": {},
   "source": [
    "## Plot environmental variables for all time periods"
   ]
  },
  {
   "cell_type": "code",
   "execution_count": 15,
   "metadata": {},
   "outputs": [],
   "source": [
    "r.mean<-read.csv(path2env_counties,row.names=1)\n",
    "# Merge the data frame with the spatial polygons\n",
    "china@data <- data.frame(china@data, r.mean)"
   ]
  },
  {
   "cell_type": "code",
   "execution_count": 16,
   "metadata": {},
   "outputs": [],
   "source": [
    "# Plot predictions for current data\n",
    "env_maps<-tm_shape(china) +\n",
    "    tm_grid(lwd = 0.05,col=\"grey75\",n.x=2,n.y=3,labels.size = 0.8)+\n",
    "    tm_fill(col=var_names,n=5, style = \"cont\",palette=my_col,title=legends,legend.reverse = TRUE,showNA = F) +\n",
    "    tm_shape(outer_border)+\n",
    "    tm_borders(col=\"grey\",lwd=0.5)+\n",
    "    tm_facets(free.scales=TRUE,free.coords=TRUE,ncol=2,nrow=3)+\n",
    "    tm_layout(panel.labels=full_names,\n",
    "              panel.label.bg.color=\"white\",\n",
    "              frame=FALSE,\n",
    "              frame.lwd=NA,\n",
    "              legend.position=c(\"left\",\"bottom\"),\n",
    "              panel.label.fontface = \"bold\",\n",
    "              panel.label.height=2,\n",
    "              panel.label.size = 1,\n",
    "              legend.text.size = 0.6,\n",
    "              legend.height=0.25)"
   ]
  },
  {
   "cell_type": "code",
   "execution_count": 133,
   "metadata": {},
   "outputs": [
    {
     "name": "stderr",
     "output_type": "stream",
     "text": [
      "Warning message in sp::proj4string(obj):\n",
      "\"CRS object has comment, which is lost in output\"\n",
      "Variable(s) \"BIO9_7000\" contains positive and negative values, so midpoint is set to 0. Set midpoint = NA to show the full spectrum of the color palette.\n",
      "\n",
      "Map saved to G:\\My Drive\\SDM_China\\outputs\\03_02_Predictors.png\n",
      "\n",
      "Resolution: 2480.315 by 2630.906 pixels\n",
      "\n",
      "Size: 8.267717 by 8.769685 inches (300 dpi)\n",
      "\n"
     ]
    }
   ],
   "source": [
    "# Save the plot\n",
    "width=21\n",
    "height=29.7*0.75\n",
    "tmap_save(tm = env_maps,filename = path2envMaps,width = width,height = height,units = \"cm\",dpi = 300)\n"
   ]
  },
  {
   "cell_type": "code",
   "execution_count": 18,
   "metadata": {},
   "outputs": [],
   "source": [
    "letters<-c(\"a\",\"b\",\"c\",\"d\",\"e\")"
   ]
  },
  {
   "cell_type": "code",
   "execution_count": 19,
   "metadata": {},
   "outputs": [
    {
     "name": "stderr",
     "output_type": "stream",
     "text": [
      "Warning message in sp::proj4string(obj):\n",
      "\"CRS object has comment, which is lost in output\"\n",
      "Map saved to G:\\My Drive\\SDM_China\\outputs\\03_02bBIO10.png\n",
      "\n",
      "Resolution: 2480.315 by 3507.874 pixels\n",
      "\n",
      "Size: 8.267717 by 11.69291 inches (300 dpi)\n",
      "\n",
      "Warning message in sp::proj4string(obj):\n",
      "\"CRS object has comment, which is lost in output\"\n",
      "Map saved to G:\\My Drive\\SDM_China\\outputs\\03_02cBIO4.png\n",
      "\n",
      "Resolution: 2480.315 by 3507.874 pixels\n",
      "\n",
      "Size: 8.267717 by 11.69291 inches (300 dpi)\n",
      "\n",
      "Warning message in sp::proj4string(obj):\n",
      "\"CRS object has comment, which is lost in output\"\n",
      "Map saved to G:\\My Drive\\SDM_China\\outputs\\03_02dnpp.png\n",
      "\n",
      "Resolution: 2480.315 by 3507.874 pixels\n",
      "\n",
      "Size: 8.267717 by 11.69291 inches (300 dpi)\n",
      "\n",
      "Warning message in sp::proj4string(obj):\n",
      "\"CRS object has comment, which is lost in output\"\n",
      "Map saved to G:\\My Drive\\SDM_China\\outputs\\03_02eBIO17.png\n",
      "\n",
      "Resolution: 2480.315 by 3507.874 pixels\n",
      "\n",
      "Size: 8.267717 by 11.69291 inches (300 dpi)\n",
      "\n"
     ]
    }
   ],
   "source": [
    "# Set the letters list for names\n",
    "letters<-c(\"a\",\"b\",\"c\",\"d\",\"e\")\n",
    "# Loop over all the environmental variables and plot them for all timeslices\n",
    "for (i in c(2:5)){\n",
    "    col_names<-colnames(china@data)[grep(var_names[i],colnames(china@data))]\n",
    "    period_labels<-gsub(paste(var_names[i],\"_\",sep=\"\"),\"\",col_names)\n",
    "    t=legends[i]\n",
    "    l=letters[i]\n",
    "    env_maps<-tm_shape(china) +\n",
    "        tm_grid(lwd = 0.05,col=\"grey75\",n.x=2,n.y=3,labels.size = 0.8)+\n",
    "        tm_fill(col=col_names, title=t,style = \"cont\",n=4,legend.reverse = TRUE,palette=my_col[[i]],showNA = F) +\n",
    "        tm_shape(outer_border)+\n",
    "        tm_borders(col=\"grey\",lwd=0.5)+\n",
    "        tm_facets(free.scales=TRUE,free.coords=TRUE,ncol=2,nrow=4)+\n",
    "        tm_layout(panel.labels=period_labels,\n",
    "              panel.label.bg.color=\"white\",\n",
    "              frame=FALSE,\n",
    "              frame.lwd=NA,\n",
    "              legend.position=c(\"left\",\"bottom\"),\n",
    "              panel.label.fontface = \"bold\",\n",
    "              panel.label.height=1.5,\n",
    "              panel.label.size = 1,\n",
    "              legend.text.size = 0.6,\n",
    "              legend.height=0.5)\n",
    "\n",
    "    # Save the plot\n",
    "    width=21\n",
    "    height=29.7\n",
    "    tmap_save(tm = env_maps,filename = paste(path2envMapsAE,l,var_names[i],\".png\",sep=\"\"),width = width,height = height,units = \"cm\",dpi = 300)\n",
    "}"
   ]
  },
  {
   "cell_type": "markdown",
   "metadata": {},
   "source": [
    "## Standardise environmental variables"
   ]
  },
  {
   "cell_type": "code",
   "execution_count": null,
   "metadata": {
    "collapsed": true
   },
   "outputs": [],
   "source": [
    "# Standardise environmental variables\n",
    "# Get the mean and standard deviation of all the bioclimatic variables that will be used in a model:\n",
    "stats<-lapply(var_names,function(x){\n",
    "var_stack <- subset(env,colnames(china@data[grep(x,colnames(china@data))]))\n",
    "vals<-as.vector(values(var_stack))\n",
    "mean<-mean(vals, na.rm=TRUE)\n",
    "sd<-sd(vals, na.rm=TRUE)\n",
    "return(as.data.frame(cbind(mean,sd)))})\n",
    "\n",
    "# Get the mean and standard deviations of the environmental variables into a dataframe\n",
    "stats<-rbindlist(stats)\n",
    "stats<-as.data.frame(stats)\n",
    "\n",
    "# Name the rows according to the names of the environmental variables\n",
    "rownames(stats) <- var_names\n",
    "\n",
    "# Save the mean and standard deviation used for scaling and centering of the variables:\n",
    "write.csv(stats, file=path2stats)"
   ]
  },
  {
   "cell_type": "code",
   "execution_count": 136,
   "metadata": {},
   "outputs": [],
   "source": [
    "# Standardize data\n",
    "std_data<-lapply(var_names,function(x){\n",
    "    data_sub<-r.mean[,grep(x,colnames(r.mean))]\n",
    "    new_columns<-scale(data_sub,center=rep(stats[x,]$mean,ncol(data_sub)),scale=rep(stats[x,]$sd,ncol(data_sub)))\n",
    "    new_columns<-as.data.frame(new_columns)\n",
    "    colnames(new_columns)<-paste(colnames(new_columns),\"sd\",sep=\"_\")\n",
    "    return(new_columns)})"
   ]
  },
  {
   "cell_type": "code",
   "execution_count": 139,
   "metadata": {},
   "outputs": [],
   "source": [
    "# Format standardised data as a data frame\n",
    "std_data<-data.frame(std_data)"
   ]
  },
  {
   "cell_type": "code",
   "execution_count": 144,
   "metadata": {},
   "outputs": [],
   "source": [
    "write.csv(std_data,path2env_sd)"
   ]
  },
  {
   "cell_type": "markdown",
   "metadata": {},
   "source": [
    "## Extract and standardise values for production for all counties"
   ]
  },
  {
   "cell_type": "code",
   "execution_count": null,
   "metadata": {},
   "outputs": [],
   "source": [
    "# Extract raster values of the cells with data on buckwheat production for each county in China\n",
    "r.vals <- extract(prd,china)"
   ]
  },
  {
   "cell_type": "code",
   "execution_count": null,
   "metadata": {
    "collapsed": true
   },
   "outputs": [],
   "source": [
    "# Calculate either mean values, or sums for the variables related to buckwheat production for each county\n",
    "r.mean<-lapply(r.vals,function(x){\n",
    "HarvestedAreaDataQuality<- names(sort(table(x[,1]),decreasing=TRUE))[1]\n",
    "YieldDataQuality<- names(sort(table(x[,2]),decreasing=TRUE))[1]\n",
    "HarvestAreaFraction<-mean(x[,3],na.rm=TRUE)\n",
    "HarvestedAreasHectaresSum<-sum(x[,4],na.rm=TRUE)\n",
    "HarvestedAreasHectaresMean<-mean(x[,4],na.rm=TRUE)\n",
    "ProductionSum<-sum(x[,5],na.rm=TRUE)\n",
    "ProductionMean<-mean(x[,5],na.rm=TRUE)\n",
    "YieldPerHectare<-mean(x[,6],na.rm=TRUE)\n",
    "df<-cbind(HarvestedAreaDataQuality,YieldDataQuality,HarvestAreaFraction,HarvestedAreasHectaresSum,HarvestedAreasHectaresMean,ProductionSum,ProductionMean,YieldPerHectare)\n",
    "return(df)})"
   ]
  },
  {
   "cell_type": "code",
   "execution_count": null,
   "metadata": {
    "collapsed": true
   },
   "outputs": [],
   "source": [
    "# Turn the extracted values into one data frame\n",
    "r.mean<-lapply(r.mean, rbind)\n",
    "r.mean<-lapply(r.mean,as.data.frame)\n",
    "r.mean<- rbindlist(r.mean)"
   ]
  },
  {
   "cell_type": "code",
   "execution_count": 41,
   "metadata": {},
   "outputs": [],
   "source": [
    "write.csv(r.means,path2prd_counties)"
   ]
  },
  {
   "cell_type": "code",
   "execution_count": 20,
   "metadata": {},
   "outputs": [
    {
     "name": "stdout",
     "output_type": "stream",
     "text": [
      "OGR data source with driver: ESRI Shapefile \n",
      "Source: \"G:\\My Drive\\SDM_China\\data\\china_data\", layer: \"china_data\"\n",
      "with 2409 features\n",
      "It has 36 fields\n"
     ]
    }
   ],
   "source": [
    "d<-readOGR(dsn =here(\"data\",\"china_data\"), layer = \"china_data\")"
   ]
  },
  {
   "cell_type": "code",
   "execution_count": null,
   "metadata": {},
   "outputs": [],
   "source": [
    "### Change colnames to shorter onse before attaching them to the spatial polygons datafram, so that they are not cut when \n",
    "### writing it to the file\n",
    "colnames(r.mean)<-c(\"AreaDQ\",\"YieldDQ\",\"AreaFr\",\"AreaHaS\",\"AreaHaM\",\"ProdSum\",\"ProdMean\",\"YieldPH\")\n",
    "### Attach the dataframe to the attributes of the spatial polygons\n",
    "china@data <- data.frame(china@data, r.mean)"
   ]
  },
  {
   "cell_type": "code",
   "execution_count": 42,
   "metadata": {},
   "outputs": [],
   "source": [
    "### Calculate the area of each \n",
    "china@data$area<-areaPolygon(china)"
   ]
  },
  {
   "cell_type": "code",
   "execution_count": 43,
   "metadata": {},
   "outputs": [
    {
     "data": {
      "text/html": [
       "<style>\n",
       ".list-inline {list-style: none; margin:0; padding: 0}\n",
       ".list-inline>li {display: inline-block}\n",
       ".list-inline>li:not(:last-child)::after {content: \"\\00b7\"; padding: 0 .5ex}\n",
       "</style>\n",
       "<ol class=list-inline><li>458885244.623252</li><li>1611724621.15936</li><li>1711132484.35379</li><li>2354233624.47908</li><li>2025878813.82875</li><li>1647492858.54998</li></ol>\n"
      ],
      "text/latex": [
       "\\begin{enumerate*}\n",
       "\\item 458885244.623252\n",
       "\\item 1611724621.15936\n",
       "\\item 1711132484.35379\n",
       "\\item 2354233624.47908\n",
       "\\item 2025878813.82875\n",
       "\\item 1647492858.54998\n",
       "\\end{enumerate*}\n"
      ],
      "text/markdown": [
       "1. 458885244.623252\n",
       "2. 1611724621.15936\n",
       "3. 1711132484.35379\n",
       "4. 2354233624.47908\n",
       "5. 2025878813.82875\n",
       "6. 1647492858.54998\n",
       "\n",
       "\n"
      ],
      "text/plain": [
       "[1]  458885245 1611724621 1711132484 2354233624 2025878814 1647492859"
      ]
     },
     "metadata": {},
     "output_type": "display_data"
    }
   ],
   "source": [
    "head(china@data$area)"
   ]
  },
  {
   "cell_type": "code",
   "execution_count": null,
   "metadata": {
    "collapsed": true
   },
   "outputs": [],
   "source": [
    "### Get the prortion of area which is cultivated, by dividing the cultivated area in hectares for the county, by the area of \n",
    "### the county. Area is given in square meters, and cultivated area in hectares, so multiply by 10 000.\n",
    "china@data$AreaPr<-(as.numeric(as.character(china@data$AreaHaS))/china@data$area)*10000\n",
    "\n",
    "### Get the average produciont of buckwheat in tonnes, per hectar of a county\n",
    "china@data$ProdHa<-(as.numeric(as.character(china@data$ProdSum))/china@data$area)*10000"
   ]
  },
  {
   "cell_type": "code",
   "execution_count": null,
   "metadata": {
    "collapsed": true
   },
   "outputs": [],
   "source": [
    "### Get the smallest possible values of AreaPr and Prod Ha:\n",
    "sort(unique(china@data$AreaPr))[2]\n",
    "sort(unique(china@data$ProdHa))[2]"
   ]
  },
  {
   "cell_type": "code",
   "execution_count": null,
   "metadata": {
    "collapsed": true
   },
   "outputs": [],
   "source": [
    "### Get the logarithms for the proportion of the area of the county where buckwheat is cultivatad \n",
    "### and for average production in tonnes per hectare in a country.\n",
    "### To transform into a logarithm add a small value \n",
    "### (a magnitude smaller than the second smallest value in the column)\n",
    "### to all of the numbers to avoind zeros:\n",
    "china@data$logArea <- log(china@data$AreaPr+1e-11 )\n",
    "china@data$logProd <- log(china@data$ProdHa+1e-11)\n",
    "\n",
    "###Change the names so the they are not transformed when written to a file:\n",
    "colnames(china@data)<- gsub(\"0\",\"\",colnames(china@data))\n",
    "colnames(china@data)<-gsub(\"BIO1_\",\"BIO10_\",colnames(china@data))\n",
    "colnames(china@data)[1] <- \"ID_0\""
   ]
  },
  {
   "cell_type": "code",
   "execution_count": 32,
   "metadata": {
    "collapsed": true
   },
   "outputs": [],
   "source": [
    "### Write the Spatial Polygon data frame to a file:\n",
    "writeOGR(obj=china, dsn=\"data/china_data\", layer=\"china_data\", driver=\"ESRI Shapefile\")"
   ]
  },
  {
   "cell_type": "code",
   "execution_count": 56,
   "metadata": {
    "collapsed": true
   },
   "outputs": [],
   "source": [
    "china_sf <-  st_read(\"data/china_data\", quiet = TRUE)"
   ]
  },
  {
   "cell_type": "code",
   "execution_count": 57,
   "metadata": {
    "collapsed": true
   },
   "outputs": [],
   "source": [
    "china_sf<-st_union(china_sf)"
   ]
  },
  {
   "cell_type": "code",
   "execution_count": 6,
   "metadata": {},
   "outputs": [
    {
     "name": "stdout",
     "output_type": "stream",
     "text": [
      "OGR data source with driver: ESRI Shapefile \n",
      "Source: \"G:\\My Drive\\SDM_China\\data\\china_data\", layer: \"china_data\"\n",
      "with 2409 features\n",
      "It has 36 fields\n"
     ]
    }
   ],
   "source": [
    "china<-readOGR(dsn=\"data/china_data\", layer=\"china_data\")"
   ]
  },
  {
   "cell_type": "code",
   "execution_count": 10,
   "metadata": {},
   "outputs": [
    {
     "name": "stdout",
     "output_type": "stream",
     "text": [
      "'data.frame':\t2409 obs. of  36 variables:\n",
      " $ ID_0     : Factor w/ 1 level \"49\": 1 1 1 1 1 1 1 1 1 1 ...\n",
      " $ ISO      : Factor w/ 1 level \"CHN\": 1 1 1 1 1 1 1 1 1 1 ...\n",
      " $ NAME_0   : Factor w/ 1 level \"China\": 1 1 1 1 1 1 1 1 1 1 ...\n",
      " $ ID_1     : Factor w/ 31 levels \"1\",\"10\",\"11\",..: 1 1 1 1 1 1 1 1 1 1 ...\n",
      " $ NAME_1   : Factor w/ 31 levels \"Anhui\",\"Beijing\",..: 1 1 1 1 1 1 1 1 1 1 ...\n",
      " $ ID_2     : Factor w/ 344 levels \"1\",\"10\",\"100\",..: 1 1 1 1 1 1 1 1 1 112 ...\n",
      " $ NAME_2   : Factor w/ 339 levels \"Aksu\",\"Altay\",..: 5 5 5 5 5 5 5 5 5 24 ...\n",
      " $ ID_3     : Factor w/ 2409 levels \"1\",\"10\",\"100\",..: 1 1112 1633 1744 1855 1966 2077 2188 2299 2 ...\n",
      " $ NAME_3   : Factor w/ 2228 levels \"Aba\",\"Abag\",\"Abagnar Qi\",..: 25 633 1326 1594 1607 1661 1705 2084 2221 96 ...\n",
      " $ TYPE_3   : Factor w/ 12 levels \"QÃ­\",\"ShÃ¬xiÃ¡q?\",..: 7 6 6 6 6 7 6 6 6 7 ...\n",
      " $ ENGTYPE_3: Factor w/ 11 levels \"Administrative Committee\",..: 7 6 6 6 6 7 6 6 6 7 ...\n",
      " $ NL_NAME_3: Factor w/ 19 levels \"??\",\"???\",\"????\",..: NA 2 2 2 2 2 2 2 2 NA ...\n",
      " $ VARNAME_3: Factor w/ 1959 levels \"\\tLÃ¹hÃ©\",\"\\tYuÃ¨q?ng\",..: NA 569 1221 1299 1424 1449 1537 1860 1869 NA ...\n",
      " $ BIO10    : num  27.4 27.7 26.8 27.7 26.6 ...\n",
      " $ BIO17    : num  137 142 143 157 149 ...\n",
      " $ BIO4     : num  910 909 903 901 895 ...\n",
      " $ BIO9     : num  7.21 7.46 6.5 7.72 6.61 ...\n",
      " $ npp      : num  925 929 916 932 864 ...\n",
      " $ BIO10_sd : num  1.14 1.18 1.05 1.18 1.02 ...\n",
      " $ BIO17_sd : num  1.92 2 2.02 2.28 2.14 ...\n",
      " $ BIO4_sd  : num  -0.464 -0.466 -0.484 -0.488 -0.506 ...\n",
      " $ BIO9_sd  : num  1.058 1.079 0.998 1.101 1.008 ...\n",
      " $ npp_sd   : num  1.49 1.51 1.46 1.52 1.3 ...\n",
      " $ AreaDQ   : Factor w/ 3 levels \"0\",\"0.5\",\"1\": 3 3 2 3 3 3 3 3 3 2 ...\n",
      " $ YieldDQ  : Factor w/ 3 levels \"0\",\"0.25\",\"0.5\": 2 2 2 2 2 2 2 2 2 2 ...\n",
      " $ AreaFr   : Factor w/ 2396 levels \"0\",\"0.000101072990276854\",..: 833 527 284 276 345 33 16 2368 2249 1294 ...\n",
      " $ AreaHaS  : Factor w/ 2393 levels \"0\",\"0.000318444042932242\",..: 712 2147 1521 1247 1786 643 80 968 79 2269 ...\n",
      " $ AreaHaM  : Factor w/ 2393 levels \"0\",\"0.000257416637441658\",..: 1507 1484 692 498 722 421 349 374 243 972 ...\n",
      " $ ProdSum  : Factor w/ 2393 levels \"0\",\"0.000509510457050055\",..: 1185 255 1961 1672 2227 1096 500 1402 499 380 ...\n",
      " $ ProdMean : Factor w/ 2393 levels \"0\",\"0.000411866627270296\",..: 1852 1830 1184 503 1438 425 351 377 243 1300 ...\n",
      " $ YieldPH  : Factor w/ 390 levels \"0\",\"0.00324280507466935\",..: 390 390 390 271 390 301 390 233 313 390 ...\n",
      " $ area     : num  4.59e+08 1.61e+09 1.71e+09 2.35e+09 2.03e+09 ...\n",
      " $ AreaPr   : num  0.000435 0.000471 0.000239 0.000133 0.000259 ...\n",
      " $ ProdHa   : num  0.000697 0.000753 0.000383 0.000212 0.000415 ...\n",
      " $ logArea  : num  -7.74 -7.66 -8.34 -8.93 -8.26 ...\n",
      " $ logProd  : num  -7.27 -7.19 -7.87 -8.46 -7.79 ...\n"
     ]
    }
   ],
   "source": [
    "str(china@data)"
   ]
  },
  {
   "cell_type": "code",
   "execution_count": 22,
   "metadata": {
    "collapsed": true
   },
   "outputs": [],
   "source": [
    "china2<-china"
   ]
  },
  {
   "cell_type": "code",
   "execution_count": 24,
   "metadata": {},
   "outputs": [],
   "source": [
    "china@data[,c(\"AreaFr\",\"logArea\",\"AreaDQ\",\"ProdSum\",\"YieldPH\",\"YieldDQ\")]<-lapply(china@data[,c(\"AreaFr\",\"logArea\",\"AreaDQ\",\"ProdSum\",\"YieldPH\",\"YieldDQ\")],as.character)"
   ]
  },
  {
   "cell_type": "code",
   "execution_count": 26,
   "metadata": {},
   "outputs": [],
   "source": [
    "china@data[,c(\"AreaFr\",\"logArea\",\"AreaDQ\",\"ProdSum\",\"YieldPH\",\"YieldDQ\")]<-lapply(china@data[,c(\"AreaFr\",\"logArea\",\"AreaDQ\",\"ProdSum\",\"YieldPH\",\"YieldDQ\")],as.numeric)"
   ]
  },
  {
   "cell_type": "code",
   "execution_count": 25,
   "metadata": {},
   "outputs": [
    {
     "name": "stdout",
     "output_type": "stream",
     "text": [
      "'data.frame':\t2409 obs. of  36 variables:\n",
      " $ ID_0     : Factor w/ 1 level \"49\": 1 1 1 1 1 1 1 1 1 1 ...\n",
      " $ ISO      : Factor w/ 1 level \"CHN\": 1 1 1 1 1 1 1 1 1 1 ...\n",
      " $ NAME_0   : Factor w/ 1 level \"China\": 1 1 1 1 1 1 1 1 1 1 ...\n",
      " $ ID_1     : Factor w/ 31 levels \"1\",\"10\",\"11\",..: 1 1 1 1 1 1 1 1 1 1 ...\n",
      " $ NAME_1   : Factor w/ 31 levels \"Anhui\",\"Beijing\",..: 1 1 1 1 1 1 1 1 1 1 ...\n",
      " $ ID_2     : Factor w/ 344 levels \"1\",\"10\",\"100\",..: 1 1 1 1 1 1 1 1 1 112 ...\n",
      " $ NAME_2   : Factor w/ 339 levels \"Aksu\",\"Altay\",..: 5 5 5 5 5 5 5 5 5 24 ...\n",
      " $ ID_3     : Factor w/ 2409 levels \"1\",\"10\",\"100\",..: 1 1112 1633 1744 1855 1966 2077 2188 2299 2 ...\n",
      " $ NAME_3   : Factor w/ 2228 levels \"Aba\",\"Abag\",\"Abagnar Qi\",..: 25 633 1326 1594 1607 1661 1705 2084 2221 96 ...\n",
      " $ TYPE_3   : Factor w/ 12 levels \"QÃ­\",\"ShÃ¬xiÃ¡q?\",..: 7 6 6 6 6 7 6 6 6 7 ...\n",
      " $ ENGTYPE_3: Factor w/ 11 levels \"Administrative Committee\",..: 7 6 6 6 6 7 6 6 6 7 ...\n",
      " $ NL_NAME_3: Factor w/ 19 levels \"??\",\"???\",\"????\",..: NA 2 2 2 2 2 2 2 2 NA ...\n",
      " $ VARNAME_3: Factor w/ 1959 levels \"\\tLÃ¹hÃ©\",\"\\tYuÃ¨q?ng\",..: NA 569 1221 1299 1424 1449 1537 1860 1869 NA ...\n",
      " $ BIO10    : num  27.4 27.7 26.8 27.7 26.6 ...\n",
      " $ BIO17    : num  137 142 143 157 149 ...\n",
      " $ BIO4     : num  910 909 903 901 895 ...\n",
      " $ BIO9     : num  7.21 7.46 6.5 7.72 6.61 ...\n",
      " $ npp      : num  925 929 916 932 864 ...\n",
      " $ BIO10_sd : num  1.14 1.18 1.05 1.18 1.02 ...\n",
      " $ BIO17_sd : num  1.92 2 2.02 2.28 2.14 ...\n",
      " $ BIO4_sd  : num  -0.464 -0.466 -0.484 -0.488 -0.506 ...\n",
      " $ BIO9_sd  : num  1.058 1.079 0.998 1.101 1.008 ...\n",
      " $ npp_sd   : num  1.49 1.51 1.46 1.52 1.3 ...\n",
      " $ AreaDQ   : chr  \"1\" \"1\" \"0.5\" \"1\" ...\n",
      " $ YieldDQ  : chr  \"0.25\" \"0.25\" \"0.25\" \"0.25\" ...\n",
      " $ AreaFr   : chr  \"0.0008862265846498\" \"0.000457425044260162\" \"0.000242814513749972\" \"0.000236599516687545\" ...\n",
      " $ AreaHaS  : Factor w/ 2393 levels \"0\",\"0.000318444042932242\",..: 712 2147 1521 1247 1786 643 80 968 79 2269 ...\n",
      " $ AreaHaM  : Factor w/ 2393 levels \"0\",\"0.000257416637441658\",..: 1507 1484 692 498 722 421 349 374 243 972 ...\n",
      " $ ProdSum  : chr  \"31.9677577018738\" \"121.427231490612\" \"65.4892988801003\" \"49.9488275945187\" ...\n",
      " $ ProdMean : Factor w/ 2393 levels \"0\",\"0.000411866627270296\",..: 1852 1830 1184 503 1438 425 351 377 243 1300 ...\n",
      " $ YieldPH  : chr  \"1.60000002384186\" \"1.60000002384186\" \"1.60000002384186\" \"1.48965519461138\" ...\n",
      " $ area     : num  4.59e+08 1.61e+09 1.71e+09 2.35e+09 2.03e+09 ...\n",
      " $ AreaPr   : num  0.000435 0.000471 0.000239 0.000133 0.000259 ...\n",
      " $ ProdHa   : num  0.000697 0.000753 0.000383 0.000212 0.000415 ...\n",
      " $ logArea  : chr  \"-7.73924613332996\" \"-7.66091871841419\" \"-8.33819774042128\" \"-8.92814525658232\" ...\n",
      " $ logProd  : num  -7.27 -7.19 -7.87 -8.46 -7.79 ...\n"
     ]
    }
   ],
   "source": [
    "str(china@data)"
   ]
  },
  {
   "cell_type": "code",
   "execution_count": 8,
   "metadata": {
    "collapsed": true
   },
   "outputs": [],
   "source": [
    "library(tmap)"
   ]
  },
  {
   "cell_type": "code",
   "execution_count": 40,
   "metadata": {
    "collapsed": true
   },
   "outputs": [
    {
     "name": "stderr",
     "output_type": "stream",
     "text": [
      "Warning message in if (reverse) rev(legend.palette[i]) else legend.palette[i]:\n",
      "\"the condition has length > 1 and only the first element will be used\"\n",
      "Warning message in if (reverse) rev(legend.palette[i]) else legend.palette[i]:\n",
      "\"the condition has length > 1 and only the first element will be used\"\n",
      "Warning message in if (reverse) rev(legend.palette[i]) else legend.palette[i]:\n",
      "\"the condition has length > 1 and only the first element will be used\"\n",
      "Warning message in if (reverse) rev(legend.palette[i]) else legend.palette[i]:\n",
      "\"the condition has length > 1 and only the first element will be used\"\n",
      "Warning message in if (reverse) legend.palette <- rev(legend.palette):\n",
      "\"the condition has length > 1 and only the first element will be used\"\n",
      "Warning message in if (reverse) {:\n",
      "\"the condition has length > 1 and only the first element will be used\"\n",
      "Warning message in if (reverse) rev(legend.palette[i]) else legend.palette[i]:\n",
      "\"the condition has length > 1 and only the first element will be used\"\n",
      "Warning message in if (reverse) rev(legend.palette[i]) else legend.palette[i]:\n",
      "\"the condition has length > 1 and only the first element will be used\"\n",
      "Warning message in if (reverse) rev(legend.palette[i]) else legend.palette[i]:\n",
      "\"the condition has length > 1 and only the first element will be used\"\n",
      "Warning message in if (reverse) rev(legend.palette[i]) else legend.palette[i]:\n",
      "\"the condition has length > 1 and only the first element will be used\"\n",
      "Warning message in if (reverse) rev(legend.palette[i]) else legend.palette[i]:\n",
      "\"the condition has length > 1 and only the first element will be used\"\n",
      "Warning message in if (reverse) legend.palette <- rev(legend.palette):\n",
      "\"the condition has length > 1 and only the first element will be used\"\n",
      "Warning message in if (reverse) {:\n",
      "\"the condition has length > 1 and only the first element will be used\"\n",
      "Warning message in if (reverse) {:\n",
      "\"the condition has length > 1 and only the first element will be used\"\n",
      "Warning message in if (reverse) rev(legend.palette[i]) else legend.palette[i]:\n",
      "\"the condition has length > 1 and only the first element will be used\"\n",
      "Warning message in if (reverse) rev(legend.palette[i]) else legend.palette[i]:\n",
      "\"the condition has length > 1 and only the first element will be used\"\n",
      "Warning message in if (reverse) rev(legend.palette[i]) else legend.palette[i]:\n",
      "\"the condition has length > 1 and only the first element will be used\"\n",
      "Warning message in if (reverse) rev(legend.palette[i]) else legend.palette[i]:\n",
      "\"the condition has length > 1 and only the first element will be used\"\n",
      "Warning message in if (reverse) legend.palette <- rev(legend.palette):\n",
      "\"the condition has length > 1 and only the first element will be used\"\n",
      "Warning message in if (reverse) {:\n",
      "\"the condition has length > 1 and only the first element will be used\"\n",
      "Warning message in if (reverse) rev(legend.palette[i]) else legend.palette[i]:\n",
      "\"the condition has length > 1 and only the first element will be used\"\n",
      "Warning message in if (reverse) rev(legend.palette[i]) else legend.palette[i]:\n",
      "\"the condition has length > 1 and only the first element will be used\"\n",
      "Warning message in if (reverse) rev(legend.palette[i]) else legend.palette[i]:\n",
      "\"the condition has length > 1 and only the first element will be used\"\n",
      "Warning message in if (reverse) rev(legend.palette[i]) else legend.palette[i]:\n",
      "\"the condition has length > 1 and only the first element will be used\"\n",
      "Warning message in if (reverse) legend.palette <- rev(legend.palette):\n",
      "\"the condition has length > 1 and only the first element will be used\"\n",
      "Warning message in if (reverse) {:\n",
      "\"the condition has length > 1 and only the first element will be used\"\n",
      "Warning message in if (reverse) {:\n",
      "\"the condition has length > 1 and only the first element will be used\"\n"
     ]
    },
    {
     "data": {
      "image/png": "[encoded data removed]",
      "text/plain": [
       "plot without title"
      ]
     },
     "metadata": {
      "image/png": {
       "height": 420,
       "width": 420
      },
      "text/plain": {
       "height": 420,
       "width": 420
      }
     },
     "output_type": "display_data"
    }
   ],
   "source": [
    "prod_maps<-tm_shape(china) +\n",
    "    tm_fill(col=c(\"AreaFr\",\"logArea\",\"AreaDQ\",\"ProdSum\",\"YieldPH\",\"YieldDQ\"),style = c(\"cont\",\"cont\",\"cat\",\"cont\",\"cont\",\"cat\"),legend.reverse = c(TRUE,TRUE,FALSE,TRUE,FALSE,FALSE),palette=c(\"YlOrBr\"),showNA = F)+\n",
    "    tm_layout(panel.labels=c(\"Area under buckwheat cultivation (as a fraction)\", \"Magnitude of the area under cultivation\",\"Data quality for area under cultivation \",\"Buckwheat production in tonnes\",\"Yield per hectare\",\"Data Quality for yield\"),panel.label.bg.color=\"white\",\n",
    "              frame=FALSE,legend.outside.size=0.15,legend.outside = FALSE,legend.text.size = 0.8,\n",
    "              panel.label.size = 1.5,legend.title.size=1)+\n",
    "    tm_facets(ncol=3)\n",
    "prod_maps"
   ]
  },
  {
   "cell_type": "code",
   "execution_count": 97,
   "metadata": {},
   "outputs": [],
   "source": [
    "m1<-tm_shape(china) +\n",
    "    tm_fill(col=c(\"AreaFr\"),style = c(\"cont\"),legend.reverse = TRUE,palette=c(\"YlOrBr\"),showNA = F,title =\"Area fraction\")+\n",
    "    tm_shape(china_sf)+\n",
    "    tm_borders(col=\"grey\",lwd=0.5)+    \n",
    "    tm_layout(frame=FALSE,legend.title.size = 0.8,legend.text.size = 0.6)"
   ]
  },
  {
   "cell_type": "code",
   "execution_count": 98,
   "metadata": {},
   "outputs": [],
   "source": [
    "m2<-tm_shape(china) +\n",
    "    tm_fill(col=c(\"logArea\"),style = c(\"cont\"),legend.reverse = TRUE,palette=c(\"-YlOrBr\"),showNA = F,title =\"Magnitude of\\narea fraction\")+\n",
    "     tm_shape(china_sf)+\n",
    "    tm_borders(col=\"grey\",lwd=0.5)+     \n",
    "    tm_layout(frame=FALSE,legend.title.size = 0.8,legend.text.size = 0.6)"
   ]
  },
  {
   "cell_type": "code",
   "execution_count": 99,
   "metadata": {},
   "outputs": [],
   "source": [
    "m3<-tm_shape(china) +\n",
    "    tm_fill(col=c(\"AreaDQ\"),style = c(\"cat\"),legend.reverse = TRUE,showNA = F,title =\"Data quality:\\narea under cultivation\",\n",
    "            palette=c(\"thistle1\",\"tomato3\",\"tomato4\"),labels=c(\"missing census data\",\"interpolated (within 2° lat/lon)\",\"county level data\"))+\n",
    "    tm_shape(china_sf)+\n",
    "    tm_borders(col=\"grey\",lwd=0.5)+     \n",
    "    tm_layout(frame=FALSE,legend.title.size = 0.8,legend.text.size = 0.6)"
   ]
  },
  {
   "cell_type": "code",
   "execution_count": 100,
   "metadata": {},
   "outputs": [],
   "source": [
    "m4<-tm_shape(china) +\n",
    "    tm_fill(col=c(\"ProdSum\"),style = c(\"cont\"),legend.reverse = TRUE,palette=c(\"YlOrBr\"),showNA = F,title =\"Buckwheat production in tons\")+\n",
    "    tm_shape(china_sf)+\n",
    "    tm_borders(col=\"grey\",lwd=0.5)+    \n",
    "    tm_layout(frame=FALSE,legend.title.size = 0.8,legend.text.size = 0.6)"
   ]
  },
  {
   "cell_type": "code",
   "execution_count": 101,
   "metadata": {},
   "outputs": [],
   "source": [
    "m5<-tm_shape(china) +\n",
    "    tm_fill(col=c(\"YieldPH\"),style = c(\"cont\"),legend.reverse = TRUE,palette=c(\"YlOrBr\"),showNA = F,title =\"Yield per hectare\")+\n",
    "    tm_shape(china_sf)+\n",
    "    tm_borders(col=\"grey\",lwd=0.5)+    \n",
    "    tm_layout(frame=FALSE,legend.title.size = 0.8,legend.text.size = 0.6)"
   ]
  },
  {
   "cell_type": "code",
   "execution_count": 84,
   "metadata": {},
   "outputs": [
    {
     "data": {
      "text/html": [
       "<ol class=list-inline>\n",
       "\t<li>0.25</li>\n",
       "\t<li>0</li>\n",
       "\t<li>0.5</li>\n",
       "</ol>\n"
      ],
      "text/latex": [
       "\\begin{enumerate*}\n",
       "\\item 0.25\n",
       "\\item 0\n",
       "\\item 0.5\n",
       "\\end{enumerate*}\n"
      ],
      "text/markdown": [
       "1. 0.25\n",
       "2. 0\n",
       "3. 0.5\n",
       "\n",
       "\n"
      ],
      "text/plain": [
       "[1] 0.25 0.00 0.50"
      ]
     },
     "metadata": {},
     "output_type": "display_data"
    }
   ],
   "source": [
    "unique(china@data$YieldDQ)"
   ]
  },
  {
   "cell_type": "code",
   "execution_count": 102,
   "metadata": {},
   "outputs": [],
   "source": [
    "m6<-tm_shape(china) +\n",
    "    tm_fill(col=c(\"YieldDQ\"),style = c(\"cat\"),legend.reverse = TRUE,showNA = F,title =\"Data quality:\\nyield\",\n",
    "            palette=c(\"thistle1\",\"tomato2\",\"tomato3\"),labels=c(\"missing census data\",\"country level data\",\"interpolated (within 2° lat/lon)\"))+\n",
    "    tm_shape(china_sf)+\n",
    "    tm_borders(col=\"grey\",lwd=0.5)+     \n",
    "    tm_layout(frame=FALSE,legend.title.size = 0.8,legend.text.size = 0.6)\n",
    "#m6"
   ]
  },
  {
   "cell_type": "code",
   "execution_count": 103,
   "metadata": {},
   "outputs": [
    {
     "data": {
      "text/html": [
       "<strong>png:</strong> 2"
      ],
      "text/latex": [
       "\\textbf{png:} 2"
      ],
      "text/markdown": [
       "**png:** 2"
      ],
      "text/plain": [
       "png \n",
       "  2 "
      ]
     },
     "metadata": {},
     "output_type": "display_data"
    }
   ],
   "source": [
    "width=33.867\n",
    "height=19.5\n",
    "png(\"outputs/diag_maps.png\", units=\"cm\", width=width, height=height,res=300)\n",
    "tmap_arrange(m1,m2,m3,m4,m5,m6, ncol=3)\n",
    "dev.off()"
   ]
  },
  {
   "cell_type": "code",
   "execution_count": null,
   "metadata": {
    "collapsed": true
   },
   "outputs": [],
   "source": [
    "pred_maps<-tm_shape(china_sf) +\n",
    "    tm_fill(col=periods, title.col=\"Period\",style = \"cont\",legend.reverse = TRUE,palette=\"-RdYlBu\",title = \"SUITABILITY OF\\nENVIRONMENTAL\\nCONDITIONS\",labels=c(\"low\",\"\",\"\",\"\",\"\",\"\",\"\",\"\",\"\",\"\",\"\",\"\",\"\",\"\",\"\",\"\",\"\",\"\",\"\",\"\",\"\",\"\",\"\",\"\",\"\",\"high\"),showNA = F) +\n",
    "    tm_shape(outer_border)+\n",
    "    tm_borders(col=\"grey\",lwd=0.5)+\n",
    "    tm_shape(macros)+\n",
    "    tm_symbols(col =\"Sample_type\", shape=\"Sample_type\",size=0.6,legend.col.show=FALSE,legend.shape.show=FALSE,palette=c(\"lightgreen\",\"red\",\"cornflowerblue\",\"darkviolet\"),shapes = c(17,4,15,16))+\n",
    "    tm_facets(by = \"period\",free.scales=FALSE,free.coords=FALSE,ncol=3)+\n",
    "    tm_shape(inner_border)+\n",
    "    tm_borders(col=\"black\",lwd=0.5,lty=\"dashed\")+\n",
    "    tm_facets(by = \"period\",free.scales=FALSE,free.coords=FALSE,ncol=3)+\n",
    "    tm_add_legend(\"symbol\",shape=c(17,15,16,4,17), col = c(\"lightgreen\",\"cornflowerblue\",\"darkviolet\",\"red\",\"white\"), size = c(0.8,0.8,0.8,0.8),labels = c(\"charred seeds\", \"pollen\",\"starch\",\"\\nF.tataricum\\ncharred seeds\",\"\"))+\n",
    "    tm_layout(panel.labels=c(\"1000 BP\", \"2000 BP\",\"3000 BP\",\"4000 BP\",\"5000 BP\",\"6000 BP\"),panel.label.bg.color=\"white\",\n",
    "              frame=FALSE,legend.outside.size=0.15,legend.outside = TRUE,legend.text.size = 0.8,\n",
    "              panel.label.size = 1.5,legend.title.size=1)"
   ]
  },
  {
   "cell_type": "code",
   "execution_count": 104,
   "metadata": {},
   "outputs": [
    {
     "data": {
      "text/html": [
       "<ol class=list-inline>\n",
       "\t<li>'ID_0'</li>\n",
       "\t<li>'ISO'</li>\n",
       "\t<li>'NAME_0'</li>\n",
       "\t<li>'ID_1'</li>\n",
       "\t<li>'NAME_1'</li>\n",
       "\t<li>'ID_2'</li>\n",
       "\t<li>'NAME_2'</li>\n",
       "\t<li>'ID_3'</li>\n",
       "\t<li>'NAME_3'</li>\n",
       "\t<li>'TYPE_3'</li>\n",
       "\t<li>'ENGTYPE_3'</li>\n",
       "\t<li>'NL_NAME_3'</li>\n",
       "\t<li>'VARNAME_3'</li>\n",
       "\t<li>'BIO10'</li>\n",
       "\t<li>'BIO17'</li>\n",
       "\t<li>'BIO4'</li>\n",
       "\t<li>'BIO9'</li>\n",
       "\t<li>'npp'</li>\n",
       "\t<li>'BIO10_sd'</li>\n",
       "\t<li>'BIO17_sd'</li>\n",
       "\t<li>'BIO4_sd'</li>\n",
       "\t<li>'BIO9_sd'</li>\n",
       "\t<li>'npp_sd'</li>\n",
       "\t<li>'AreaDQ'</li>\n",
       "\t<li>'YieldDQ'</li>\n",
       "\t<li>'AreaFr'</li>\n",
       "\t<li>'AreaHaS'</li>\n",
       "\t<li>'AreaHaM'</li>\n",
       "\t<li>'ProdSum'</li>\n",
       "\t<li>'ProdMean'</li>\n",
       "\t<li>'YieldPH'</li>\n",
       "\t<li>'area'</li>\n",
       "\t<li>'AreaPr'</li>\n",
       "\t<li>'ProdHa'</li>\n",
       "\t<li>'logArea'</li>\n",
       "\t<li>'logProd'</li>\n",
       "</ol>\n"
      ],
      "text/latex": [
       "\\begin{enumerate*}\n",
       "\\item 'ID\\_0'\n",
       "\\item 'ISO'\n",
       "\\item 'NAME\\_0'\n",
       "\\item 'ID\\_1'\n",
       "\\item 'NAME\\_1'\n",
       "\\item 'ID\\_2'\n",
       "\\item 'NAME\\_2'\n",
       "\\item 'ID\\_3'\n",
       "\\item 'NAME\\_3'\n",
       "\\item 'TYPE\\_3'\n",
       "\\item 'ENGTYPE\\_3'\n",
       "\\item 'NL\\_NAME\\_3'\n",
       "\\item 'VARNAME\\_3'\n",
       "\\item 'BIO10'\n",
       "\\item 'BIO17'\n",
       "\\item 'BIO4'\n",
       "\\item 'BIO9'\n",
       "\\item 'npp'\n",
       "\\item 'BIO10\\_sd'\n",
       "\\item 'BIO17\\_sd'\n",
       "\\item 'BIO4\\_sd'\n",
       "\\item 'BIO9\\_sd'\n",
       "\\item 'npp\\_sd'\n",
       "\\item 'AreaDQ'\n",
       "\\item 'YieldDQ'\n",
       "\\item 'AreaFr'\n",
       "\\item 'AreaHaS'\n",
       "\\item 'AreaHaM'\n",
       "\\item 'ProdSum'\n",
       "\\item 'ProdMean'\n",
       "\\item 'YieldPH'\n",
       "\\item 'area'\n",
       "\\item 'AreaPr'\n",
       "\\item 'ProdHa'\n",
       "\\item 'logArea'\n",
       "\\item 'logProd'\n",
       "\\end{enumerate*}\n"
      ],
      "text/markdown": [
       "1. 'ID_0'\n",
       "2. 'ISO'\n",
       "3. 'NAME_0'\n",
       "4. 'ID_1'\n",
       "5. 'NAME_1'\n",
       "6. 'ID_2'\n",
       "7. 'NAME_2'\n",
       "8. 'ID_3'\n",
       "9. 'NAME_3'\n",
       "10. 'TYPE_3'\n",
       "11. 'ENGTYPE_3'\n",
       "12. 'NL_NAME_3'\n",
       "13. 'VARNAME_3'\n",
       "14. 'BIO10'\n",
       "15. 'BIO17'\n",
       "16. 'BIO4'\n",
       "17. 'BIO9'\n",
       "18. 'npp'\n",
       "19. 'BIO10_sd'\n",
       "20. 'BIO17_sd'\n",
       "21. 'BIO4_sd'\n",
       "22. 'BIO9_sd'\n",
       "23. 'npp_sd'\n",
       "24. 'AreaDQ'\n",
       "25. 'YieldDQ'\n",
       "26. 'AreaFr'\n",
       "27. 'AreaHaS'\n",
       "28. 'AreaHaM'\n",
       "29. 'ProdSum'\n",
       "30. 'ProdMean'\n",
       "31. 'YieldPH'\n",
       "32. 'area'\n",
       "33. 'AreaPr'\n",
       "34. 'ProdHa'\n",
       "35. 'logArea'\n",
       "36. 'logProd'\n",
       "\n",
       "\n"
      ],
      "text/plain": [
       " [1] \"ID_0\"      \"ISO\"       \"NAME_0\"    \"ID_1\"      \"NAME_1\"    \"ID_2\"     \n",
       " [7] \"NAME_2\"    \"ID_3\"      \"NAME_3\"    \"TYPE_3\"    \"ENGTYPE_3\" \"NL_NAME_3\"\n",
       "[13] \"VARNAME_3\" \"BIO10\"     \"BIO17\"     \"BIO4\"      \"BIO9\"      \"npp\"      \n",
       "[19] \"BIO10_sd\"  \"BIO17_sd\"  \"BIO4_sd\"   \"BIO9_sd\"   \"npp_sd\"    \"AreaDQ\"   \n",
       "[25] \"YieldDQ\"   \"AreaFr\"    \"AreaHaS\"   \"AreaHaM\"   \"ProdSum\"   \"ProdMean\" \n",
       "[31] \"YieldPH\"   \"area\"      \"AreaPr\"    \"ProdHa\"    \"logArea\"   \"logProd\"  "
      ]
     },
     "metadata": {},
     "output_type": "display_data"
    }
   ],
   "source": [
    "colnames(china@data)"
   ]
  },
  {
   "cell_type": "code",
   "execution_count": 116,
   "metadata": {},
   "outputs": [],
   "source": [
    "pred_maps<-tm_shape(china) +\n",
    "    tm_fill(col=c(\"BIO10\",\"BIO17\",\"BIO4\",\"BIO9\",\"npp\"), title=c(\"°C\",\"mm\",\"°C\",\"°C\",\"g C m−2 yr−1\"),style = \"cont\",legend.reverse = TRUE,palette=\"-RdYlBu\",showNA = F) +\n",
    "    #tm_shape(outer_border)+\n",
    "    #tm_borders(col=\"grey\",lwd=0.5)+\n",
    "    tm_facets(free.scales=TRUE,free.coords=TRUE,ncol=3)+\n",
    "    tm_layout(panel.labels=c(\"BIO10\", \"BIO17\",\"BIO4\",\"BIO9\",\"npp\"),panel.label.bg.color=\"white\",\n",
    "              frame=FALSE,legend.outside.size=0.15,legend.outside = FALSE,legend.text.size = 0.8,\n",
    "              panel.label.size = 1.5,legend.title.size=1,legend.position=c(\"left\",\"bottom\"))"
   ]
  },
  {
   "cell_type": "code",
   "execution_count": 117,
   "metadata": {},
   "outputs": [
    {
     "name": "stderr",
     "output_type": "stream",
     "text": [
      "Variable(s) \"BIO9\" contains positive and negative values, so midpoint is set to 0. Set midpoint = NA to show the full spectrum of the color palette.\n",
      "\n"
     ]
    },
    {
     "data": {
      "text/html": [
       "<strong>png:</strong> 2"
      ],
      "text/latex": [
       "\\textbf{png:} 2"
      ],
      "text/markdown": [
       "**png:** 2"
      ],
      "text/plain": [
       "png \n",
       "  2 "
      ]
     },
     "metadata": {},
     "output_type": "display_data"
    }
   ],
   "source": [
    "width=20\n",
    "height=19.5\n",
    "png(\"outputs/climate_maps.png\", units=\"cm\", width=width, height=height,res=300)\n",
    "pred_maps\n",
    "dev.off()"
   ]
  },
  {
   "cell_type": "markdown",
   "metadata": {},
   "source": [
    "## Calculate and save the adjacency matrix"
   ]
  },
  {
   "cell_type": "code",
   "execution_count": null,
   "metadata": {
    "collapsed": true
   },
   "outputs": [],
   "source": [
    "### Calculate the adjacency matrix for the Spatial Polygons Data Frame:\n",
    "\n",
    "#### Now also get the adjacency matrix between the nodes and save it as csv:\n",
    "# Gets the numbe of observations\n",
    "N=nrow(china@data)\n",
    "\n",
    "# Gets the adjacency\n",
    "adj<-poly2nb(china)\n",
    "\n",
    "# Define the nodes as vectors\n",
    "\n",
    "node2 = vector(mode=\"numeric\");\n",
    "node1 = vector(mode=\"numeric\");\n",
    "\n",
    "# Get the values for each node\n",
    "for (i in 1:N){\n",
    "    a<-unlist(adj[i])\n",
    "    a<-a[a>i]\n",
    "    # Add to values of Node 1\n",
    "    n1<-rep(i,length(a))\n",
    "    node1 <-c(node1,n1)\n",
    "    # Add values of Node 2\n",
    "    node2<-c(node2,a)\n",
    "}\n",
    "\n",
    "mat<-cbind(node1, node2)\n",
    "write.csv(mat, file=path2adjacency,row.names = FALSE)"
   ]
  },
  {
   "cell_type": "code",
   "execution_count": null,
   "metadata": {},
   "outputs": [],
   "source": [
    "pred_maps<-tm_shape(china) +\n",
    "    tm_fill(col=c(\"BIO10\",\"BIO17\",\"BIO4\",\"BIO9\",\"npp\"), title=c(\"°C\",\"mm\",\"°C\",\"°C\",\"g C m−2 yr−1\"),style = \"cont\",legend.reverse = TRUE,palette=\"-RdYlBu\",showNA = F) +\n",
    "    #tm_shape(outer_border)+\n",
    "    #tm_borders(col=\"grey\",lwd=0.5)+\n",
    "    tm_facets(free.scales=TRUE,free.coords=TRUE,ncol=3)+\n",
    "    tm_layout(panel.labels=c(\"BIO10\", \"BIO17\",\"BIO4\",\"BIO9\",\"npp\"),panel.label.bg.color=\"white\",\n",
    "              frame=FALSE,legend.outside.size=0.15,legend.outside = FALSE,legend.text.size = 0.8,\n",
    "              panel.label.size = 1.5,legend.title.size=1,legend.position=c(\"left\",\"bottom\"))"
   ]
  },
  {
   "cell_type": "markdown",
   "metadata": {},
   "source": [
    "## Visualise data"
   ]
  },
  {
   "cell_type": "code",
   "execution_count": null,
   "metadata": {
    "collapsed": true
   },
   "outputs": [],
   "source": [
    "# Finally, visualise some of the data:\n",
    "#spplot(china['BIO_1'] )\n",
    "spplot(china['BIO10'] )\n",
    "spplot(china['logArea'] )"
   ]
  },
  {
   "cell_type": "markdown",
   "metadata": {},
   "source": []
  },
  {
   "cell_type": "code",
   "execution_count": 5,
   "metadata": {},
   "outputs": [
    {
     "data": {
      "text/html": [
       "<ol class=list-inline>\n",
       "\t<li>'buckwheat_DataQuality_HarvestedArea'</li>\n",
       "\t<li>'buckwheat_DataQuality_Yield'</li>\n",
       "\t<li>'buckwheat_HarvestedAreaFraction'</li>\n",
       "\t<li>'buckwheat_HarvestedAreaHectares'</li>\n",
       "\t<li>'buckwheat_Production'</li>\n",
       "\t<li>'buckwheat_YieldPerHectare'</li>\n",
       "</ol>\n"
      ],
      "text/latex": [
       "\\begin{enumerate*}\n",
       "\\item 'buckwheat\\_DataQuality\\_HarvestedArea'\n",
       "\\item 'buckwheat\\_DataQuality\\_Yield'\n",
       "\\item 'buckwheat\\_HarvestedAreaFraction'\n",
       "\\item 'buckwheat\\_HarvestedAreaHectares'\n",
       "\\item 'buckwheat\\_Production'\n",
       "\\item 'buckwheat\\_YieldPerHectare'\n",
       "\\end{enumerate*}\n"
      ],
      "text/markdown": [
       "1. 'buckwheat_DataQuality_HarvestedArea'\n",
       "2. 'buckwheat_DataQuality_Yield'\n",
       "3. 'buckwheat_HarvestedAreaFraction'\n",
       "4. 'buckwheat_HarvestedAreaHectares'\n",
       "5. 'buckwheat_Production'\n",
       "6. 'buckwheat_YieldPerHectare'\n",
       "\n",
       "\n"
      ],
      "text/plain": [
       "[1] \"buckwheat_DataQuality_HarvestedArea\" \"buckwheat_DataQuality_Yield\"        \n",
       "[3] \"buckwheat_HarvestedAreaFraction\"     \"buckwheat_HarvestedAreaHectares\"    \n",
       "[5] \"buckwheat_Production\"                \"buckwheat_YieldPerHectare\"          "
      ]
     },
     "metadata": {},
     "output_type": "display_data"
    }
   ],
   "source": [
    "names(prd)"
   ]
  },
  {
   "cell_type": "code",
   "execution_count": 7,
   "metadata": {},
   "outputs": [
    {
     "data": {
      "text/plain": [
       "class      : RasterLayer \n",
       "dimensions : 426, 736, 313536  (nrow, ncol, ncell)\n",
       "resolution : 0.08333333, 0.08333333  (x, y)\n",
       "extent     : 73.5, 134.8333, 18.08333, 53.58333  (xmin, xmax, ymin, ymax)\n",
       "crs        : +proj=longlat +datum=WGS84 +no_defs +ellps=WGS84 +towgs84=0,0,0 \n",
       "source     : G:/My Drive/SDM_China/data/buckwheat_production/masked/buckwheat_DataQuality_HarvestedArea.tif \n",
       "names      : buckwheat_DataQuality_HarvestedArea \n",
       "values     : 0, 1  (min, max)\n"
      ]
     },
     "metadata": {},
     "output_type": "display_data"
    }
   ],
   "source": [
    "prd[[1]]"
   ]
  },
  {
   "cell_type": "code",
   "execution_count": 8,
   "metadata": {},
   "outputs": [
    {
     "name": "stdout",
     "output_type": "stream",
     "text": [
      "OGR data source with driver: ESRI Shapefile \n",
      "Source: \"G:\\My Drive\\SDM_China\\data\\china_data\", layer: \"china_data\"\n",
      "with 2409 features\n",
      "It has 36 fields\n"
     ]
    }
   ],
   "source": [
    "china<-readOGR(dsn=\"data/china_data\", layer=\"china_data\")"
   ]
  },
  {
   "cell_type": "code",
   "execution_count": 9,
   "metadata": {},
   "outputs": [
    {
     "data": {
      "text/html": [
       "<table>\n",
       "<caption>A data.frame: 6 × 36</caption>\n",
       "<thead>\n",
       "\t<tr><th></th><th scope=col>ID_0</th><th scope=col>ISO</th><th scope=col>NAME_0</th><th scope=col>ID_1</th><th scope=col>NAME_1</th><th scope=col>ID_2</th><th scope=col>NAME_2</th><th scope=col>ID_3</th><th scope=col>NAME_3</th><th scope=col>TYPE_3</th><th scope=col>...</th><th scope=col>AreaHaS</th><th scope=col>AreaHaM</th><th scope=col>ProdSum</th><th scope=col>ProdMean</th><th scope=col>YieldPH</th><th scope=col>area</th><th scope=col>AreaPr</th><th scope=col>ProdHa</th><th scope=col>logArea</th><th scope=col>logProd</th></tr>\n",
       "\t<tr><th></th><th scope=col>&lt;fct&gt;</th><th scope=col>&lt;fct&gt;</th><th scope=col>&lt;fct&gt;</th><th scope=col>&lt;fct&gt;</th><th scope=col>&lt;fct&gt;</th><th scope=col>&lt;fct&gt;</th><th scope=col>&lt;fct&gt;</th><th scope=col>&lt;fct&gt;</th><th scope=col>&lt;fct&gt;</th><th scope=col>&lt;fct&gt;</th><th scope=col>...</th><th scope=col>&lt;fct&gt;</th><th scope=col>&lt;fct&gt;</th><th scope=col>&lt;fct&gt;</th><th scope=col>&lt;fct&gt;</th><th scope=col>&lt;fct&gt;</th><th scope=col>&lt;dbl&gt;</th><th scope=col>&lt;dbl&gt;</th><th scope=col>&lt;dbl&gt;</th><th scope=col>&lt;dbl&gt;</th><th scope=col>&lt;dbl&gt;</th></tr>\n",
       "</thead>\n",
       "<tbody>\n",
       "\t<tr><th scope=row>0</th><td>49</td><td>CHN</td><td>China</td><td>1</td><td>Anhui</td><td>1</td><td>Anqing</td><td>1</td><td>Anqing   </td><td>XiÃ njÃ­shÃ¬</td><td>...</td><td>19.9798486232758</td><td>3.32997477054596 </td><td>31.9677577018738</td><td>5.32795961697896</td><td>1.60000002384186</td><td> 458885245</td><td>0.0004353997</td><td>0.0006966395</td><td>-7.739246</td><td>-7.269243</td></tr>\n",
       "\t<tr><th scope=row>1</th><td>49</td><td>CHN</td><td>China</td><td>1</td><td>Anhui</td><td>1</td><td>Anqing</td><td>2</td><td>Huaining </td><td>XiÃ n       </td><td>...</td><td>75.8920187652111</td><td>3.16216744855046 </td><td>121.427231490612</td><td>5.0594679787755 </td><td>1.60000002384186</td><td>1611724621</td><td>0.0004708746</td><td>0.0007533994</td><td>-7.660919</td><td>-7.190915</td></tr>\n",
       "\t<tr><th scope=row>2</th><td>49</td><td>CHN</td><td>China</td><td>1</td><td>Anhui</td><td>1</td><td>Anqing</td><td>3</td><td>Qianshan </td><td>XiÃ n       </td><td>...</td><td>40.9308110401034</td><td>1.7796004800045  </td><td>65.4892988801003</td><td>2.84736082087392</td><td>1.60000002384186</td><td>1711132484</td><td>0.0002392031</td><td>0.0003827249</td><td>-8.338198</td><td>-7.868194</td></tr>\n",
       "\t<tr><th scope=row>3</th><td>49</td><td>CHN</td><td>China</td><td>1</td><td>Anhui</td><td>1</td><td>Anqing</td><td>4</td><td>Susong   </td><td>XiÃ n       </td><td>...</td><td>31.2180165797472</td><td>1.07648333033611 </td><td>49.9488275945187</td><td>1.72237336532823</td><td>1.48965519461138</td><td>2354233624</td><td>0.0001326037</td><td>0.0002121660</td><td>-8.928145</td><td>-8.458142</td></tr>\n",
       "\t<tr><th scope=row>4</th><td>49</td><td>CHN</td><td>China</td><td>1</td><td>Anhui</td><td>1</td><td>Anqing</td><td>5</td><td>Taihu    </td><td>XiÃ n       </td><td>...</td><td>52.5311418622732</td><td>1.94559784675086 </td><td>84.0498283207417</td><td>3.11295660447191</td><td>1.60000002384186</td><td>2025878814</td><td>0.0002593005</td><td>0.0004148808</td><td>-8.257523</td><td>-7.787519</td></tr>\n",
       "\t<tr><th scope=row>5</th><td>49</td><td>CHN</td><td>China</td><td>1</td><td>Anhui</td><td>1</td><td>Anqing</td><td>6</td><td>Tongcheng</td><td>XiÃ njÃ­shÃ¬</td><td>...</td><td>18.6689179092646</td><td>0.811692083011503</td><td>29.8702690713108</td><td>1.29870735092655</td><td>1.53043480541395</td><td>1647492859</td><td>0.0001133171</td><td>0.0001813074</td><td>-9.085320</td><td>-8.615316</td></tr>\n",
       "</tbody>\n",
       "</table>\n"
      ],
      "text/latex": [
       "A data.frame: 6 × 36\n",
       "\\begin{tabular}{r|lllllllllllllllllllll}\n",
       "  & ID\\_0 & ISO & NAME\\_0 & ID\\_1 & NAME\\_1 & ID\\_2 & NAME\\_2 & ID\\_3 & NAME\\_3 & TYPE\\_3 & ... & AreaHaS & AreaHaM & ProdSum & ProdMean & YieldPH & area & AreaPr & ProdHa & logArea & logProd\\\\\n",
       "  & <fct> & <fct> & <fct> & <fct> & <fct> & <fct> & <fct> & <fct> & <fct> & <fct> & ... & <fct> & <fct> & <fct> & <fct> & <fct> & <dbl> & <dbl> & <dbl> & <dbl> & <dbl>\\\\\n",
       "\\hline\n",
       "\t0 & 49 & CHN & China & 1 & Anhui & 1 & Anqing & 1 & Anqing    & XiÃ njÃ­shÃ¬ & ... & 19.9798486232758 & 3.32997477054596  & 31.9677577018738 & 5.32795961697896 & 1.60000002384186 &  458885245 & 0.0004353997 & 0.0006966395 & -7.739246 & -7.269243\\\\\n",
       "\t1 & 49 & CHN & China & 1 & Anhui & 1 & Anqing & 2 & Huaining  & XiÃ n        & ... & 75.8920187652111 & 3.16216744855046  & 121.427231490612 & 5.0594679787755  & 1.60000002384186 & 1611724621 & 0.0004708746 & 0.0007533994 & -7.660919 & -7.190915\\\\\n",
       "\t2 & 49 & CHN & China & 1 & Anhui & 1 & Anqing & 3 & Qianshan  & XiÃ n        & ... & 40.9308110401034 & 1.7796004800045   & 65.4892988801003 & 2.84736082087392 & 1.60000002384186 & 1711132484 & 0.0002392031 & 0.0003827249 & -8.338198 & -7.868194\\\\\n",
       "\t3 & 49 & CHN & China & 1 & Anhui & 1 & Anqing & 4 & Susong    & XiÃ n        & ... & 31.2180165797472 & 1.07648333033611  & 49.9488275945187 & 1.72237336532823 & 1.48965519461138 & 2354233624 & 0.0001326037 & 0.0002121660 & -8.928145 & -8.458142\\\\\n",
       "\t4 & 49 & CHN & China & 1 & Anhui & 1 & Anqing & 5 & Taihu     & XiÃ n        & ... & 52.5311418622732 & 1.94559784675086  & 84.0498283207417 & 3.11295660447191 & 1.60000002384186 & 2025878814 & 0.0002593005 & 0.0004148808 & -8.257523 & -7.787519\\\\\n",
       "\t5 & 49 & CHN & China & 1 & Anhui & 1 & Anqing & 6 & Tongcheng & XiÃ njÃ­shÃ¬ & ... & 18.6689179092646 & 0.811692083011503 & 29.8702690713108 & 1.29870735092655 & 1.53043480541395 & 1647492859 & 0.0001133171 & 0.0001813074 & -9.085320 & -8.615316\\\\\n",
       "\\end{tabular}\n"
      ],
      "text/markdown": [
       "\n",
       "A data.frame: 6 × 36\n",
       "\n",
       "| <!--/--> | ID_0 &lt;fct&gt; | ISO &lt;fct&gt; | NAME_0 &lt;fct&gt; | ID_1 &lt;fct&gt; | NAME_1 &lt;fct&gt; | ID_2 &lt;fct&gt; | NAME_2 &lt;fct&gt; | ID_3 &lt;fct&gt; | NAME_3 &lt;fct&gt; | TYPE_3 &lt;fct&gt; | ... ... | AreaHaS &lt;fct&gt; | AreaHaM &lt;fct&gt; | ProdSum &lt;fct&gt; | ProdMean &lt;fct&gt; | YieldPH &lt;fct&gt; | area &lt;dbl&gt; | AreaPr &lt;dbl&gt; | ProdHa &lt;dbl&gt; | logArea &lt;dbl&gt; | logProd &lt;dbl&gt; |\n",
       "|---|---|---|---|---|---|---|---|---|---|---|---|---|---|---|---|---|---|---|---|---|---|\n",
       "| 0 | 49 | CHN | China | 1 | Anhui | 1 | Anqing | 1 | Anqing    | XiÃ njÃ­shÃ¬ | ... | 19.9798486232758 | 3.32997477054596  | 31.9677577018738 | 5.32795961697896 | 1.60000002384186 |  458885245 | 0.0004353997 | 0.0006966395 | -7.739246 | -7.269243 |\n",
       "| 1 | 49 | CHN | China | 1 | Anhui | 1 | Anqing | 2 | Huaining  | XiÃ n        | ... | 75.8920187652111 | 3.16216744855046  | 121.427231490612 | 5.0594679787755  | 1.60000002384186 | 1611724621 | 0.0004708746 | 0.0007533994 | -7.660919 | -7.190915 |\n",
       "| 2 | 49 | CHN | China | 1 | Anhui | 1 | Anqing | 3 | Qianshan  | XiÃ n        | ... | 40.9308110401034 | 1.7796004800045   | 65.4892988801003 | 2.84736082087392 | 1.60000002384186 | 1711132484 | 0.0002392031 | 0.0003827249 | -8.338198 | -7.868194 |\n",
       "| 3 | 49 | CHN | China | 1 | Anhui | 1 | Anqing | 4 | Susong    | XiÃ n        | ... | 31.2180165797472 | 1.07648333033611  | 49.9488275945187 | 1.72237336532823 | 1.48965519461138 | 2354233624 | 0.0001326037 | 0.0002121660 | -8.928145 | -8.458142 |\n",
       "| 4 | 49 | CHN | China | 1 | Anhui | 1 | Anqing | 5 | Taihu     | XiÃ n        | ... | 52.5311418622732 | 1.94559784675086  | 84.0498283207417 | 3.11295660447191 | 1.60000002384186 | 2025878814 | 0.0002593005 | 0.0004148808 | -8.257523 | -7.787519 |\n",
       "| 5 | 49 | CHN | China | 1 | Anhui | 1 | Anqing | 6 | Tongcheng | XiÃ njÃ­shÃ¬ | ... | 18.6689179092646 | 0.811692083011503 | 29.8702690713108 | 1.29870735092655 | 1.53043480541395 | 1647492859 | 0.0001133171 | 0.0001813074 | -9.085320 | -8.615316 |\n",
       "\n"
      ],
      "text/plain": [
       "  ID_0 ISO NAME_0 ID_1 NAME_1 ID_2 NAME_2 ID_3 NAME_3    TYPE_3       ...\n",
       "0 49   CHN China  1    Anhui  1    Anqing 1    Anqing    XiÃ njÃ­shÃ¬ ...\n",
       "1 49   CHN China  1    Anhui  1    Anqing 2    Huaining  XiÃ n        ...\n",
       "2 49   CHN China  1    Anhui  1    Anqing 3    Qianshan  XiÃ n        ...\n",
       "3 49   CHN China  1    Anhui  1    Anqing 4    Susong    XiÃ n        ...\n",
       "4 49   CHN China  1    Anhui  1    Anqing 5    Taihu     XiÃ n        ...\n",
       "5 49   CHN China  1    Anhui  1    Anqing 6    Tongcheng XiÃ njÃ­shÃ¬ ...\n",
       "  AreaHaS          AreaHaM           ProdSum          ProdMean        \n",
       "0 19.9798486232758 3.32997477054596  31.9677577018738 5.32795961697896\n",
       "1 75.8920187652111 3.16216744855046  121.427231490612 5.0594679787755 \n",
       "2 40.9308110401034 1.7796004800045   65.4892988801003 2.84736082087392\n",
       "3 31.2180165797472 1.07648333033611  49.9488275945187 1.72237336532823\n",
       "4 52.5311418622732 1.94559784675086  84.0498283207417 3.11295660447191\n",
       "5 18.6689179092646 0.811692083011503 29.8702690713108 1.29870735092655\n",
       "  YieldPH          area       AreaPr       ProdHa       logArea   logProd  \n",
       "0 1.60000002384186  458885245 0.0004353997 0.0006966395 -7.739246 -7.269243\n",
       "1 1.60000002384186 1611724621 0.0004708746 0.0007533994 -7.660919 -7.190915\n",
       "2 1.60000002384186 1711132484 0.0002392031 0.0003827249 -8.338198 -7.868194\n",
       "3 1.48965519461138 2354233624 0.0001326037 0.0002121660 -8.928145 -8.458142\n",
       "4 1.60000002384186 2025878814 0.0002593005 0.0004148808 -8.257523 -7.787519\n",
       "5 1.53043480541395 1647492859 0.0001133171 0.0001813074 -9.085320 -8.615316"
      ]
     },
     "metadata": {},
     "output_type": "display_data"
    }
   ],
   "source": [
    "head(china)"
   ]
  },
  {
   "cell_type": "code",
   "execution_count": 11,
   "metadata": {},
   "outputs": [
    {
     "data": {
      "text/html": [
       "<ol class=list-inline>\n",
       "\t<li>'ID_0'</li>\n",
       "\t<li>'ISO'</li>\n",
       "\t<li>'NAME_0'</li>\n",
       "\t<li>'ID_1'</li>\n",
       "\t<li>'NAME_1'</li>\n",
       "\t<li>'ID_2'</li>\n",
       "\t<li>'NAME_2'</li>\n",
       "\t<li>'ID_3'</li>\n",
       "\t<li>'NAME_3'</li>\n",
       "\t<li>'TYPE_3'</li>\n",
       "\t<li>'ENGTYPE_3'</li>\n",
       "\t<li>'NL_NAME_3'</li>\n",
       "\t<li>'VARNAME_3'</li>\n",
       "\t<li>'BIO10'</li>\n",
       "\t<li>'BIO17'</li>\n",
       "\t<li>'BIO4'</li>\n",
       "\t<li>'BIO9'</li>\n",
       "\t<li>'npp'</li>\n",
       "\t<li>'BIO10_sd'</li>\n",
       "\t<li>'BIO17_sd'</li>\n",
       "\t<li>'BIO4_sd'</li>\n",
       "\t<li>'BIO9_sd'</li>\n",
       "\t<li>'npp_sd'</li>\n",
       "\t<li>'AreaDQ'</li>\n",
       "\t<li>'YieldDQ'</li>\n",
       "\t<li>'AreaFr'</li>\n",
       "\t<li>'AreaHaS'</li>\n",
       "\t<li>'AreaHaM'</li>\n",
       "\t<li>'ProdSum'</li>\n",
       "\t<li>'ProdMean'</li>\n",
       "\t<li>'YieldPH'</li>\n",
       "\t<li>'area'</li>\n",
       "\t<li>'AreaPr'</li>\n",
       "\t<li>'ProdHa'</li>\n",
       "\t<li>'logArea'</li>\n",
       "\t<li>'logProd'</li>\n",
       "</ol>\n"
      ],
      "text/latex": [
       "\\begin{enumerate*}\n",
       "\\item 'ID\\_0'\n",
       "\\item 'ISO'\n",
       "\\item 'NAME\\_0'\n",
       "\\item 'ID\\_1'\n",
       "\\item 'NAME\\_1'\n",
       "\\item 'ID\\_2'\n",
       "\\item 'NAME\\_2'\n",
       "\\item 'ID\\_3'\n",
       "\\item 'NAME\\_3'\n",
       "\\item 'TYPE\\_3'\n",
       "\\item 'ENGTYPE\\_3'\n",
       "\\item 'NL\\_NAME\\_3'\n",
       "\\item 'VARNAME\\_3'\n",
       "\\item 'BIO10'\n",
       "\\item 'BIO17'\n",
       "\\item 'BIO4'\n",
       "\\item 'BIO9'\n",
       "\\item 'npp'\n",
       "\\item 'BIO10\\_sd'\n",
       "\\item 'BIO17\\_sd'\n",
       "\\item 'BIO4\\_sd'\n",
       "\\item 'BIO9\\_sd'\n",
       "\\item 'npp\\_sd'\n",
       "\\item 'AreaDQ'\n",
       "\\item 'YieldDQ'\n",
       "\\item 'AreaFr'\n",
       "\\item 'AreaHaS'\n",
       "\\item 'AreaHaM'\n",
       "\\item 'ProdSum'\n",
       "\\item 'ProdMean'\n",
       "\\item 'YieldPH'\n",
       "\\item 'area'\n",
       "\\item 'AreaPr'\n",
       "\\item 'ProdHa'\n",
       "\\item 'logArea'\n",
       "\\item 'logProd'\n",
       "\\end{enumerate*}\n"
      ],
      "text/markdown": [
       "1. 'ID_0'\n",
       "2. 'ISO'\n",
       "3. 'NAME_0'\n",
       "4. 'ID_1'\n",
       "5. 'NAME_1'\n",
       "6. 'ID_2'\n",
       "7. 'NAME_2'\n",
       "8. 'ID_3'\n",
       "9. 'NAME_3'\n",
       "10. 'TYPE_3'\n",
       "11. 'ENGTYPE_3'\n",
       "12. 'NL_NAME_3'\n",
       "13. 'VARNAME_3'\n",
       "14. 'BIO10'\n",
       "15. 'BIO17'\n",
       "16. 'BIO4'\n",
       "17. 'BIO9'\n",
       "18. 'npp'\n",
       "19. 'BIO10_sd'\n",
       "20. 'BIO17_sd'\n",
       "21. 'BIO4_sd'\n",
       "22. 'BIO9_sd'\n",
       "23. 'npp_sd'\n",
       "24. 'AreaDQ'\n",
       "25. 'YieldDQ'\n",
       "26. 'AreaFr'\n",
       "27. 'AreaHaS'\n",
       "28. 'AreaHaM'\n",
       "29. 'ProdSum'\n",
       "30. 'ProdMean'\n",
       "31. 'YieldPH'\n",
       "32. 'area'\n",
       "33. 'AreaPr'\n",
       "34. 'ProdHa'\n",
       "35. 'logArea'\n",
       "36. 'logProd'\n",
       "\n",
       "\n"
      ],
      "text/plain": [
       " [1] \"ID_0\"      \"ISO\"       \"NAME_0\"    \"ID_1\"      \"NAME_1\"    \"ID_2\"     \n",
       " [7] \"NAME_2\"    \"ID_3\"      \"NAME_3\"    \"TYPE_3\"    \"ENGTYPE_3\" \"NL_NAME_3\"\n",
       "[13] \"VARNAME_3\" \"BIO10\"     \"BIO17\"     \"BIO4\"      \"BIO9\"      \"npp\"      \n",
       "[19] \"BIO10_sd\"  \"BIO17_sd\"  \"BIO4_sd\"   \"BIO9_sd\"   \"npp_sd\"    \"AreaDQ\"   \n",
       "[25] \"YieldDQ\"   \"AreaFr\"    \"AreaHaS\"   \"AreaHaM\"   \"ProdSum\"   \"ProdMean\" \n",
       "[31] \"YieldPH\"   \"area\"      \"AreaPr\"    \"ProdHa\"    \"logArea\"   \"logProd\"  "
      ]
     },
     "metadata": {},
     "output_type": "display_data"
    }
   ],
   "source": [
    "colnames(china@data)"
   ]
  },
  {
   "cell_type": "code",
   "execution_count": 16,
   "metadata": {},
   "outputs": [
    {
     "data": {
      "text/html": [
       "<dl class=dl-horizontal>\n",
       "\t<dt>0</dt>\n",
       "\t\t<dd>100</dd>\n",
       "\t<dt>0.25</dt>\n",
       "\t\t<dd>2276</dd>\n",
       "\t<dt>0.5</dt>\n",
       "\t\t<dd>33</dd>\n",
       "</dl>\n"
      ],
      "text/latex": [
       "\\begin{description*}\n",
       "\\item[0] 100\n",
       "\\item[0.25] 2276\n",
       "\\item[0.5] 33\n",
       "\\end{description*}\n"
      ],
      "text/markdown": [
       "0\n",
       ":   1000.25\n",
       ":   22760.5\n",
       ":   33\n",
       "\n"
      ],
      "text/plain": [
       "   0 0.25  0.5 \n",
       " 100 2276   33 "
      ]
     },
     "metadata": {},
     "output_type": "display_data"
    }
   ],
   "source": [
    "summary(china@data$YieldDQ)"
   ]
  },
  {
   "cell_type": "code",
   "execution_count": 15,
   "metadata": {},
   "outputs": [
    {
     "data": {
      "text/html": [
       "2409"
      ],
      "text/latex": [
       "2409"
      ],
      "text/markdown": [
       "2409"
      ],
      "text/plain": [
       "[1] 2409"
      ]
     },
     "metadata": {},
     "output_type": "display_data"
    }
   ],
   "source": [
    "2152+252+5"
   ]
  },
  {
   "cell_type": "code",
   "execution_count": null,
   "metadata": {},
   "outputs": [],
   "source": []
  }
 ],
 "metadata": {
  "anaconda-cloud": {},
  "kernelspec": {
   "display_name": "R",
   "language": "R",
   "name": "ir"
  },
  "language_info": {
   "codemirror_mode": "r",
   "file_extension": ".r",
   "mimetype": "text/x-r-source",
   "name": "R",
   "pygments_lexer": "r",
   "version": "4.0.3"
  }
 },
 "nbformat": 4,
 "nbformat_minor": 1
}
