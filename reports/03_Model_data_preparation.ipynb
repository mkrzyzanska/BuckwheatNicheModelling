{
 "cells": [
  {
   "cell_type": "markdown",
   "metadata": {},
   "source": [
    "# Model data preparation\n",
    "\n",
    "This code transform the data into a format from which input data from stan model can be easily extracted. First it calculates aggregate present environmental variables and data on buckwheat production for each county in China, and attaches them as metadata to the spatial polygon data frame with Chinese counties. Then it also caluclates and saves the adjacency matrix for Chinese counties to be used in iCAR model\n",
    "\n",
    "## Set up working space and paths"
   ]
  },
  {
   "cell_type": "code",
   "execution_count": 27,
   "metadata": {},
   "outputs": [
    {
     "name": "stderr",
     "output_type": "stream",
     "text": [
      "Loading required package: geosphere\n",
      "\n"
     ]
    },
    {
     "ename": "ERROR",
     "evalue": "Error in library(spdep): there is no package called 'spdep'\n",
     "output_type": "error",
     "traceback": [
      "Error in library(spdep): there is no package called 'spdep'\nTraceback:\n",
      "1. library(spdep)",
      "2. stop(txt, domain = NA)"
     ]
    }
   ],
   "source": [
    "### This will created the shapefile, with production data and environmental variables in an appropriate format\n",
    "### for the counties of China\n",
    "### Set the working directory:\n",
    "setwd(\"G:\\\\My Drive\\\\SDM_China\\\\\")\n",
    "### Load the libraries\n",
    "library(rgdal)\n",
    "library(raster)\n",
    "### (For rbindlist)\n",
    "library(data.table)\n",
    "### To calculate the area of the polygon\n",
    "require(geosphere)\n",
    "### Calculates the adjacency matrix:\n",
    "library(spdep)"
   ]
  },
  {
   "cell_type": "code",
   "execution_count": 2,
   "metadata": {
    "collapsed": true
   },
   "outputs": [],
   "source": [
    "### Set the paths for loading data\n",
    "# Masked data on buckwheat production in China (masked to keep the data consistent:\n",
    "path2prd<-\"data\\\\buckwheat_production\\\\masked\\\\\"\n",
    "### Environmental variables (cropped, because the border cells will have a consistent quality:\n",
    "path2env <-\"data\\\\environmental\\\\present\\\\cropped\\\\\"\n",
    "### Get path to past environmental data:\n",
    "path2past <- \"data\\\\environmental\\\\past\\\\\"\n",
    "###### Set the paths for outputs:\n",
    "path2stats<- \"outputs\\\\03_01_Env_Mean_and_SD.csv\"\n",
    "path2adjacency <- \"data\\\\china_data\\\\adjacency.csv\""
   ]
  },
  {
   "cell_type": "code",
   "execution_count": 4,
   "metadata": {},
   "outputs": [
    {
     "name": "stdout",
     "output_type": "stream",
     "text": [
      "OGR data source with driver: ESRI Shapefile \n",
      "Source: \"G:\\My Drive\\SDM_China\\raw_data\\CHN_adm\", layer: \"CHN_adm3\"\n",
      "with 2409 features\n",
      "It has 13 fields\n",
      "Integer64 fields read as strings:  ID_0 ID_1 ID_2 ID_3 \n"
     ]
    }
   ],
   "source": [
    "### Loading data:\n",
    "### Get vector map of Chinses counties\n",
    "china<-readOGR(dsn = \"raw_data\\\\CHN_adm\", layer = \"CHN_adm3\")\n",
    "### Get small dataset of China:\n",
    "prd_layers<-list.files(path=path2prd,pattern='tif$',full.names=TRUE)\n",
    "layers<-list.files(path=path2env,pattern='tif$',full.names=TRUE)\n",
    "### Get only the environmental layers that are not autocorrelated:\n",
    "env_layers<-subset(layers,lapply(layers, grepl,pattern=\"BIO4|BIO9|BIO10|BIO17|npp\")==TRUE)\n",
    "prd<-stack(prd_layers)\n",
    "env<-stack(env_layers)"
   ]
  },
  {
   "cell_type": "markdown",
   "metadata": {},
   "source": [
    "## Extract the environmental data for counties"
   ]
  },
  {
   "cell_type": "code",
   "execution_count": 5,
   "metadata": {
    "collapsed": true
   },
   "outputs": [],
   "source": [
    "# Extract raster values of the cells for environmental variables for each county in China\n",
    "r.vals <- extract(env,china,weights=TRUE,normalizeWeights=TRUE)"
   ]
  },
  {
   "cell_type": "code",
   "execution_count": 6,
   "metadata": {
    "collapsed": true
   },
   "outputs": [],
   "source": [
    "# Calculate the mean value of each of the environmental variables for each county in China\n",
    "# and attach it as attribute data for the spatial polygons data frame:\n",
    "#r.means<-lapply(r.vals, colMeans, na.rm=TRUE)\n",
    "## Calculate the weighted mean:\n",
    "r.means<-lapply(r.vals,function(x){apply(rbind(x[,c(1:ncol(x)-1)]),2,weighted.mean,w=x[,ncol(x)],na.rm=TRUE)})\n",
    "r.mean<-lapply(r.means, rbind)\n",
    "r.mean<-lapply(r.mean,as.data.frame)\n",
    "r.mean<- rbindlist(r.mean)"
   ]
  },
  {
   "cell_type": "code",
   "execution_count": 7,
   "metadata": {
    "collapsed": true
   },
   "outputs": [],
   "source": [
    "# Get the counties with missing values, because they don't overlap with eny of the raster cells:\n",
    "sums<-rowSums(r.mean)\n",
    "mc<-which(is.na(sums))"
   ]
  },
  {
   "cell_type": "code",
   "execution_count": 8,
   "metadata": {
    "collapsed": true
   },
   "outputs": [],
   "source": [
    "# Create a raster stack of environmental variables with a buffer zone around the coast\n",
    "# to include the counties with missing values\n",
    "buffer <- stack()\n",
    "for (i in 1:length(names(env))){\n",
    "    focal<-focal(env[[i]],w=matrix(1,3,3), fun=mean,na.rm=TRUE,NAonly=TRUE)\n",
    "    names(focal)<-names(env[[i]])\n",
    "    buffer<-stack(buffer,focal)\n",
    "}"
   ]
  },
  {
   "cell_type": "code",
   "execution_count": 9,
   "metadata": {
    "collapsed": true
   },
   "outputs": [],
   "source": [
    "# Extract the values from the buffer zone:\n",
    "buffer.vals <- extract(buffer,china[mc,],weights=TRUE,normalizeWeights=TRUE)\n",
    "buffer.means<-lapply(buffer.vals,function(x){apply(rbind(x[,c(1:ncol(x)-1)]),2,weighted.mean,w=x[,ncol(x)],na.rm=TRUE)})\n",
    "buffer.mean<-lapply(buffer.means, rbind)\n",
    "buffer.mean<-lapply(buffer.mean,as.data.frame)\n",
    "buffer.mean<- rbindlist(buffer.mean)"
   ]
  },
  {
   "cell_type": "code",
   "execution_count": 10,
   "metadata": {
    "collapsed": true
   },
   "outputs": [],
   "source": [
    "# Substitute newly calculated values for NAs\n",
    "r.mean[mc,] <-buffer.mean"
   ]
  },
  {
   "cell_type": "code",
   "execution_count": 11,
   "metadata": {
    "collapsed": true
   },
   "outputs": [],
   "source": [
    "china@data <- data.frame(china@data, r.mean)"
   ]
  },
  {
   "cell_type": "markdown",
   "metadata": {},
   "source": [
    "## Standardise environmental variables"
   ]
  },
  {
   "cell_type": "code",
   "execution_count": 12,
   "metadata": {
    "collapsed": true
   },
   "outputs": [],
   "source": [
    "### Get the names of the environmental variables\n",
    "env_vars<-names(env)"
   ]
  },
  {
   "cell_type": "code",
   "execution_count": 14,
   "metadata": {
    "collapsed": true
   },
   "outputs": [],
   "source": [
    "#### Get the mean and standard deviation of all the bioclimatic variables that will be used in a model:\n",
    "stats<-lapply(env_vars,function(x){\n",
    "past_layers<-list.files(path=paste(path2past,x,\"\\\\masked\\\\\",sep=\"\"),pattern='tif$',full.names=TRUE)\n",
    "var_stack <- stack(past_layers,subset(env,x))\n",
    "vals<-as.vector(values(var_stack))\n",
    "mean<-mean(vals, na.rm=TRUE)\n",
    "sd<-sd(vals, na.rm=TRUE)\n",
    "return(as.data.frame(cbind(mean,sd)))})\n",
    "\n",
    "# Get the mean and standard deviations of the environmental variables into a dataframe\n",
    "stats<-rbindlist(stats)\n",
    "# Name the rows according to the names of the environmental variables\n",
    "rownames(stats) <- env_vars\n",
    "# Save the mean and standard deviation used for scaling and centering of the variables:\n",
    "write.csv(stats, file=path2stats)"
   ]
  },
  {
   "cell_type": "code",
   "execution_count": 15,
   "metadata": {
    "collapsed": true
   },
   "outputs": [],
   "source": [
    "### Calculate standardised values for all columns, using the obtained mean and standard deviation\n",
    "new_columns<-scale(china@data[,env_vars],center=stats$mean,scale=stats$sd)\n",
    "colnames(new_columns)<-paste(env_vars,\"sd\",sep=\"_\")"
   ]
  },
  {
   "cell_type": "code",
   "execution_count": 16,
   "metadata": {
    "collapsed": true
   },
   "outputs": [],
   "source": [
    "### Add standardised columns to the spatial polygons data frame:\n",
    "china@data <- data.frame(china@data,new_columns)"
   ]
  },
  {
   "cell_type": "markdown",
   "metadata": {},
   "source": [
    "## Extract values for production"
   ]
  },
  {
   "cell_type": "code",
   "execution_count": 18,
   "metadata": {
    "collapsed": true
   },
   "outputs": [],
   "source": [
    "## Extract raster values of the cells with data on buckwheat production for each county in China\n",
    " r.vals <- extract(prd,china )"
   ]
  },
  {
   "cell_type": "code",
   "execution_count": 19,
   "metadata": {
    "collapsed": true
   },
   "outputs": [],
   "source": [
    "## Calculate either mean values, or sums for the variables related to buckwheat production for each county\n",
    "r.mean<-lapply(r.vals,function(x){\n",
    "HarvestedAreaDataQuality<- names(sort(table(x[,1]),decreasing=TRUE))[1]\n",
    "YieldDataQuality<- names(sort(table(x[,2]),decreasing=TRUE))[1]\n",
    "HarvestAreaFraction<-mean(x[,3],na.rm=TRUE)\n",
    "HarvestedAreasHectaresSum<-sum(x[,4],na.rm=TRUE)\n",
    "HarvestedAreasHectaresMean<-mean(x[,4],na.rm=TRUE)\n",
    "ProductionSum<-sum(x[,5],na.rm=TRUE)\n",
    "ProductionMean<-mean(x[,5],na.rm=TRUE)\n",
    "YieldPerHectare<-mean(x[,6],na.rm=TRUE)\n",
    "df<-cbind(HarvestedAreaDataQuality,YieldDataQuality,HarvestAreaFraction,HarvestedAreasHectaresSum,HarvestedAreasHectaresMean,ProductionSum,ProductionMean,YieldPerHectare)\n",
    "return(df)})"
   ]
  },
  {
   "cell_type": "code",
   "execution_count": 20,
   "metadata": {
    "collapsed": true
   },
   "outputs": [],
   "source": [
    "## Turn the extracted values into one data frame\n",
    "r.mean<-lapply(r.mean, rbind)\n",
    "r.mean<-lapply(r.mean,as.data.frame)\n",
    "r.mean<- rbindlist(r.mean)\n",
    "### Change colnames to shorter onse before attaching them to the spatial polygons datafram, so that they are not cut when \n",
    "### writing it to the file\n",
    "colnames(r.mean)<-c(\"AreaDQ\",\"YieldDQ\",\"AreaFr\",\"AreaHaS\",\"AreaHaM\",\"ProdSum\",\"ProdMean\",\"YieldPH\")\n",
    "### Attach the dataframe to the attributes of the spatial polygons\n",
    "china@data <- data.frame(china@data, r.mean)"
   ]
  },
  {
   "cell_type": "code",
   "execution_count": 28,
   "metadata": {},
   "outputs": [],
   "source": [
    "### Calculate the area of each \n",
    "china@data$area<-areaPolygon(china)"
   ]
  },
  {
   "cell_type": "code",
   "execution_count": 29,
   "metadata": {
    "collapsed": true
   },
   "outputs": [],
   "source": [
    "### Get the prortion of area which is cultivated, by dividing the cultivated area in hectares for the county, by the area of \n",
    "### the county. Area is given in square meters, and cultivated area in hectares, so multiply by 10 000.\n",
    "china@data$AreaPr<-(as.numeric(as.character(china@data$AreaHaS))/china@data$area)*10000\n",
    "\n",
    "### Get the average produciont of buckwheat in tonnes, per hectar of a county\n",
    "china@data$ProdHa<-(as.numeric(as.character(china@data$ProdSum))/china@data$area)*10000"
   ]
  },
  {
   "cell_type": "code",
   "execution_count": 30,
   "metadata": {},
   "outputs": [
    {
     "data": {
      "text/html": [
       "2.62706526712471e-10"
      ],
      "text/latex": [
       "2.62706526712471e-10"
      ],
      "text/markdown": [
       "2.62706526712471e-10"
      ],
      "text/plain": [
       "[1] 2.627065e-10"
      ]
     },
     "metadata": {},
     "output_type": "display_data"
    },
    {
     "data": {
      "text/html": [
       "4.20330440410952e-10"
      ],
      "text/latex": [
       "4.20330440410952e-10"
      ],
      "text/markdown": [
       "4.20330440410952e-10"
      ],
      "text/plain": [
       "[1] 4.203304e-10"
      ]
     },
     "metadata": {},
     "output_type": "display_data"
    }
   ],
   "source": [
    "### Get the smallest possible values of AreaPr and Prod Ha:\n",
    "sort(unique(china@data$AreaPr))[2]\n",
    "sort(unique(china@data$ProdHa))[2]"
   ]
  },
  {
   "cell_type": "code",
   "execution_count": 31,
   "metadata": {
    "collapsed": true
   },
   "outputs": [],
   "source": [
    "### Get the logarithms for the proportion of the area of the county where buckwheat is cultivatad \n",
    "### and for average production in tonnes per hectare in a country.\n",
    "### To transform into a logarithm add a small value \n",
    "### (a magnitude smaller than the second smallest value in the column)\n",
    "### to all of the numbers to avoind zeros:\n",
    "china@data$logArea <- log(china@data$AreaPr+1e-11 )\n",
    "china@data$logProd <- log(china@data$ProdHa+1e-11)"
   ]
  },
  {
   "cell_type": "code",
   "execution_count": 32,
   "metadata": {
    "collapsed": true
   },
   "outputs": [],
   "source": [
    "### Write the Spatial Polygon data frame to a file:\n",
    "writeOGR(obj=china, dsn=\"data\\\\china_data\", layer=\"china_data\", driver=\"ESRI Shapefile\")"
   ]
  },
  {
   "cell_type": "markdown",
   "metadata": {},
   "source": [
    "## Calculate and save the adjacency matrix"
   ]
  },
  {
   "cell_type": "code",
   "execution_count": null,
   "metadata": {
    "collapsed": true
   },
   "outputs": [],
   "source": [
    "### Calculate the adjacency matrix for the Spatial Polygons Data Frame:\n",
    "\n",
    "#### Now also get the adjacency matrix between the nodes and save it as csv:\n",
    "# Gets the numbe of observations\n",
    "N=nrow(china@data)\n",
    "\n",
    "# Gets the adjacency\n",
    "adj<-poly2nb(china)\n",
    "\n",
    "# Define the nodes as vectors\n",
    "\n",
    "node2 = vector(mode=\"numeric\");\n",
    "node1 = vector(mode=\"numeric\");\n",
    "\n",
    "# Get the values for each node\n",
    "for (i in 1:N){\n",
    "    a<-unlist(adj[i])\n",
    "    a<-a[a>i]\n",
    "    # Add to values of Node 1\n",
    "    n1<-rep(i,length(a))\n",
    "    node1 <-c(node1,n1)\n",
    "    # Add values of Node 2\n",
    "    node2<-c(node2,a)\n",
    "}\n",
    "\n",
    "mat<-cbind(node1, node2)\n",
    "write.csv(mat, file=path2adjacency,row.names = FALSE)"
   ]
  },
  {
   "cell_type": "markdown",
   "metadata": {},
   "source": [
    "## Visualise data"
   ]
  },
  {
   "cell_type": "code",
   "execution_count": null,
   "metadata": {
    "collapsed": true
   },
   "outputs": [],
   "source": [
    "# Finally, visualise some of the data:\n",
    "#spplot(china['BIO_1'] )\n",
    "spplot(china['BIO10'] )\n",
    "spplot(china['logArea'] )"
   ]
  }
 ],
 "metadata": {
  "anaconda-cloud": {},
  "kernelspec": {
   "display_name": "R",
   "language": "R",
   "name": "ir"
  },
  "language_info": {
   "codemirror_mode": "r",
   "file_extension": ".r",
   "mimetype": "text/x-r-source",
   "name": "R",
   "pygments_lexer": "r",
   "version": "3.5.3"
  }
 },
 "nbformat": 4,
 "nbformat_minor": 1
}
