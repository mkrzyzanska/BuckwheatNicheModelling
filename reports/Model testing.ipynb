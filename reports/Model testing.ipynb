{
 "cells": [
  {
   "cell_type": "code",
   "execution_count": 10,
   "metadata": {
    "collapsed": true
   },
   "outputs": [],
   "source": [
    "library(rstan)\n",
    "setwd(\"G:\\\\My Drive\\\\SDM_China\\\\stan_server\")"
   ]
  },
  {
   "cell_type": "code",
   "execution_count": 15,
   "metadata": {},
   "outputs": [
    {
     "ename": "ERROR",
     "evalue": "Error in readRDS(\"buckwheat_simple_log_BIO9_2..rds\"): cannot read workspace version 3 written by R 3.6.1; need R 3.5.0 or newer\n",
     "output_type": "error",
     "traceback": [
      "Error in readRDS(\"buckwheat_simple_log_BIO9_2..rds\"): cannot read workspace version 3 written by R 3.6.1; need R 3.5.0 or newer\nTraceback:\n",
      "1. readRDS(\"buckwheat_simple_log_BIO9_2..rds\")"
     ]
    }
   ],
   "source": [
    "fit <- readRDS(\"buckwheat_simple_log_BIO9_2_BIO18_priors.rds\")"
   ]
  },
  {
   "cell_type": "code",
   "execution_count": 16,
   "metadata": {},
   "outputs": [
    {
     "ename": "ERROR",
     "evalue": "Error in pairs(fit): object 'fit' not found\n",
     "output_type": "error",
     "traceback": [
      "Error in pairs(fit): object 'fit' not found\nTraceback:\n",
      "1. pairs(fit)"
     ]
    }
   ],
   "source": [
    "pairs(fit)\n",
    "posterior <- rstan::extract(fit)\n",
    "str(posterior)\n",
    "plot(posterior$alpha, type = \"l\")\n",
    "plot(posterior$beta, type = \"l\")\n",
    "plot(posterior$beta2, type = \"l\")\n",
    "plot(posterior$sigma, type = \"l\")"
   ]
  },
  {
   "cell_type": "code",
   "execution_count": null,
   "metadata": {
    "collapsed": true
   },
   "outputs": [],
   "source": [
    "china@data$predictions<-mean(posterior$alpha)+ mean(posterior$beta1)*china@data$BIO_09 + mean(posterior$beta2)*(china@data$BIO_09^2)+mean(posterior$beta3)*china@data$BIO_18"
   ]
  },
  {
   "cell_type": "code",
   "execution_count": null,
   "metadata": {
    "collapsed": true
   },
   "outputs": [],
   "source": [
    "china@data$predictions<-mean(posterior$alpha)+ mean(posterior$beta1)*china@data$BIO_09_scaled + mean(posterior$beta2)*(china@data$BIO_09_scaled^2)+mean(posterior$beta3)*china@data$BIO_18"
   ]
  },
  {
   "cell_type": "markdown",
   "metadata": {},
   "source": [
    "# Writing a more complicated model\n",
    "\n",
    "mname<-\"buckwheat_simple_log_BIO9_2_BIO18_interaction_priors\""
   ]
  },
  {
   "cell_type": "code",
   "execution_count": null,
   "metadata": {
    "collapsed": true
   },
   "outputs": [],
   "source": [
    "### Define Stan model\n",
    "write(\"// Stan model for simple linear regression\n",
    "\n",
    "data {\n",
    " int < lower = 1 > N; // Sample size is an integer with the lowest value of 1 (i.e. positive)\n",
    " vector[N] x1; // Predictor is a vector of the size of sample size\n",
    " vector[N] x2; // Predictor is a vector of the size of sample size\n",
    " vector[N] y; // Outcome is a vector of a size of sample size\n",
    "}\n",
    "\n",
    "parameters {\n",
    " real alpha; // Intercept is an unconstrained continous value\n",
    " real beta1; // Slope (regression coefficients) is an unconstrained continous value\n",
    " real beta2; // Slope (regression coefficients) is an unconstrained continous value\n",
    " real beta3; // Slope (regression coefficients) is an unconstrained continous value\n",
    " real beta4; // Slope (regression coefficients) is an unconstrained continous value\n",
    " real < lower = 0 > sigma; // Error SD is an unconstrained positive continous valeu\n",
    "}\n",
    "\n",
    "model {\n",
    " log (y) ~ normal(alpha + x1 * beta1 + square(x1) * beta2 + x2 * beta3 + x1*x2 *beta4, sigma); //this seem to declare the model\n",
    " beta1 ~ normal(0, 1);\n",
    " beta2 ~ normal(0, 1);\n",
    " beta3 ~ normal(0, 1);\n",
    " beta4 ~ normal(0, 1);\n",
    "}\n",
    "generated quantities {\n",
    "} // The posterior predictive distribution\",\n",
    "\n",
    "paste(\"stan_models/\",mname,\".stan\",sep=\"\"))"
   ]
  },
  {
   "cell_type": "code",
   "execution_count": null,
   "metadata": {
    "collapsed": true
   },
   "outputs": [],
   "source": [
    "x1<-china@data$BIO_09\n",
    "x2<-china@data$BIO_18\n",
    "x3<-china@data$BIO_04\n",
    "x4<-china@data$BIO_10\n",
    "x5<-china@data$BIO_17\n",
    "x6<-china@data$BIO_02\n",
    "y<-china@data$HrvstAF\n",
    "y[y == 0] <- 1.0e-14"
   ]
  },
  {
   "cell_type": "code",
   "execution_count": null,
   "metadata": {
    "collapsed": true
   },
   "outputs": [],
   "source": [
    "stan_data <- list(N = N, x1 = x1, y = y,x2=x2)"
   ]
  },
  {
   "cell_type": "code",
   "execution_count": null,
   "metadata": {
    "collapsed": true
   },
   "outputs": [],
   "source": [
    "stan_model<-paste(\"stan_models/\",mname,\".stan\",sep=\"\")"
   ]
  },
  {
   "cell_type": "code",
   "execution_count": null,
   "metadata": {
    "collapsed": true
   },
   "outputs": [],
   "source": [
    "fit <- stan(file = stan_model, data = stan_data, warmup = 500, iter = 2000, chains = 3, cores = 12, thin = 1)"
   ]
  },
  {
   "cell_type": "code",
   "execution_count": null,
   "metadata": {
    "collapsed": true
   },
   "outputs": [],
   "source": [
    "saveRDS(fit, file = paste(\"stan_models/\",mname,\".rds\",sep=\"\"))"
   ]
  },
  {
   "cell_type": "code",
   "execution_count": null,
   "metadata": {
    "collapsed": true
   },
   "outputs": [],
   "source": [
    "fit <- readRDS(paste(\"stan_models/\",mname,\".rds\",sep=\"\"))\n",
    "fit <- readRDS(paste(\"stan_models\\\\\",mname,\".rds\",sep=\"\"))"
   ]
  },
  {
   "cell_type": "code",
   "execution_count": null,
   "metadata": {
    "collapsed": true
   },
   "outputs": [],
   "source": [
    "stan_data <- list(N = N, x1 = x1, y = y,x2=x2,x3=x3,x4=x4,x5=x5,x6=x6)"
   ]
  },
  {
   "cell_type": "code",
   "execution_count": null,
   "metadata": {
    "collapsed": true
   },
   "outputs": [],
   "source": [
    "fit <- readRDS(paste(mname,\".rds\",sep=\"\"))"
   ]
  },
  {
   "cell_type": "code",
   "execution_count": null,
   "metadata": {
    "collapsed": true
   },
   "outputs": [],
   "source": [
    "## Simple linear regression, all variables:\n",
    "\n",
    "mname<-\"buckwheat_simple_log_linear_all\"\n",
    "### Define Stan model\n",
    "write(\"// Stan model for simple linear regression\n",
    "\n",
    "data {\n",
    " int < lower = 1 > N; // Sample size is an integer with the lowest value of 1 (i.e. positive)\n",
    " vector[N] x1; // Predictor is a vector of the size of sample size\n",
    " vector[N] x2; // Predictor is a vector of the size of sample size\n",
    " vector[N] x3; // Predictor is a vector of the size of sample size\n",
    " vector[N] x4; // Predictor is a vector of the size of sample size\n",
    " vector[N] x5; // Predictor is a vector of the size of sample size\n",
    " vector[N] x6; // Predictor is a vector of the size of sample size\n",
    " vector[N] y; // Outcome is a vector of a size of sample size\n",
    "}\n",
    "\n",
    "parameters {\n",
    " real alpha; // Intercept is an unconstrained continous value\n",
    " real beta1; // Slope (regression coefficients) is an unconstrained continous value\n",
    " real beta2; // Slope (regression coefficients) is an unconstrained continous value\n",
    " real beta3; // Slope (regression coefficients) is an unconstrained continous value\n",
    " real beta4; // Slope (regression coefficients) is an unconstrained continous value\n",
    " real beta5; // Slope (regression coefficients) is an unconstrained continous value\n",
    " real beta6; // Slope (regression coefficients) is an unconstrained continous value\n",
    " real < lower = 0 > sigma; // Error SD is an unconstrained positive continous valeu\n",
    "}\n",
    "\n",
    "model {\n",
    " log (y) ~ normal(alpha + x1 * beta1 + x2 * beta2 + x3 * beta3 + x4 * beta4 + x5 * beta5 + x6 * beta6 , sigma); //this seem to declare the model\n",
    " beta1 ~ normal(0, 1);\n",
    " beta2 ~ normal(0, 1);\n",
    " beta3 ~ normal(0, 1);\n",
    " beta4 ~ normal(0, 1);\n",
    " beta5 ~ normal(0, 1);\n",
    " beta6 ~ normal(0, 1);\n",
    "}\n",
    "generated quantities {\n",
    "} // The posterior predictive distribution\",\n",
    "\n",
    "paste(\"stan_models/\",mname,\".stan\",sep=\"\"))"
   ]
  },
  {
   "cell_type": "code",
   "execution_count": null,
   "metadata": {
    "collapsed": true
   },
   "outputs": [],
   "source": [
    "fit <- stan(file = stan_model, data = stan_data, warmup = 1000, iter = 4000, chains = 4, cores = 12, thin = 1)"
   ]
  },
  {
   "cell_type": "code",
   "execution_count": null,
   "metadata": {
    "collapsed": true
   },
   "outputs": [],
   "source": [
    "x1<-scale(china@data$BIO_09)[,1]\n",
    "x2<-scale(china@data$BIO_18)[,1]\n",
    "x3<-scale(china@data$BIO_04)[,1]\n",
    "x4<-scale(china@data$BIO_10)[,1]\n",
    "x5<-scale(china@data$BIO_17)[,1]\n",
    "x6<-scale(china@data$BIO_02)[,1]\n",
    "y<-china@data$HrvstAF\n",
    "y[y == 0] <- 1.0e-14"
   ]
  },
  {
   "cell_type": "code",
   "execution_count": null,
   "metadata": {
    "collapsed": true
   },
   "outputs": [],
   "source": [
    "china@data$predictions<-mean(posterior$alpha)+ mean(posterior$beta1)*china@data$BIO_O9_ + mean(posterior$beta2)*(china@data$BIO_O9_^2)+\n",
    "                                               mean(posterior$beta3)*china@data$BIO_18_ + mean(posterior$beta4)*(china@data$BIO_18_^2)+\n",
    "                                               mean(posterior$beta5)*china@data$BIO_O4_ + mean(posterior$beta6)*(china@data$BIO_O4_^2)+\n",
    "                                               mean(posterior$beta7)*china@data$BIO_10_ + mean(posterior$beta8)*(china@data$BIO_10_^2)+\n",
    "                                               mean(posterior$beta9)*china@data$BIO_17_ + mean(posterior$beta10)*(china@data$BIO_17_^2)+\n",
    "                                               mean(posterior$beta11)*china@data$BIO_O2_ + mean(posterior$beta12)*(china@data$BIO_O2_^2)"
   ]
  },
  {
   "cell_type": "code",
   "execution_count": null,
   "metadata": {
    "collapsed": true
   },
   "outputs": [],
   "source": [
    "mname<-\"buckwheat_simple_log_BIO9_2_BIO18_2_sc_priors\"\n",
    "\n",
    "### Define Stan model\n",
    "write(\"// Stan model for simple linear regression\n",
    "\n",
    "data {\n",
    " int < lower = 1 > N; // Sample size is an integer with the lowest value of 1 (i.e. positive)\n",
    " vector[N] x1; // Predictor is a vector of the size of sample size\n",
    " vector[N] x2; // Predictor is a vector of the size of sample size\n",
    " vector[N] y; // Outcome is a vector of a size of sample size\n",
    "}\n",
    "\n",
    "parameters {\n",
    " real alpha; // Intercept is an unconstrained continous value\n",
    " real beta1; // Slope (regression coefficients) is an unconstrained continous value\n",
    " real beta2; // Slope (regression coefficients) is an unconstrained continous value\n",
    " real beta3; // Slope (regression coefficients) is an unconstrained continous value\n",
    " real beta4; // Slope (regression coefficients) is an unconstrained continous value\n",
    " real < lower = 0 > sigma; // Error SD is an unconstrained positive continous valeu\n",
    "}\n",
    "\n",
    "model {\n",
    " log (y) ~ normal(alpha + x1 * beta1 + square(x1) * beta2 + x2 * beta3 + square(x2) *beta4, sigma); //this seem to declare the model\n",
    " beta1 ~ normal(0, 1);\n",
    " beta2 ~ normal(0, 1);\n",
    " beta3 ~ normal(0, 1);\n",
    " beta4 ~ normal(0, 1);\n",
    "}\n",
    "generated quantities {\n",
    "} // The posterior predictive distribution\",\n",
    "\n",
    "paste(\"stan_models/\",mname,\".stan\",sep=\"\"))"
   ]
  },
  {
   "cell_type": "code",
   "execution_count": null,
   "metadata": {
    "collapsed": true
   },
   "outputs": [],
   "source": [
    "stan_data <- list(N = N, x1 = x1, y = y,x2=x2)"
   ]
  },
  {
   "cell_type": "code",
   "execution_count": null,
   "metadata": {
    "collapsed": true
   },
   "outputs": [],
   "source": [
    "## Simple linear regression, all variables:\n",
    "\n",
    "mname<-\"buckwheat_simple_log_parabolic_all_sc\"\n",
    "### Define Stan model\n",
    "write(\"// Stan model for simple linear regression\n",
    "\n",
    "data {\n",
    " int < lower = 1 > N; // Sample size is an integer with the lowest value of 1 (i.e. positive)\n",
    " vector[N] x1; // Predictor is a vector of the size of sample size\n",
    " vector[N] x2; // Predictor is a vector of the size of sample size\n",
    " vector[N] x3; // Predictor is a vector of the size of sample size\n",
    " vector[N] x4; // Predictor is a vector of the size of sample size\n",
    " vector[N] x5; // Predictor is a vector of the size of sample size\n",
    " vector[N] x6; // Predictor is a vector of the size of sample size\n",
    " vector[N] y; // Outcome is a vector of a size of sample size\n",
    "}\n",
    "\n",
    "parameters {\n",
    " real alpha; // Intercept is an unconstrained continous value\n",
    " real beta1; // Slope (regression coefficients) is an unconstrained continous value\n",
    " real beta2; // Slope (regression coefficients) is an unconstrained continous value\n",
    " real beta3; // Slope (regression coefficients) is an unconstrained continous value\n",
    " real beta4; // Slope (regression coefficients) is an unconstrained continous value\n",
    " real beta5; // Slope (regression coefficients) is an unconstrained continous value\n",
    " real beta6; // Slope (regression coefficients) is an unconstrained continous value\n",
    " real beta7; // Slope (regression coefficients) is an unconstrained continous value\n",
    " real beta8; // Slope (regression coefficients) is an unconstrained continous value\n",
    " real beta9; // Slope (regression coefficients) is an unconstrained continous value\n",
    " real beta10; // Slope (regression coefficients) is an unconstrained continous value\n",
    " real beta11; // Slope (regression coefficients) is an unconstrained continous value\n",
    " real beta12; // Slope (regression coefficients) is an unconstrained continous value\n",
    " real < lower = 0 > sigma; // Error SD is an unconstrained positive continous valeu\n",
    "}\n",
    "\n",
    "model {\n",
    " log (y) ~ normal(alpha + x1 * beta1 + square(x1) * beta2 + x2 * beta3 + square(x2) * beta4 +\n",
    "                          x3 * beta5 + square(x3) * beta6 + x4 * beta7 + square(x4) * beta8 +\n",
    "                          x5 * beta9 + square(x5) * beta10 + x6 * beta11 + square(x6) *beta12, sigma); //this seem to declare the model\n",
    " beta1 ~ normal(0, 1);\n",
    " beta2 ~ normal(0, 1);\n",
    " beta3 ~ normal(0, 1);\n",
    " beta4 ~ normal(0, 1);\n",
    " beta5 ~ normal(0, 1);\n",
    " beta6 ~ normal(0, 1);\n",
    " beta7 ~ normal(0, 1);\n",
    " beta8 ~ normal(0, 1);\n",
    " beta9 ~ normal(0, 1);\n",
    " beta10 ~ normal(0, 1);\n",
    " beta11 ~ normal(0, 1);\n",
    " beta12 ~ normal(0, 1);\n",
    "}\n",
    "generated quantities {\n",
    "} // The posterior predictive distribution\",\n",
    "\n",
    "paste(\"stan_models/\",mname,\".stan\",sep=\"\"))"
   ]
  },
  {
   "cell_type": "code",
   "execution_count": null,
   "metadata": {
    "collapsed": true
   },
   "outputs": [],
   "source": [
    "## Simple linear regression, all variables:\n",
    "\n",
    "mname<-\"buckwheat_simple_log_parabolic_all_sc_iCAR_2\"\n",
    "### Define Stan model\n",
    "write(\"// Stan model for simple linear regression\n",
    "\n",
    "data {\n",
    " int < lower = 1 > N; // Sample size is an integer with the lowest value of 1 (i.e. positive)\n",
    " int<lower=0> N_edges;\n",
    " int<lower=1, upper=N> node1[N_edges];  // node1[i] adjacent to node2[i]\n",
    " int<lower=1, upper=N> node2[N_edges];  // and node1[i] < node2[i]\n",
    " vector[N] x1; // Predictor is a vector of the size of sample size\n",
    " vector[N] x2; // Predictor is a vector of the size of sample size\n",
    " vector[N] x3; // Predictor is a vector of the size of sample size\n",
    " vector[N] x4; // Predictor is a vector of the size of sample size\n",
    " vector[N] x5; // Predictor is a vector of the size of sample size\n",
    " vector[N] x6; // Predictor is a vector of the size of sample size\n",
    " vector[N] y; // Outcome is a vector of a size of sample size\n",
    "}\n",
    "\n",
    "parameters {\n",
    " real alpha; // Intercept is an unconstrained continous value\n",
    " real beta1; // Slope (regression coefficients) is an unconstrained continous value\n",
    " real beta2; // Slope (regression coefficients) is an unconstrained continous value\n",
    " real beta3; // Slope (regression coefficients) is an unconstrained continous value\n",
    " real beta4; // Slope (regression coefficients) is an unconstrained continous value\n",
    " real beta5; // Slope (regression coefficients) is an unconstrained continous value\n",
    " real beta6; // Slope (regression coefficients) is an unconstrained continous value\n",
    " real beta7; // Slope (regression coefficients) is an unconstrained continous value\n",
    " real beta8; // Slope (regression coefficients) is an unconstrained continous value\n",
    " real beta9; // Slope (regression coefficients) is an unconstrained continous value\n",
    " real beta10; // Slope (regression coefficients) is an unconstrained continous value\n",
    " real beta11; // Slope (regression coefficients) is an unconstrained continous value\n",
    " real beta12; // Slope (regression coefficients) is an unconstrained continous value\n",
    " real < lower = 0 > sigma; // Error SD is an unconstrained positive continous valeu\n",
    " vector[N] phi;         // spatial effects\n",
    "}\n",
    "\n",
    "model {\n",
    " log (y) ~ normal(alpha + x1 * beta1 + square(x1) * beta2 + x2 * beta3 + square(x2) * beta4 +\n",
    "                          x3 * beta5 + square(x3) * beta6 + x4 * beta7 + square(x4) * beta8 +\n",
    "                          x5 * beta9 + square(x5) * beta10 + x6 * beta11 + square(x6) *beta12 + phi, sigma); //this seem to declare the model\n",
    " target += -0.5 * dot_self(phi[node1] - phi[node2]); \n",
    " beta1 ~ normal(0, 1);\n",
    " beta2 ~ normal(0, 1);\n",
    " beta3 ~ normal(0, 1);\n",
    " beta4 ~ normal(0, 1);\n",
    " beta5 ~ normal(0, 1);\n",
    " beta6 ~ normal(0, 1);\n",
    " beta7 ~ normal(0, 1);\n",
    " beta8 ~ normal(0, 1);\n",
    " beta9 ~ normal(0, 1);\n",
    " beta10 ~ normal(0, 1);\n",
    " beta11 ~ normal(0, 1);\n",
    " beta12 ~ normal(0, 1);\n",
    " sigma ~ normal(0.0, 5.0);\n",
    " sum(phi) ~ normal(0, 0.001 * N);\n",
    "}\n",
    "generated quantities {\n",
    "} // The posterior predictive distribution\",\n",
    "\n",
    "paste(\"stan_models/\",mname,\".stan\",sep=\"\"))"
   ]
  },
  {
   "cell_type": "code",
   "execution_count": null,
   "metadata": {
    "collapsed": true
   },
   "outputs": [],
   "source": [
    "stan_data <- list(N = N, x1 = x1, y = y,x2=x2,x3=x3,x4=x4,x5=x5,x6=x6,N_edges=N_edges,node1=node1,node2=node2)"
   ]
  }
 ],
 "metadata": {
  "anaconda-cloud": {},
  "kernelspec": {
   "display_name": "R",
   "language": "R",
   "name": "ir"
  },
  "language_info": {
   "codemirror_mode": "r",
   "file_extension": ".r",
   "mimetype": "text/x-r-source",
   "name": "R",
   "pygments_lexer": "r",
   "version": "3.4.1"
  }
 },
 "nbformat": 4,
 "nbformat_minor": 1
}
