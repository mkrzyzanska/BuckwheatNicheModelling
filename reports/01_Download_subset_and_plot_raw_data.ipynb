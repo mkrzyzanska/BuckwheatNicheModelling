{
 "cells": [
  {
   "cell_type": "markdown",
   "metadata": {},
   "source": [
    "# Raw data extraction and visualisation\n",
    "\n",
    "The following code, extracts, load, visualizes, and subsets the data that will be used in the analysis.\n",
    "The code below sets up a workplaces and loads the required libraries:"
   ]
  },
  {
   "cell_type": "code",
   "execution_count": null,
   "metadata": {
    "collapsed": true
   },
   "outputs": [],
   "source": [
    "# Set up workspace and libraries:\n",
    "# Set working directory to the github folder:\n",
    "setwd(\"G:\\\\My Drive\\\\SDM_China\")\n",
    "# Load the required libraries\n",
    "library(raster)\n",
    "library(rgdal)\n",
    "## This is needed to get a quantile-based scale, to show variation in buckwheat production\n",
    "library(classInt)\n",
    "\n",
    "### This is needed to work with environmental layers provided as ncdf\n",
    "require(\"ncdf4\")\n",
    "require(\"lattice\")\n",
    "\n",
    "## Load utility functions that will be used in data processing:\n",
    "\n",
    "source(\"R\\\\extractRastersFromNetCDF.r\")"
   ]
  },
  {
   "cell_type": "markdown",
   "metadata": {},
   "source": [
    "## Data on the present distribution of buckwheat:\n",
    "\n",
    "Data on the present global production of buckwhat is available from EarthStat (http://www.earthstat.org/) and contains information on the volume of production, cultivated area and yield, as well as the quality of data. In the model it will be used as a proxy for the suitabiliy of environment for buckwheat cultivation and will define the response variable. The following code downloads the data from EarthStat and extracts the individual files from the archive. Then it also downloads and loads the files with the outline of the continenets, and with the administrative boundaried of China, to serve as a background for data visualisation."
   ]
  },
  {
   "cell_type": "code",
   "execution_count": null,
   "metadata": {
    "collapsed": true
   },
   "outputs": [],
   "source": [
    "### Define the paths to outputs:\n",
    "path2clipped_china<-\"data\\\\buckwheat_production\\\\clipped\\\\\"\n",
    "path2masked_china<-\"data\\\\buckwheat_production\\\\masked\\\\\"\n",
    "dir.create(path2clipped_china)\n",
    "dir.create(path2masked_china)\n",
    "path2world_production <- \"outputs\\\\01_02_World_buckwheat_production.tiff\"\n",
    "path2china_production <- \"outputs\\\\01_03_China_buckwheat_production.tiff\""
   ]
  },
  {
   "cell_type": "code",
   "execution_count": null,
   "metadata": {
    "collapsed": true
   },
   "outputs": [],
   "source": [
    "##### Download and extract data from earthstat\n",
    "# Define url of the zipped folder to download\n",
    "url <- \"https://s3.us-east-2.amazonaws.com/earthstatdata/HarvestedAreaYield175Crops_Indvidual_Geotiff/buckwheat_HarvAreaYield_Geotiff.zip\"\n",
    "# Define the directory to which the files will be extracted\n",
    "fname <- \"raw_data//buckwheat_HarvAreaYield_Geotiff\"\n",
    "# Download the zipped folder\n",
    "download.file(url,paste(fname,\".zip\",sep=\"\"), mode = \"wb\")\n",
    "# Unzip the folder and get the names of its contents:\n",
    "files <- unzip(paste(fname,\".zip\",sep=\"\"),exdir=\"raw_data\")\n",
    "# Removes the zipped folder:#\n",
    "file.remove(paste(fname,\".zip\",sep=\"\"))"
   ]
  },
  {
   "cell_type": "code",
   "execution_count": null,
   "metadata": {
    "collapsed": true
   },
   "outputs": [],
   "source": [
    "## Get all the Geotifs with buckwehat production\n",
    "### This loads the data\n",
    "#List all layers related to buckwheat production:\n",
    "layers<-list.files(path=fname,pattern='tif$',full.names=TRUE)\n",
    "#Stack all layers:\n",
    "prd<-stack(layers)\n",
    "#Define names of the layers:\n",
    "names <- c(\"Data quality: harvested area\",\"Data quality: yield\",\"Harvested area: fractional\",\"Harvested area: hectares\",\n",
    "            \"Production in tons\",\"Yield (tons per hectare)\")"
   ]
  },
  {
   "cell_type": "code",
   "execution_count": null,
   "metadata": {
    "collapsed": true,
    "scrolled": true
   },
   "outputs": [],
   "source": [
    "### Download the data about the administrative division of China, so that it can be used to subset the raster maps\n",
    "url<-\"http://biogeo.ucdavis.edu/data/diva/adm/CHN_adm.zip\"\n",
    "# Define the directory to which the files will be extracted\n",
    "fname <- \"raw_data//CHN_adm\"\n",
    "# Download the zipped folder\n",
    "download.file(url,paste(fname,\".zip\",sep=\"\"), mode = \"wb\")\n",
    "# Unzip the folder and get the names of its contents:\n",
    "dir.create(fname)\n",
    "files <- unzip(paste(fname,\".zip\",sep=\"\"),exdir=fname)\n",
    "# Removes the zipped folder:#\n",
    "file.remove(paste(fname,\".zip\",sep=\"\"))"
   ]
  },
  {
   "cell_type": "code",
   "execution_count": null,
   "metadata": {
    "collapsed": true
   },
   "outputs": [],
   "source": [
    "### Load the shapefile with the borer of China\n",
    "china <- readOGR(dsn = fname, layer = \"CHN_adm0\")"
   ]
  },
  {
   "cell_type": "code",
   "execution_count": null,
   "metadata": {
    "collapsed": true
   },
   "outputs": [],
   "source": [
    "### Download the shapefile of the continents as well:\n",
    "url<-\"https://www.naturalearthdata.com/http//www.naturalearthdata.com/download/50m/physical/ne_50m_land.zip\"\n",
    "fname <- \"raw_data//ne_50m_land\"\n",
    "# Download the zipped folder\n",
    "download.file(url,paste(fname,\".zip\",sep=\"\"), mode = \"wb\")\n",
    "# Unzip the folder and get the names of its contents:\n",
    "dir.create(fname)\n",
    "files <- unzip(paste(fname,\".zip\",sep=\"\"),exdir=fname)\n",
    "# Removes the zipped folder:#\n",
    "file.remove(paste(fname,\".zip\",sep=\"\"))"
   ]
  },
  {
   "cell_type": "code",
   "execution_count": null,
   "metadata": {
    "collapsed": true
   },
   "outputs": [],
   "source": [
    "continents <- readOGR(dsn = fname, layer = \"ne_50m_land\")"
   ]
  },
  {
   "cell_type": "code",
   "execution_count": null,
   "metadata": {
    "collapsed": true
   },
   "outputs": [],
   "source": [
    "#This prepares data for visualisation\n",
    "## Define breakpoints for each of the map scales\n",
    "breakpoints <- lapply(as.list(prd),function(x){return(classIntervals(x[!is.na(x)], n = 50, style = \"quantile\"))})\n",
    "#Transform the shapefile with continents for visualisation\n",
    "#continents <- spTransform(continents, crs(prd))\n",
    "#Make a color palette for visualisation\n",
    "pal <- colorRampPalette(c(\"lightyellow\",\"orange\",\"brown\"))\n",
    "my_col = pal(10)"
   ]
  },
  {
   "cell_type": "code",
   "execution_count": null,
   "metadata": {
    "collapsed": true
   },
   "outputs": [],
   "source": [
    "#tiff(path2world_production, units=\"in\", width=7, height=8, res=600,bg = \"transparent\")\n",
    "#### Plot data quality on the map with countries boarders:\n",
    "par(mfrow=c(3,2), mar=c(0,1,1,2), oma=c(0,0,0,1), xpd=NA)\n",
    "\n",
    "# First map\n",
    "#Define the map to plot\n",
    "for(i in 1:6){\n",
    "    map<-prd[[i]]\n",
    "    #Define the breakpoints:\n",
    "    bp<-unique(breakpoints[[i]]$brks)\n",
    "    #Plot data quality:\n",
    "    if(grepl(\"quality\",names(map),ignore.case=TRUE)){\n",
    "        plot(map,main=names[i],axes=FALSE,box=FALSE,legend=FALSE,ext=c(-180,180,-55,90),\n",
    "             col = c(\"white\",my_col[seq(1,10,length.out=4)]))\n",
    "        #legend(x='topright', legend = c(\"No data\", \"country\", \"interpolated\\n(within 2°\\n lat/lon)\",\n",
    "        #\"state\",\"county\"), fill = c(\"white\",my_col[seq(1,10,length.out=4)]), horiz=FALSE,\n",
    "        # cex=0.8, inset=c(-0.32,0.1),xpd=TRUE, title=\"Level of\\ncensus data\",bty=\"n\",title.adj=0.1)\n",
    "        plot(continents,add=TRUE, lwd=0.01,border=\"grey80\", lwd=1)\n",
    "    }else{\n",
    "        #Plot production\n",
    "        plot(map,main=names[i],axes=FALSE,box=FALSE,legend=FALSE,ext=c(-180,180,-55,90),breaks=bp,col = my_col)\n",
    "        #Define breaks on the scale\n",
    "        br<-seq(cellStats(map,min),cellStats(map,max),length.out=length(bp))\n",
    "        plot(map,legend.only=TRUE, add=TRUE,col = my_col,breaks=br,\n",
    "        axis.args=list(at=br,labels=signif(bp,digits=1)), smallplot=c(0.9,0.915, 0.05,0.8))\n",
    "        plot(continents,add=TRUE, lwd=0.01,border=\"grey80\", lwd=1)\n",
    "    }\n",
    "}\n",
    "plot(1, type = \"n\", axes=FALSE, xlab=\"\", ylab=\"\")\n",
    "legend(x='topright', legend = c(\"No data\", \"country\", \"interpolated\\n(within 2°\\n lat/lon)\",\n",
    "         \"state\",\"county\"), fill = c(\"white\",my_col[seq(1,10,length.out=4)]), horiz=TRUE,\n",
    "         cex=0.8, inset=c(-0.5,0),xpd=TRUE, title=\"Level of\\ncensus data\",bty=\"n\",title.adj=0.1)\n",
    "        plot(continents,add=TRUE, lwd=0.01,border=\"grey80\", lwd=1)\n",
    "\n",
    "#dev.off()"
   ]
  },
  {
   "cell_type": "code",
   "execution_count": null,
   "metadata": {
    "collapsed": true
   },
   "outputs": [],
   "source": [
    "# Note that is has the same projection as the prd maps, so it does not need to be reprojected\n",
    "# Clip the data to the extent of china\n",
    "clipped_prd<-crop(prd, extent(china), snap=\"out\")\n",
    "### Save clipped data as GeoTiffs:\n",
    "writeRaster(clipped_prd,filename=paste(path2clipped_china,names(prd),\".tif\",sep=\"\"),format=\"GTiff\", overwrite=TRUE,bylayer=TRUE)\n",
    "### Mask the data to the borders of China\n",
    "masked_prd<-mask(clipped_prd, china)\n",
    "writeRaster(masked_prd,filename=paste(path2masked_china,names(prd),\".tif\",sep=\"\"),format=\"GTiff\", overwrite=TRUE,bylayer=TRUE)"
   ]
  },
  {
   "cell_type": "code",
   "execution_count": null,
   "metadata": {
    "collapsed": true
   },
   "outputs": [],
   "source": [
    "#nn=2\n",
    "#path2image<-paste(\"images//01_\",nn,\"_buckwheat_production_clipped.png\",sep=\"\")\n",
    "#png(path2image, units=\"in\", width=8, height=6.72, res=1200)\n",
    "#### Plot data quality on the map with countries boarders:\n",
    "par(mfrow=c(3,2), mar=c(0,2,2,2), oma=c(2,0,2,0), xpd=NA)\n",
    "\n",
    "# First map\n",
    "#Define the map to plot\n",
    "for(i in 1:6){\n",
    "    map<-clipped_prd[[i]]\n",
    "    #Define the breakpoints:\n",
    "    bp<-unique(breakpoints[[i]]$brks)\n",
    "    #Plot data quality:\n",
    "    if(grepl(\"quality\",names(map),ignore.case=TRUE)){\n",
    "        plot(map,main=names[i],axes=FALSE,box=FALSE,legend=FALSE,ext=extent(china),\n",
    "             col = c(\"white\",my_col[seq(1,10,length.out=4)]))\n",
    "        legend(x='topright', legend = c(\"No data\", \"country\", \"interpolated\\n(within 2°\\nlat/lon)\",\n",
    "         \"state\",\"county\"), fill = c(\"white\",my_col[seq(1,10,length.out=4)]), horiz=FALSE,\n",
    "         cex=0.8, inset=c(-0.15,0),xpd=TRUE, title=\"Level of\\ncensus data\",bty=\"n\",title.adj=0.1)\n",
    "        plot(borders_cropped,add=TRUE, lwd=0.01,border=\"grey80\", lwd=1)\n",
    "    }else{\n",
    "        #Plot production\n",
    "        plot(map,main=names[i],axes=FALSE,box=FALSE,legend=FALSE,ext=extent(china),breaks=bp,col = my_col)\n",
    "        #Define breaks on the scale\n",
    "        br<-seq(cellStats(map,min),cellStats(map,max),length.out=length(bp))\n",
    "        plot(map,legend.only=TRUE, add=TRUE,col = my_col,breaks=br,\n",
    "        axis.args=list(at=br,labels=signif(bp,digits=1)), smallplot=c(0.9,0.915, 0.05,0.8))\n",
    "        plot(borders_cropped,add=TRUE, lwd=0.01,border=\"grey80\", lwd=1)\n",
    "    }\n",
    "}\n",
    "\n",
    "#dev.off()"
   ]
  },
  {
   "cell_type": "code",
   "execution_count": null,
   "metadata": {
    "collapsed": true
   },
   "outputs": [],
   "source": [
    "nn=3\n",
    "path2image<-paste(\"images//01_\",nn,\"_buckwheat_production_china.png\",sep=\"\")\n",
    "png(path2image, units=\"in\", width=8, height=6.72, res=1200)\n",
    "#### Plot data quality on the map with countries boarders:\n",
    "par(mfrow=c(3,2), mar=c(0,2,2,2), oma=c(2,0,2,0), xpd=NA)\n",
    "#Define the map to plot\n",
    "for(i in 1:6){\n",
    "    map<-masked_prd[[i]]\n",
    "    #Define the breakpoints:\n",
    "    bp<-unique(breakpoints[[i]]$brks)\n",
    "    #Plot data quality:\n",
    "    if(grepl(\"quality\",names(map),ignore.case=TRUE)){\n",
    "        plot(map,main=names[i],axes=FALSE,box=FALSE,legend=FALSE,ext=extent(china),\n",
    "             col = c(\"white\",my_col[seq(1,10,length.out=4)]))\n",
    "        legend(x='topright', legend = c(\"No data\", \"country\", \"interpolated\\n(within 2°\\nlat/lon)\",\n",
    "         \"state\",\"county\"), fill = c(\"white\",my_col[seq(1,10,length.out=4)]), horiz=FALSE,\n",
    "         cex=0.8, inset=c(-0.15,0),xpd=TRUE, title=\"Level of\\ncensus data\",bty=\"n\",title.adj=0.1)\n",
    "        plot(china,add=TRUE, lwd=0.01,border=\"grey80\", lwd=1)\n",
    "    }else{\n",
    "        #Plot production\n",
    "        plot(map,main=names[i],axes=FALSE,box=FALSE,legend=FALSE,ext=extent(china),breaks=bp,col = my_col)\n",
    "        #Define breaks on the scale\n",
    "        br<-seq(cellStats(map,min),cellStats(map,max),length.out=length(bp))\n",
    "        plot(map,legend.only=TRUE, add=TRUE,col = my_col,breaks=br,\n",
    "        axis.args=list(at=br,labels=signif(bp,digits=1)), smallplot=c(0.9,0.915, 0.05,0.8))\n",
    "        plot(china,add=TRUE, lwd=0.01,border=\"grey80\", lwd=1)\n",
    "    }\n",
    "}\n",
    "\n",
    "dev.off()"
   ]
  },
  {
   "cell_type": "markdown",
   "metadata": {},
   "source": [
    "## Extracting climate data data for the past 6000K\n",
    "\n",
    "Data on the climatic conditions for the past 120 000 years is available from https://figshare.com/s/f098cc85074722ec4930). It has been published alongside the paper () and will be used to define predictor variables in the model. The following coded downloads the data, extracts them from the archive, extract relavant layers from the NetCDF file and saves them as tiff files for easier access."
   ]
  },
  {
   "cell_type": "code",
   "execution_count": null,
   "metadata": {
    "collapsed": true
   },
   "outputs": [],
   "source": [
    "### Define the path to the table with full names of the environmental variables:\n",
    "path2env_table<-\"G:\\\\My Drive\\\\SDM_China\\\\outputs\\\\01_Predictor_variables.csv\""
   ]
  },
  {
   "cell_type": "code",
   "execution_count": null,
   "metadata": {
    "collapsed": true
   },
   "outputs": [],
   "source": [
    "# Preparing environmental data for 6 time slices from Mid-Holocene to the present:\n",
    "## The code below downloads the zipped folder containing data on the late Plaistocene and Holocene climate, bioclimate and vegetation\n",
    "## from figshare (https://figshare.com/s/f098cc85074722ec4930). Data have been published alongside the paper: ()\n",
    "## Then, it unzips the folder, deletes the original archive, loads extracted NetCDF file, selects the relavant layers\n",
    "## and saves them as separate files:\n",
    "##### Download and extract data\n",
    "# Define url of the zipped folder to download\n",
    "url <- \"https://ndownloader.figshare.com/articles/8327081?private_link=f098cc85074722ec4930\"\n",
    "# Define the directory to which the files will be extracted\n",
    "fname <- \"raw_data//8327081\"\n",
    "# Download the zipped folder\n",
    "download.file(url,paste(fname,\".zip\",sep=\"\"), mode = \"wb\")\n",
    "# Unzip the folder and get the names of its contents:\n",
    "files <- unzip(file, exdir=fname)\n",
    "# Removes the zipped folder:\n",
    "file.remove(paste(fname,\".zip\",sep=\"\"))"
   ]
  },
  {
   "cell_type": "code",
   "execution_count": null,
   "metadata": {
    "collapsed": true
   },
   "outputs": [],
   "source": [
    "### The following code extracts the relevant layers from NetCDF and saves them as raster:\n",
    "##### Open the NetCDF file and extract data\n",
    "## This opens the env_nc file, in order to get the names of the variables that are stored there\n",
    "##  and summarizes the time dimension of the data\n",
    "env_nc <- ncdf4::nc_open(files[1])\n",
    "# This extracts the availabe variable names:\n",
    "var_names <- names(env_nc$var)\n",
    "## Get the times units\n",
    "env_nc$dim$time$units\n",
    "str(env_nc$dim$time$vals)"
   ]
  },
  {
   "cell_type": "code",
   "execution_count": null,
   "metadata": {
    "collapsed": true
   },
   "outputs": [],
   "source": [
    "### Prepare the table with the shortcuts of environmental variables and their full names:\n",
    "short_name <-var_names[c(9,11:27)]\n",
    "full_name <-c(\"Net Primary Production\",'BIO1 Annual Mean Temperature',\n",
    "                'BIO4 Temperature Seasonality', \n",
    "                'BIO5 Max Temperature of Warmest Month',\n",
    "                'BIO6 Min Temperature of Coldest Month', \n",
    "               'BIO7 Temperature Annual Range', \n",
    "               'BIO8 Mean Temperature of Wettest Quarter',\n",
    "               'BIO9 Mean Temperature of Driest Quarter',\n",
    "               'BIO10 Mean Temperature of Warmest Quarter', \n",
    "               'BIO11 Mean Temperature of Coldest Quarter', \n",
    "               'BIO12 Annual Precipitation', \n",
    "               'BIO13 Precipitation of Wettest Month', \n",
    "              'BIO14 Precipitation of Driest Month',\n",
    "              'BIO15 Precipitation Seasonality',\n",
    "               'BIO16 Precipitation of Wettest Quarter',\n",
    "               'BIO17 Precipitation of Driest Quarter', \n",
    "               'BIO18 Precipitation of Warmest Quarter',\n",
    "               'BIO19 Precipitation of Coldest Quarter')\n",
    "env_table <- cbind(short_name, full_name)\n",
    "write.csv(env_table, file=path2env_table,row.names=FALSE)"
   ]
  },
  {
   "cell_type": "code",
   "execution_count": null,
   "metadata": {
    "collapsed": true
   },
   "outputs": [],
   "source": [
    "env_table<-read.csv(path2env_table)"
   ]
  },
  {
   "cell_type": "code",
   "execution_count": null,
   "metadata": {
    "collapsed": true
   },
   "outputs": [],
   "source": [
    "##### This creates the raster stack for the first variable for each of the time periods:\n",
    "path2file<- files[1]\n",
    "nslices<-6\n",
    "area<-china\n",
    "#### This extracts the relevan layers from the NetCDF file, using the utility function provided in this repository\n",
    "lapply(var_names,extractRastersFromNetCDF,path2file=path2file, nslices=nslices,area=area,present=TRUE )"
   ]
  },
  {
   "cell_type": "markdown",
   "metadata": {},
   "source": [
    "## Plot locations of past fagopyrum macro and microremains\n",
    "\n",
    "The dataset with the locations of fagopyrum macro and micro remains from the past, was complied by ... . The original dataset was supplemented with additional information published since then in a csv file ' '  provided in this repository. The code below plots the data to create figure ... in the paper."
   ]
  },
  {
   "cell_type": "code",
   "execution_count": null,
   "metadata": {
    "collapsed": true
   },
   "outputs": [],
   "source": [
    "### Fagopyrum locations for China:\n",
    "#Import the table for Fagopyrum occurance records, based on (Hunt et al., 2017) and further evidence from the literature\n",
    "loc_ea <- read.csv(\"raw_data//fagopyrum_east_asia.csv\")\n",
    "# Trnsforma data into a spatial points data.frame\n",
    "coordinates(loc_ea)<-~longitude+latitude"
   ]
  },
  {
   "cell_type": "code",
   "execution_count": null,
   "metadata": {
    "collapsed": true
   },
   "outputs": [],
   "source": [
    "nn=2\n",
    "path2image<-paste(\"images//_0\",nn,\"_absence_records.png\",sep=\"\")\n",
    "png(path2image, units=\"in\", width=6, height=4, res=600)\n",
    "\n",
    "#### Plot data quality on the map with countries boarders:\n",
    "borders_cropped <- crop(borders, c(40,190,-10,80))\n",
    "par(mfrow=c(2,2), mar=c(0,2,2,2), oma=c(2,0,2,0), xpd=NA)\n",
    "plot(borders_cropped,border=\"grey80\", lwd=1,col=\"lightyellow\", main=\"Pollen cores\",cex.main=0.8)\n",
    "points(cao2015,col=\"black\",pch=16,cex=0.7)\n",
    "points(cao2019,col=\"red\",pch=16,cex=0.4)\n",
    "\n",
    "plot(borders_cropped,border=\"grey80\", lwd=1,col=\"lightyellow\", main=\"Archaeological sites in China\",cex.main=0.8)\n",
    "points(hosner2016,col=\"black\",pch=16,cex=0.2)\n",
    "points(shaanxi,col=\"red\",pch=16,cex=0.1)\n",
    "\n",
    "plot(borders_cropped,border=\"grey80\", lwd=1,col=\"lightyellow\", main=\"Archaeological sites\\nwith archaebotanical remains\",\n",
    "    cex.main=0.8)\n",
    "points(gb2018,col=\"black\",pch=16,cex=0.6)\n",
    "points(rice,col=\"red\",pch=16,cex=0.2)\n",
    "\n",
    "#plot(borders_cropped,border=\"grey80\", lwd=1,col=\"lightyellow\", main=\"Archaeological sites\\nwith archaebotanical remains\")\n",
    "#points(loc_ea,pch=16,col=\"black\",cex=0.5)\n",
    "\n",
    "dev.off()"
   ]
  }
 ],
 "metadata": {
  "anaconda-cloud": {},
  "kernelspec": {
   "display_name": "R",
   "language": "R",
   "name": "ir"
  },
  "language_info": {
   "codemirror_mode": "r",
   "file_extension": ".r",
   "mimetype": "text/x-r-source",
   "name": "R",
   "pygments_lexer": "r",
   "version": "3.5.3"
  }
 },
 "nbformat": 4,
 "nbformat_minor": 1
}
